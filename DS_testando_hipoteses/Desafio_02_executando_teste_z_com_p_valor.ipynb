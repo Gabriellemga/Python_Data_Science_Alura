{
  "nbformat": 4,
  "nbformat_minor": 0,
  "metadata": {
    "colab": {
      "provenance": [],
      "authorship_tag": "ABX9TyP3NAUppUQPQAT9CxsLPbtJ",
      "include_colab_link": true
    },
    "kernelspec": {
      "name": "python3",
      "display_name": "Python 3"
    },
    "language_info": {
      "name": "python"
    }
  },
  "cells": [
    {
      "cell_type": "markdown",
      "metadata": {
        "id": "view-in-github",
        "colab_type": "text"
      },
      "source": [
        "<a href=\"https://colab.research.google.com/github/Gabriellemga/Python_Data_Science_Alura/blob/main/DS_testando_hipoteses/Desafio_02_executando_teste_z_com_p_valor.ipynb\" target=\"_parent\"><img src=\"https://colab.research.google.com/assets/colab-badge.svg\" alt=\"Open In Colab\"/></a>"
      ]
    },
    {
      "cell_type": "markdown",
      "source": [
        "# Caso TechTaste"
      ],
      "metadata": {
        "id": "f4OerQgITVYp"
      }
    },
    {
      "cell_type": "markdown",
      "source": [
        "Continuando com a consultoria na TechTaste, a cliente deseja avaliar a eficácia da nova IA aplicada no chat de atendimento ao cliente. Durante o período de teste, ela recebeu diversas avaliações e feedbacks. Segundo estimativas elaboradas antes do lançamento do chat, na primeira fase do teste, a média de avaliações deve ser igual a 30. Mas depois do lançamento, a TechTaste não conseguiu avaliar se suas estimativas estavam corretas.\n",
        "\n",
        "Para verificar se a estimativa formulada antes do lançamento do chat com IA está certa, a equipe de consultoria separou, novamente, algumas etapas:\n",
        "\n",
        "1-Calcule a média amostral das avaliações.\n",
        "\n",
        "2-Formule hipóteses para o problema da empresa.\n",
        "\n",
        "3-Estabelecidos o nível de confiança em 95% e o desvio padrão populacional em 2.65, verifique se a média da amostra está definida dentro do intervalo de confiança da hipótese nula.\n",
        "\n",
        "4-O que é possível entender a partir do resultado da etapa anterior?\n",
        "Utilize o Teste Z para calcular o valor da Estatística Z e o p-valor para o problema da TechTaste.\n",
        "\n",
        "6-Pelos resultados anteriores, a hipótese nula formulada é rejeitada ou não rejeitada? Explique o que justifica sua decisão."
      ],
      "metadata": {
        "id": "R22p_bDVTZvG"
      }
    },
    {
      "cell_type": "code",
      "execution_count": 1,
      "metadata": {
        "id": "LnA_EY4ZS384"
      },
      "outputs": [],
      "source": [
        "import pandas as pd\n",
        "import numpy as np\n",
        "import matplotlib.pyplot as plt\n",
        "import seaborn as sns\n",
        "from scipy import stats\n",
        "\n",
        "# Conjunto de dados TechTaste\n",
        "df_techtaste = pd.DataFrame({'avaliacoes': [38, 44, 33, 42, 47, 33, 36, 39, 42, 36, 39, 34, 42, 42, 36, 43, 31, 35, 36, 41, 42, 30, 25, 38, 47, 36, 32, 45, 44, 45, 37, 48, 37, 36, 44, 49, 31, 45, 45, 40, 36, 50, 38, 34, 36, 42, 46, 49, 36, 34, 38, 31, 53, 40, 57, 40, 36, 42, 26, 50, 32, 43, 35, 37, 42, 30, 36, 43, 40, 43, 44, 52, 37, 51, 35, 47, 40, 50, 37, 49]})"
      ]
    },
    {
      "cell_type": "code",
      "source": [
        "# media amostral\n",
        "media = df_techtaste['avaliacoes'].mean()\n",
        "media"
      ],
      "metadata": {
        "colab": {
          "base_uri": "https://localhost:8080/"
        },
        "id": "zPcclC0RTyVj",
        "outputId": "c3a9257d-29ad-44f9-c721-4b2cd9aaabb0"
      },
      "execution_count": 2,
      "outputs": [
        {
          "output_type": "execute_result",
          "data": {
            "text/plain": [
              "np.float64(40.025)"
            ]
          },
          "metadata": {},
          "execution_count": 2
        }
      ]
    },
    {
      "cell_type": "code",
      "source": [
        "# hipotese nula\n",
        "hipotese = 30"
      ],
      "metadata": {
        "id": "JXIJDSSlUPET"
      },
      "execution_count": 4,
      "outputs": []
    },
    {
      "cell_type": "code",
      "source": [
        "# calculo do IC\n",
        "confianca = 0.95\n",
        "desvio_padrao = 2.65\n",
        "tamanho_amostra = len(df_techtaste)\n",
        "\n",
        "intervalo = stats.norm.interval(confianca,\n",
        "                                loc = hipotese,\n",
        "                                scale = desvio_padrao/np.sqrt(tamanho_amostra))\n",
        "\n",
        "print('IC(95%):', intervalo)"
      ],
      "metadata": {
        "colab": {
          "base_uri": "https://localhost:8080/"
        },
        "id": "fkyfiAZCUdfC",
        "outputId": "903acc8e-147b-41b9-8473-def2c468d007"
      },
      "execution_count": 6,
      "outputs": [
        {
          "output_type": "stream",
          "name": "stdout",
          "text": [
            "IC(95%): (np.float64(29.419303816868016), np.float64(30.580696183131984))\n"
          ]
        }
      ]
    },
    {
      "cell_type": "code",
      "source": [
        "# calculo ztest\n",
        "\n",
        "from statsmodels.stats.weightstats import ztest\n",
        "\n",
        "stats, p_valor = ztest(x1 = df_techtaste['avaliacoes'], value = 30, alternative = 'two-sided')\n",
        "\n",
        "print(stats, p_valor)"
      ],
      "metadata": {
        "colab": {
          "base_uri": "https://localhost:8080/"
        },
        "id": "oR6V6LkAVtAb",
        "outputId": "f66889ca-377f-4e3a-882a-02d2446bf627"
      },
      "execution_count": 9,
      "outputs": [
        {
          "output_type": "stream",
          "name": "stdout",
          "text": [
            "13.96274198988354 2.6311293593122384e-44\n"
          ]
        }
      ]
    },
    {
      "cell_type": "code",
      "source": [
        "if p_valor < 0.05:\n",
        "    conclusao = 'Rejeitar a hipótese nula'\n",
        "else:\n",
        "    conclusao = 'Não rejeita a hipótese nula'\n",
        "\n",
        "print('Conclusão:', conclusao)"
      ],
      "metadata": {
        "colab": {
          "base_uri": "https://localhost:8080/"
        },
        "id": "Rs9HRhzLY-Wd",
        "outputId": "353df9a0-95a3-4ef5-a0f3-e57ef2a5bc44"
      },
      "execution_count": 10,
      "outputs": [
        {
          "output_type": "stream",
          "name": "stdout",
          "text": [
            "Conclusão: Rejeitar a hipótese nula\n"
          ]
        }
      ]
    }
  ]
}