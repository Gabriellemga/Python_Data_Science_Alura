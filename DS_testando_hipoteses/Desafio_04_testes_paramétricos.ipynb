{
  "nbformat": 4,
  "nbformat_minor": 0,
  "metadata": {
    "colab": {
      "provenance": [],
      "authorship_tag": "ABX9TyMUpyIwnPPb5iZCqBWIOlVl",
      "include_colab_link": true
    },
    "kernelspec": {
      "name": "python3",
      "display_name": "Python 3"
    },
    "language_info": {
      "name": "python"
    }
  },
  "cells": [
    {
      "cell_type": "markdown",
      "metadata": {
        "id": "view-in-github",
        "colab_type": "text"
      },
      "source": [
        "<a href=\"https://colab.research.google.com/github/Gabriellemga/Python_Data_Science_Alura/blob/main/DS_testando_hipoteses/Desafio_04_testes_param%C3%A9tricos.ipynb\" target=\"_parent\"><img src=\"https://colab.research.google.com/assets/colab-badge.svg\" alt=\"Open In Colab\"/></a>"
      ]
    },
    {
      "cell_type": "markdown",
      "source": [
        "# Primeiro caso Zoop Megastore"
      ],
      "metadata": {
        "id": "f4OerQgITVYp"
      }
    },
    {
      "cell_type": "markdown",
      "source": [
        "A Zoop está implementando um novo programa de treinamento para a equipe de vendas e deseja avaliar se ele resultou em um aumento nas vendas médias obtidas pelos vendedores e vendedoras. O experimento envolveu medir os valores de vendas de cada pessoa vendedora antes e depois do treinamento.\n",
        "\n",
        "Para descobrir se o novo programa realmente auxiliou nas vendas, será preciso aplicar um teste de hipóteses e avaliá-lo. Para verificar o desempenho das vendas, a equipe de analistas ordenou as etapas para tomada de decisão:\n",
        "\n",
        "1-Defina a natureza das amostras. Temos um caso de amostra independente ou pareada?\n",
        "\n",
        "2-Formule uma hipótese para o primeiro caso da Zoop Megastore.\n",
        "\n",
        "3-Aplique um teste paramétrico para tomar a decisão da hipótese.\n",
        "\n",
        "4-Pelos resultados anteriores, a hipótese nula formulada é rejeitada ou não rejeitada? Explique o que justifica sua decisão."
      ],
      "metadata": {
        "id": "R22p_bDVTZvG"
      }
    },
    {
      "cell_type": "code",
      "source": [
        "import pandas as pd\n",
        "\n",
        "df_equipe_vendas = pd.DataFrame({'Vendedor': [ 'Luíza', 'Bia', 'Rodrigo', 'Allan', 'Evaldo'],\n",
        "                                 'Vendas Antes (R$)': [252.72, 203.91, 307.32, 185.78, 220.5],\n",
        "                                 'Vendas Depois (R$)': [285.1, 223.15, 324.41, 202.23, 240.63]})"
      ],
      "metadata": {
        "id": "ADg0_H7R105F"
      },
      "execution_count": 38,
      "outputs": []
    },
    {
      "cell_type": "code",
      "source": [
        "# As amostras são pareadas pois foram coletadas apartir do mesmo grupo de trabalhadores e trabalhadoras em momentos diferentes."
      ],
      "metadata": {
        "id": "UHl3ec2K13GJ"
      },
      "execution_count": null,
      "outputs": []
    },
    {
      "cell_type": "code",
      "source": [
        "# formulação de hipoteses\n",
        "H0: μd = 0\n",
        "H1: μd != 0"
      ],
      "metadata": {
        "id": "YzMuLDta15yb"
      },
      "execution_count": null,
      "outputs": []
    },
    {
      "cell_type": "code",
      "source": [
        "# teste de hipotese\n",
        "\n",
        "from scipy.stats import ttest_rel\n",
        "\n",
        "stats, p_valor = ttest_rel (df_equipe_vendas['Vendas Antes (R$)'], df_equipe_vendas['Vendas Depois (R$)'])\n",
        "print(p_valor)"
      ],
      "metadata": {
        "colab": {
          "base_uri": "https://localhost:8080/"
        },
        "id": "dh9FoaSt19Qj",
        "outputId": "ca5e5a47-b426-4c3e-b66c-b1d04abd8f43"
      },
      "execution_count": 39,
      "outputs": [
        {
          "output_type": "stream",
          "name": "stdout",
          "text": [
            "0.0019344230773580572\n"
          ]
        }
      ]
    },
    {
      "cell_type": "code",
      "source": [
        "alpha = 0.05\n",
        "if p_valor < alpha:\n",
        "    print(\"Rejeitar a hipótese nula: Há evidências de que o treinamento tem um efeito positivo nas vendas.\")\n",
        "else:\n",
        "    print(\"Não rejeita hipótese nula: Não há evidências suficientes para afirmar um efeito positivo nas vendas devido o treinamento.\")\n",
        "\n",
        "    # Rejeitar a hipótese nula: Há evidências de que o treinamento tem um efeito positivo nas vendas."
      ],
      "metadata": {
        "colab": {
          "base_uri": "https://localhost:8080/"
        },
        "id": "3ZW0Kwjx1_I8",
        "outputId": "943ec7ac-bfc3-47e0-f44f-8d0b9b931f63"
      },
      "execution_count": 40,
      "outputs": [
        {
          "output_type": "stream",
          "name": "stdout",
          "text": [
            "Rejeitar a hipótese nula: Há evidências de que o treinamento tem um efeito positivo nas vendas.\n"
          ]
        }
      ]
    },
    {
      "cell_type": "markdown",
      "source": [
        "# Segundo caso Zoop Megastore"
      ],
      "metadata": {
        "id": "ZdvCKsG-2CJa"
      }
    },
    {
      "cell_type": "markdown",
      "source": [
        "Além das vendas, a Zoop também gostaria de realizar um estudo sobre a satisfação do cliente em duas filiais diferentes que abriram recentemente. O objetivo é determinar se há uma diferença significativa na pontuação média de satisfação do cliente entre as filiais.\n",
        "\n",
        "Buscando entender se há uma diferença estatisticamente significativa nas pontuações de satisfação entre as duas filiais e, assim, tomar decisões, a equipe de analistas ordenou algumas etapas a se seguir:\n",
        "\n",
        "1-Defina a natureza das amostras. Temos um caso de amostra independente ou pareada?\n",
        "\n",
        "2-Formule uma hipótese para o segundo caso da Zoop Megastore.\n",
        "\n",
        "3-Aplique um teste paramétrico para tomar a decisão da hipótese.\n",
        "\n",
        "4-Pelos resultados anteriores, a hipótese nula formulada é rejeitada ou não rejeitada? Explique o que justifica sua decisão.\n"
      ],
      "metadata": {
        "id": "gnRcgxc32F3o"
      }
    },
    {
      "cell_type": "code",
      "source": [
        "import pandas as pd\n",
        "\n",
        "df_filiais = pd.DataFrame({'Filial Centro-Norte': [3.2, 2.9, 2.0, 3.3, 3.1],\n",
        "                           'Filial Sul': [3.8, 4.0, 4.7, 4.9, 4.8]})"
      ],
      "metadata": {
        "id": "sigZvjnY2RK8"
      },
      "execution_count": 41,
      "outputs": []
    },
    {
      "cell_type": "code",
      "source": [
        "# As amostras são independentes pois as amostras foram coletadas de duas filias diferentes e não possuem nenhuma relação."
      ],
      "metadata": {
        "id": "KQLqQIPc2TQj"
      },
      "execution_count": null,
      "outputs": []
    },
    {
      "cell_type": "code",
      "source": [
        "# formulação de hipoteses\n",
        "\n",
        "H0 : media filial centro-norte = media filial sul\n",
        "H1 : media filial centro-norte != media filial sul"
      ],
      "metadata": {
        "id": "FMarXq362Vfk"
      },
      "execution_count": null,
      "outputs": []
    },
    {
      "cell_type": "code",
      "source": [
        "#teste t para amostras independentes (ttest_ind)\n",
        "\n",
        "from scipy.stats import ttest_ind\n",
        "\n",
        "stats, p_valor = ttest_ind (df_filiais['Filial Centro-Norte'], df_filiais['Filial Sul'])\n",
        "print(p_valor)"
      ],
      "metadata": {
        "colab": {
          "base_uri": "https://localhost:8080/"
        },
        "id": "2XBsze_x2Xgz",
        "outputId": "859fe331-c039-46c1-9629-e23d5b298cf5"
      },
      "execution_count": 42,
      "outputs": [
        {
          "output_type": "stream",
          "name": "stdout",
          "text": [
            "0.001465798816319686\n"
          ]
        }
      ]
    },
    {
      "cell_type": "code",
      "source": [
        "alpha = 0.05\n",
        "if p_valor < alpha:\n",
        "    print(\"Rejeitar a hipótese nula.\")\n",
        "else:\n",
        "    print(\"Não rejeita hipótese nula.\")"
      ],
      "metadata": {
        "colab": {
          "base_uri": "https://localhost:8080/"
        },
        "id": "QSgH7rQy2aQb",
        "outputId": "7ca622a0-90aa-452a-b264-a40789013e43"
      },
      "execution_count": 43,
      "outputs": [
        {
          "output_type": "stream",
          "name": "stdout",
          "text": [
            "Rejeitar a hipótese nula.\n"
          ]
        }
      ]
    }
  ]
}