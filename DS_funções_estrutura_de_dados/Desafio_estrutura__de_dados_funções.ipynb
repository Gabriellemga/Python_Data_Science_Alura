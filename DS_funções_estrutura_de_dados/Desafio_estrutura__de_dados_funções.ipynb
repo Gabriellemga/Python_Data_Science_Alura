{
  "nbformat": 4,
  "nbformat_minor": 0,
  "metadata": {
    "colab": {
      "provenance": [],
      "include_colab_link": true
    },
    "kernelspec": {
      "name": "python3",
      "display_name": "Python 3"
    },
    "language_info": {
      "name": "python"
    }
  },
  "cells": [
    {
      "cell_type": "markdown",
      "metadata": {
        "id": "view-in-github",
        "colab_type": "text"
      },
      "source": [
        "<a href=\"https://colab.research.google.com/github/Gabriellemga/Python_Cursos_Alura/blob/main/Python_DS_fun%C3%A7%C3%B5es_estrutura_de_dados/Desafio_estrutura__de_dados_fun%C3%A7%C3%B5es.ipynb\" target=\"_parent\"><img src=\"https://colab.research.google.com/assets/colab-badge.svg\" alt=\"Open In Colab\"/></a>"
      ]
    },
    {
      "cell_type": "markdown",
      "source": [
        "# Sobre o notebook\n",
        "\n",
        "A \"hora da prática\" é uma atividade do curso de Python para Data Science da Alura que contém diversos desafios envolvendo os aprendizados de cada aula.\n",
        "\n",
        "O notebook \"hora da prática\" é um notebook construído com espaço para as células dos desafios propostos no curso, com ele você tem espaço para construir e executar suas soluções"
      ],
      "metadata": {
        "id": "_kwAaQ36gLQ1"
      }
    },
    {
      "cell_type": "markdown",
      "source": [
        "## Aula 1 - Bibliotecas"
      ],
      "metadata": {
        "id": "Mc-KN0dA0Z83"
      }
    },
    {
      "cell_type": "markdown",
      "source": [
        "### Aquecimento"
      ],
      "metadata": {
        "id": "Dq02fNPCl_JV"
      }
    },
    {
      "cell_type": "markdown",
      "source": [
        "#### Questão 1\n",
        "\n",
        "Escreva um código para instalar a versão `3.7.1` da biblioteca `matplotlib`"
      ],
      "metadata": {
        "id": "l5eLWf0W0ikn"
      }
    },
    {
      "cell_type": "code",
      "source": [
        "!pip install matplotlib==3.7.1"
      ],
      "metadata": {
        "id": "m4b6NquSaj3q"
      },
      "execution_count": null,
      "outputs": []
    },
    {
      "cell_type": "markdown",
      "source": [
        "#### Questão 2\n",
        "\n",
        "Escreva um código para importar a biblioteca `numpy` com o alias `np`"
      ],
      "metadata": {
        "id": "tQdX90Ue03c7"
      }
    },
    {
      "cell_type": "code",
      "source": [
        "import numpy as np"
      ],
      "metadata": {
        "id": "Gh8aZUwaakuT"
      },
      "execution_count": null,
      "outputs": []
    },
    {
      "cell_type": "markdown",
      "source": [
        "#### Questão 3\n",
        "Crie um programa que lê a seguinte lista de números e escolha um número desta aleatoriamente.\n",
        "```\n",
        "lista = [8, 12, 54, 23, 43, 1, 90, 87, 105, 77]\n",
        "```"
      ],
      "metadata": {
        "id": "gfg-aiip03vC"
      }
    },
    {
      "cell_type": "code",
      "source": [
        "from random import choice\n",
        "lista = [8,12,54,23,43,1,90,87,105,77]\n",
        "print(f\"Número escolhido: {choice(lista)}\")"
      ],
      "metadata": {
        "id": "Sla71KJQalws",
        "colab": {
          "base_uri": "https://localhost:8080/"
        },
        "outputId": "986d23ba-34c8-4ff5-d729-1c36142a2cbc"
      },
      "execution_count": null,
      "outputs": [
        {
          "output_type": "stream",
          "name": "stdout",
          "text": [
            "Número escolhido: 77\n"
          ]
        }
      ]
    },
    {
      "cell_type": "markdown",
      "source": [
        "#### Questão 4\n",
        "\n",
        "Crie um programa que sorteia aleatoriamente um número inteiro menor que 100.\n",
        "> Dica: use a função [`randrange()`](https://docs.python.org/3/library/random.html#random.randrange) da biblioteca `random`. Essa função recebe como parâmetro o valor limite para a escolha aleatória ou um intervalo se passado o limite mínimo e máximo. Por exemplo, `randrange(5)` gera valores inteiros menores que 5.\n"
      ],
      "metadata": {
        "id": "oadrJbl704MM"
      }
    },
    {
      "cell_type": "code",
      "source": [
        "from random import randrange\n",
        "print(f\"Número escolhido: {randrange(1,100)}\")"
      ],
      "metadata": {
        "id": "UZSpqpOuanFT",
        "colab": {
          "base_uri": "https://localhost:8080/"
        },
        "outputId": "568d1789-f1da-4f8f-ff3f-960759216122"
      },
      "execution_count": null,
      "outputs": [
        {
          "output_type": "stream",
          "name": "stdout",
          "text": [
            "Número escolhido: 48\n"
          ]
        }
      ]
    },
    {
      "cell_type": "markdown",
      "source": [
        "#### Questão 5\n",
        "Crie um programa que solicite à pessoa usuária digitar dois números inteiros e calcular a potência do 1º número elevado ao 2º.\n",
        "> Dica: use a função [`pow()`](https://docs.python.org/3/library/random.html#random.randrange) da biblioteca `math`\n"
      ],
      "metadata": {
        "id": "3RgyMaan04TD"
      }
    },
    {
      "cell_type": "code",
      "source": [
        "from math import pow\n",
        "num_1 = int(input('Informe um número inteiro: '))\n",
        "num_2 = int(input('Informe um número inteiro: '))\n",
        "print(f'{num_1} elevado a {num_2} é:{pow(num_1,num_2)}')"
      ],
      "metadata": {
        "id": "UOzl8la0aoBd",
        "colab": {
          "base_uri": "https://localhost:8080/"
        },
        "outputId": "5e089e38-36a4-4ced-b281-8dcead845ec5"
      },
      "execution_count": null,
      "outputs": [
        {
          "output_type": "stream",
          "name": "stdout",
          "text": [
            "Informe um número inteiro: 5\n",
            "Informe um número inteiro: 2\n",
            "5 elevado 2 é:25.0\n"
          ]
        }
      ]
    },
    {
      "cell_type": "markdown",
      "source": [
        "### Aplicando a projetos"
      ],
      "metadata": {
        "id": "ieCkWjvEmJU0"
      }
    },
    {
      "cell_type": "markdown",
      "source": [
        "#### Questão 6\n",
        "Um programa deve ser escrito para sortear uma pessoa seguidora de uma rede social para ganhar um prêmio. A lista de participantes é numerada e devemos escolher aleatoriamente um número de acordo com a quantidade de participantes.\n",
        "\n",
        "Peça à pessoa usuária para fornecer o número de participantes do sorteio e devolva para ela o número sorteado."
      ],
      "metadata": {
        "id": "0rS4QHP1mXQE"
      }
    },
    {
      "cell_type": "code",
      "source": [
        "from random import choice\n",
        "participantes = int(input('Informe o número de paricipantes do sorteio: '))\n",
        "sorteio = []\n",
        "for i in range(1,participantes+1):\n",
        " sorteio.append(i)\n",
        "print({choice(sorteio)})"
      ],
      "metadata": {
        "id": "G4k5jUdAao8t",
        "colab": {
          "base_uri": "https://localhost:8080/"
        },
        "outputId": "3c0d0f2f-1852-433d-d932-1966437aac5a"
      },
      "execution_count": null,
      "outputs": [
        {
          "output_type": "stream",
          "name": "stdout",
          "text": [
            "Informe o número de paricipantes do sorteio: 100\n",
            "{42}\n"
          ]
        }
      ]
    },
    {
      "cell_type": "markdown",
      "source": [
        "#### Questão 7\n",
        "\n",
        "Você recebeu uma demanda para gerar números de token para o acesso ao aplicativo de uma empresa. O token precisa ser par e variar de 1000 até 9998. Escreva um código que solicita à pessoa usuária o seu nome e gera uma mensagem junto a esse token gerado aleatoriamente:\n",
        "\n",
        "`\"Olá, [nome], o seu token de acesso é [token]! Seja bem-vindo(a)!\"`"
      ],
      "metadata": {
        "id": "9D6cd4tomhSi"
      }
    },
    {
      "cell_type": "code",
      "source": [
        "from random import randrange\n",
        "nome = input('Informe o seu nome: ')\n",
        "token = randrange(1000,9998,2)\n",
        "print(f'Olá, {nome}, o seu token de acesso é {token}! Seja bem-vindo(a)!')\n"
      ],
      "metadata": {
        "id": "Y4ACJ4rEaqQW",
        "colab": {
          "base_uri": "https://localhost:8080/"
        },
        "outputId": "97850237-dfbc-4906-d6f2-cd2acc364abc"
      },
      "execution_count": null,
      "outputs": [
        {
          "output_type": "stream",
          "name": "stdout",
          "text": [
            "Informe o seu nome: 8\n",
            "Olá, 8, o seu token de acesso é 3002! Seja bem-vindo(a)!\n"
          ]
        }
      ]
    },
    {
      "cell_type": "markdown",
      "source": [
        "#### Questão 8\n",
        "Para diversificar e atrair novos clientes, uma lanchonete criou um item misterioso em seu cardápio chamado \"salada de frutas surpresa\". Neste item, são escolhidas aleatoriamente 3 frutas de uma lista de 12 frutas para compor a salada de frutas da pessoa cliente.\n",
        "\n",
        "Crie o código que faça essa seleção aleatória de acordo com a lista abaixo:\n",
        "\n",
        "```\n",
        "frutas = [\"maçã\", \"banana\", \"uva\", \"pêra\",\n",
        "          \"manga\", \"coco\", \"melancia\", \"mamão\",\n",
        "          \"laranja\", \"abacaxi\", \"kiwi\", \"ameixa\"]\n",
        "```"
      ],
      "metadata": {
        "id": "FHJHH_WemhFJ"
      }
    },
    {
      "cell_type": "code",
      "source": [
        "frutas = [\"maçã\", \"banana\", \"uva\", \"pêra\",\n",
        "          \"manga\", \"coco\", \"melancia\", \"mamão\",\n",
        "          \"laranja\", \"abacaxi\", \"kiwi\", \"ameixa\"]\n",
        "from random import sample\n",
        "salada_surpresa = sample(frutas,k=3)\n",
        "print(f'As frutas da salada de fruta surpresa:{salada_surpresa}')"
      ],
      "metadata": {
        "id": "gR0BNVGoarOv",
        "colab": {
          "base_uri": "https://localhost:8080/"
        },
        "outputId": "87f275cb-e7b6-4915-e3aa-bd1bd866b565"
      },
      "execution_count": null,
      "outputs": [
        {
          "output_type": "stream",
          "name": "stdout",
          "text": [
            "As frutas da salada de fruta surpresa:['abacaxi', 'pêra', 'kiwi']\n"
          ]
        }
      ]
    },
    {
      "cell_type": "markdown",
      "source": [
        "#### Questão 9\n",
        "Você recebeu um desafio de calcular a raiz quadrada de uma lista de números, identificando quais resultaram em um número inteiro. A lista é a seguinte:\n",
        "```\n",
        "numeros = [2, 8, 15, 23, 91, 112, 256]\n",
        "```\n",
        "\n",
        "Informe no final quais números possuem raízes inteiras e seus respectivos valores.\n",
        "\n",
        "> Dica: use a comparação entre a divisão inteira da raiz por 1 com o valor da raiz para verificar se o número é inteiro. Por exemplo:\n",
        "```\n",
        "num = 1.5\n",
        "num_2 = 2\n",
        "print(f'{num} é inteiro? :', num // 1 == num)\n",
        "print(f'{num_2} é inteiro? :', num_2 // 1 == num_2)\n",
        "```\n",
        "Saída:\n",
        "```\n",
        "1.5 é inteiro? : False\n",
        "2 é inteiro? : True\n",
        "```"
      ],
      "metadata": {
        "id": "m_voDwY9mhNJ"
      }
    },
    {
      "cell_type": "code",
      "source": [
        "from math import sqrt\n",
        "numeros = [2, 8, 15, 23, 91, 112, 256]\n",
        "raizes = []\n",
        "for num in numeros:\n",
        "  raizes.append(sqrt(num))\n",
        "for i in raizes :\n",
        "  if i%1 == 0:\n",
        "    numeros = i**2\n",
        "    print(f'O {numeros} possui raiz igual a {i}. ')\n"
      ],
      "metadata": {
        "id": "80eu9G8HaswW",
        "colab": {
          "base_uri": "https://localhost:8080/"
        },
        "outputId": "29822d83-db51-48ba-bf07-fcde1be13f6f"
      },
      "execution_count": null,
      "outputs": [
        {
          "output_type": "stream",
          "name": "stdout",
          "text": [
            "O 16.0 possui raiz igual a 4.0. \n",
            "O 256.0 possui raiz igual a 16.0. \n"
          ]
        }
      ]
    },
    {
      "cell_type": "markdown",
      "source": [
        "#### Questão 10\n",
        "Faça um programa para uma loja que vende grama para jardins. Essa loja trabalha com jardins circulares e o preço do metro quadrado da grama é de R$ 25,00. Peça à pessoa usuária o raio da área circular e devolva o valor em reais do quanto precisará pagar.  \n",
        "\n",
        "> Dica: use a variável [`pi`](https://docs.python.org/pt-br/3/library/math.html#math.pi) e o método [`pow()`](https://docs.python.org/3/library/random.html#random.randrange) da biblioteca `math`. O cálculo de área de um círculo é de: $Area = \\pi \\times r^2$"
      ],
      "metadata": {
        "id": "dBl0iKd7mhYA"
      }
    },
    {
      "cell_type": "code",
      "source": [
        "from math import pi, pow\n",
        "grama = int(input('Informe a área do raio: '))\n",
        "area = pi * pow(grama,2)\n",
        "valor = area *25\n",
        "print(f' O valor a ser pago pela área {area:.2f} é de R$ {valor:.2f} reais.')"
      ],
      "metadata": {
        "id": "VK0RHwYIattI",
        "colab": {
          "base_uri": "https://localhost:8080/"
        },
        "outputId": "d716352d-15c3-4ede-97e8-f4bc1358039e"
      },
      "execution_count": null,
      "outputs": [
        {
          "output_type": "stream",
          "name": "stdout",
          "text": [
            "Informe a área do raio: 2\n",
            " O valor a ser pago pela área 12.57 é de R$ 314.16 reais.\n"
          ]
        }
      ]
    },
    {
      "cell_type": "markdown",
      "source": [
        "## Aula 2 - Funções"
      ],
      "metadata": {
        "id": "D9e3FqhO1S3X"
      }
    },
    {
      "cell_type": "markdown",
      "source": [
        "### Aquecimento"
      ],
      "metadata": {
        "id": "DTBxjtxXa1dz"
      }
    },
    {
      "cell_type": "markdown",
      "source": [
        "#### Questão 1\n",
        "\n",
        "Escreva um código que lê a lista abaixo e faça:\n",
        "\n",
        "```\n",
        "lista = [16, 14, 63, 65, 17, 99, 70, 11, 20, 48, 79, 32, 17, 89, 12, 25, 66]\n",
        "```\n",
        "\n",
        "- A leitura do tamanho da lista\n",
        "- A leitura do maior e menor valor\n",
        "- A soma dos valores da lista\n",
        "\n",
        "Ao final exiba uma mensagem dizendo:\n",
        "\n",
        "```\n",
        "\"A lista possui [tam] números em que o maior número é [maior] e o menor número é [menor]. A soma dos valores pares presentes nela é igual a [soma]\"\n",
        "```\n",
        "\n",
        "> Dica: use as funções embutidas presentes na [documentação do Python](https://docs.python.org/3/library/functions.html)\n"
      ],
      "metadata": {
        "id": "dedVZJ3fa1dz"
      }
    },
    {
      "cell_type": "code",
      "source": [
        "lista = [16, 14, 63, 65, 17, 99, 70, 11, 20, 48, 79, 32, 17, 89, 12, 25, 66]\n",
        "\n",
        "tam = len(lista)\n",
        "maior = max(lista)\n",
        "menor = min(lista)\n",
        "soma = sum(lista)\n",
        "\n",
        "\n",
        "print(f\"A lista possui {tam} números em que o maior número é {maior} e o menor número é {menor}. A soma dos valores  presentes nela é igual a {soma}.\")"
      ],
      "metadata": {
        "id": "KrGD5Nl5a1dz",
        "colab": {
          "base_uri": "https://localhost:8080/"
        },
        "outputId": "7765c83e-1440-4aa2-ff8b-c329e0a54aec"
      },
      "execution_count": null,
      "outputs": [
        {
          "output_type": "stream",
          "name": "stdout",
          "text": [
            "A lista possui 17 números em que o maior número é 99 e o menor número é 11. A soma dos valores  presentes nela é igual a 743.\n"
          ]
        }
      ]
    },
    {
      "cell_type": "markdown",
      "source": [
        "#### Questão 2\n",
        "\n",
        "Escreva uma função que gere a tabuada de um número inteiro de 1 a 10, de acordo com a escolha da pessoa usuária. Como exemplo, para o número 7, a tabuada deve ser mostrada no seguinte formato:\n",
        "```\n",
        "Tabuada do 7:\n",
        "7 x 0 = 0\n",
        "7 x 1 = 7\n",
        "[...]\n",
        "7 x 10 = 70\n",
        "```\n"
      ],
      "metadata": {
        "id": "435rt7sha1dz"
      }
    },
    {
      "cell_type": "code",
      "source": [
        "num = int(input('Informe o número para gerar a tabuada: '))\n",
        "\n",
        "def tabuada(num):\n",
        " for i in range(1,11):\n",
        "    tab = i * num\n",
        "    print(f'{num} x {i}  = {tab}')\n",
        "\n",
        "print(f'A tabuada de {num}:')\n",
        "tabuada(num)\n",
        "\n"
      ],
      "metadata": {
        "id": "DxHuhb19a1d0",
        "colab": {
          "base_uri": "https://localhost:8080/"
        },
        "outputId": "fb4ef769-afa4-47ca-bf2c-2bd4554d3f4f"
      },
      "execution_count": null,
      "outputs": [
        {
          "output_type": "stream",
          "name": "stdout",
          "text": [
            "Informe o número para gerar a tabuada: 7\n",
            "A tabuada de 7:\n",
            "7 x 1  = 7\n",
            "7 x 2  = 14\n",
            "7 x 3  = 21\n",
            "7 x 4  = 28\n",
            "7 x 5  = 35\n",
            "7 x 6  = 42\n",
            "7 x 7  = 49\n",
            "7 x 8  = 56\n",
            "7 x 9  = 63\n",
            "7 x 10  = 70\n"
          ]
        }
      ]
    },
    {
      "cell_type": "markdown",
      "source": [
        "#### Questão 3\n",
        "Crie a função que leia a lista abaixo e retorne uma nova lista com os múltiplos de 3:\n",
        "\n",
        "```\n",
        "[97, 80, 94, 88, 80, 1, 16, 53, 62, 32, 24, 99]\n",
        "```\n",
        "\n",
        "Utilize o `return` na função e salve a nova lista na variável `mult_3`."
      ],
      "metadata": {
        "id": "OwoNphMPa1d0"
      }
    },
    {
      "cell_type": "code",
      "source": [
        "lista = [97, 80, 94, 88, 80, 1, 16, 53, 62, 32, 24, 99]\n",
        "\n",
        "def multiplos(lista):\n",
        "  mult_3 = []\n",
        "  for i in lista:\n",
        "    if i%3 == 0:\n",
        "       mult_3.append(i)\n",
        "  return mult_3\n",
        "\n",
        "mult_3 = multiplos(lista)\n",
        "mult_3"
      ],
      "metadata": {
        "id": "kYrKxhd8a1d0",
        "colab": {
          "base_uri": "https://localhost:8080/"
        },
        "outputId": "51b6afad-20d4-4408-c2b6-f1481e798ace"
      },
      "execution_count": null,
      "outputs": [
        {
          "output_type": "execute_result",
          "data": {
            "text/plain": [
              "[24, 99]"
            ]
          },
          "metadata": {},
          "execution_count": 7
        }
      ]
    },
    {
      "cell_type": "markdown",
      "source": [
        "#### Questão 4\n",
        "Crie uma lista dos quadrados dos números da seguinte lista `[1, 2, 3, 4, 5, 6, 7, 8, 9, 10]`.\n",
        "\n",
        "Lembre-se de utilizar as funções lambda e `map()` para calcular o quadrado de cada elemento da lista.\n"
      ],
      "metadata": {
        "id": "kFkuo_SUa1d0"
      }
    },
    {
      "cell_type": "code",
      "source": [
        "lista =[1, 2, 3, 4, 5, 6, 7, 8, 9, 10]\n",
        "\n",
        "quadrado = map(lambda x: x**2, lista)\n",
        "\n",
        "lista_atual = list(quadrado)\n",
        "lista_atual"
      ],
      "metadata": {
        "id": "Iav68EpKa1d0",
        "colab": {
          "base_uri": "https://localhost:8080/"
        },
        "outputId": "89dd838d-bc3e-4e08-bea7-9711d65b522f"
      },
      "execution_count": null,
      "outputs": [
        {
          "output_type": "execute_result",
          "data": {
            "text/plain": [
              "[1, 4, 9, 16, 25, 36, 49, 64, 81, 100]"
            ]
          },
          "metadata": {},
          "execution_count": 14
        }
      ]
    },
    {
      "cell_type": "markdown",
      "source": [
        "### Aplicando a projetos"
      ],
      "metadata": {
        "id": "PX7G0Qgha1d0"
      }
    },
    {
      "cell_type": "markdown",
      "source": [
        "#### Questão 5\n",
        "\n",
        "Você foi contratado(a) como cientista de dados de uma associação de skate. Para analisar as notas recebidas dos(as) skatistas em algumas competições ao longo do ano, você precisa criar um código que calcula a pontuação dos(as) atletas. Para isso, o seu código deve receber 5 notas digitadas pelas pessoas juradas.\n",
        "\n",
        "Para calcular a pontuação de um(a) skatista, você precisa eliminar a maior e a menor pontuação dentre as 5 notas e tirar a média das 3 notas que sobraram.\n",
        "\n",
        "Retorne a média para apresentar o texto:\n",
        "`\"Nota da manobra: [media]\"`\n",
        "\n"
      ],
      "metadata": {
        "id": "oVWgrilxa1d0"
      }
    },
    {
      "cell_type": "code",
      "source": [
        "notas = []\n",
        "\n",
        "for i in range(1,6):\n",
        "  nota = float(input(f'Informe a {i}°: '))\n",
        "  notas.append(nota)\n",
        "\n",
        "def media_nota(lista):\n",
        "  lista.remove(max(lista))\n",
        "  lista.remove(min(lista))\n",
        "  media = sum(lista)/len(lista)\n",
        "  return media\n",
        "\n",
        "media = media_nota(notas)\n",
        "print(f'Nota de manobra: {media}')\n"
      ],
      "metadata": {
        "id": "1nbQ-hIRa1d0",
        "colab": {
          "base_uri": "https://localhost:8080/"
        },
        "outputId": "258092dc-c093-4cb2-9cdb-a76688e90337"
      },
      "execution_count": null,
      "outputs": [
        {
          "output_type": "stream",
          "name": "stdout",
          "text": [
            "Informe a 1°: 1\n",
            "Informe a 2°: 2\n",
            "Informe a 3°: 3\n",
            "Informe a 4°: 4\n",
            "Informe a 5°: 5\n",
            "Nota de manobra: 3.0\n"
          ]
        }
      ]
    },
    {
      "cell_type": "markdown",
      "source": [
        "#### Questão 6\n",
        "\n",
        "Para atender a uma demanda de uma instituição de ensino para a análise do desempenho de seus(suas) estudantes, você precisa criar uma função que receba uma lista de 4 notas e retorne:\n",
        "- maior nota\n",
        "- menor nota\n",
        "- média\n",
        "- situação (Aprovado(a) ou Reprovado(a))\n",
        "\n",
        "Para testar o comportamento da função, os dados podem ser exibidos em um texto:\n",
        "```\n",
        "\"O(a) estudante obteve uma media de [media], com a sua maior nota de [maior] pontos e a menor nota de [menor] pontos e foi [situacao]\"\n",
        "```"
      ],
      "metadata": {
        "id": "p3MnWjnda1d0"
      }
    },
    {
      "cell_type": "code",
      "source": [
        "notas = []\n",
        "\n",
        "for i in range(1,5):\n",
        "  nota = float(input(f'Informe a {i}°: '))\n",
        "  notas.append(nota)\n",
        "\n",
        "def desempenho(lista):\n",
        "  maior = max(lista)\n",
        "  menor = min(lista)\n",
        "  media = sum(lista)/len(lista)\n",
        "  if media >= 7:\n",
        "    situação = 'Aprovado'\n",
        "  else:\n",
        "     situação = 'Reprovado'\n",
        "  return(maior, menor, media, situação)\n",
        "\n",
        "maior, menor, media, situação = desempenho(notas)\n",
        "\n",
        "print(f'O(a) estudante obteve uma media de {media}, com a sua maior nota de {maior} pontos e a menor nota de {menor} pontos e foi {situação}')"
      ],
      "metadata": {
        "id": "5Bx-K65ya1d0",
        "colab": {
          "base_uri": "https://localhost:8080/"
        },
        "outputId": "047cd50e-d069-4201-df48-11e9fddbc5f6"
      },
      "execution_count": null,
      "outputs": [
        {
          "output_type": "stream",
          "name": "stdout",
          "text": [
            "Informe a 1°: 1\n",
            "Informe a 2°: 2\n",
            "Informe a 3°: 3\n",
            "Informe a 4°: 4\n",
            "O(a) estudante obteve uma media de 2.5, com a sua maior nota de 4.0 pontos e a menor nota de 1.0 pontos e foi Reprovado\n"
          ]
        }
      ]
    },
    {
      "cell_type": "markdown",
      "source": [
        "#### Questão 7\n",
        "\n",
        "Você recebeu uma demanda para tratar 2 listas com os nomes e sobrenomes de cada estudante concatenando-as para apresentar seus nomes completos na forma `Nome Sobrenome`.\n",
        "\n",
        "As listas são:\n",
        "```\n",
        "nomes = [\"joão\", \"MaRia\", \"JOSÉ\"]\n",
        "sobrenomes = [\"SILVA\", \"souza\", \"Tavares\"]\n",
        "```\n",
        "\n",
        "O texto exibido ao fim deve ser parecido com:\n",
        "```\n",
        "\"Nome completo: Ana Silva\"\n",
        "```\n",
        "\n",
        "> Dica: Utilize a função map para mapear os nomes e sobrenomes e as funções de string para tratar o texto."
      ],
      "metadata": {
        "id": "_sPZj_x9a1d0"
      }
    },
    {
      "cell_type": "code",
      "source": [
        "nomes = [\"joão\", \"MaRia\", \"JOSÉ\"]\n",
        "sobrenomes = [\"SILVA\", \"souza\", \"Tavares\"]\n",
        "\n",
        "nome_completo = map(lambda x, y: f'Nome completo : {x} {y}', nomes, sobrenomes)\n",
        "\n",
        "nome_completo = list(nome_completo)\n",
        "\n",
        "for i in nome_completo:\n",
        "  print(i)"
      ],
      "metadata": {
        "id": "SdPq27E-a1d0",
        "colab": {
          "base_uri": "https://localhost:8080/"
        },
        "outputId": "acd1599d-c68e-48e2-c5ad-bd0fdc948aea"
      },
      "execution_count": null,
      "outputs": [
        {
          "output_type": "stream",
          "name": "stdout",
          "text": [
            "Nome completo : joão SILVA\n",
            "Nome completo : MaRia souza\n",
            "Nome completo : JOSÉ Tavares\n"
          ]
        }
      ]
    },
    {
      "cell_type": "markdown",
      "source": [
        "#### Questão 8\n",
        "Como cientista de dados em um time de futebol, você precisa implementar novas formas de coleta de dados sobre o desempenho de jogadores e do time como um todo.\n",
        "\n",
        "Sua primeira ação é criar uma forma de calcular a pontuação do time no campeonato nacional a partir dos dados de gols marcados e sofridos em cada jogo.\n",
        "\n",
        "Escreva uma função chamada `calcula_pontos` que recebe como parâmetros duas listas de números inteiros, representando os gols marcados e sofridos pelo time em cada partida do campeonato.\n",
        "\n",
        "A função deve retornar a pontuação do time e o aproveitamento em percentual, levando em consideração que a vitória vale 3 pontos, o empate vale 1 ponto e a derrota 0 pontos.\n",
        "\n",
        "> Observação: Se a quantidade de gols marcados numa partida for maior que a de sofridos, o time venceu. Caso seja igual, o time empatou e se for menor, o time perdeu. Para calcular o aproveitamento devemos fazer a razão entre a pontuação do time pela pontuação máxima que ele poderia receber.\n",
        "\n",
        "Para teste, utilize as seguintes listas de gols marcados e sofridos\n",
        "```\n",
        "gols_marcados = [2, 1, 3, 1, 0]\n",
        "gols_sofridos = [1, 2, 2, 1, 3]\n",
        "```\n",
        "\n",
        "Provável texto exibido:\n",
        "```\n",
        "\"A pontuação do time foi de [pontos] e seu aproveitamento foi de [aprov]%\"\n",
        "```\n"
      ],
      "metadata": {
        "id": "vC2D83mCa1d0"
      }
    },
    {
      "cell_type": "code",
      "source": [
        "gols_marcados = [2, 1, 3, 1, 0]\n",
        "gols_sofridos = [1, 2, 2, 1, 3]\n",
        "\n",
        "def calcula_pontos(gols_marcados,gols_sofridos):\n",
        "  pontos_ganhos = 0\n",
        "  pontos_empate = 0\n",
        "  for i in range(len(gols_marcados)):\n",
        "      if gols_marcados[i] > gols_sofridos[i]:\n",
        "        pontos_ganhos += 3\n",
        "      elif gols_marcados[i] == gols_sofridos[i]:\n",
        "         pontos_empate += 1\n",
        "  soma = pontos_ganhos + pontos_empate\n",
        "  aprov = (soma/(len(gols_marcados)*3))*100\n",
        "  return (soma,aprov)\n",
        "\n",
        "soma, aprov = calcula_pontos(gols_marcados,gols_sofridos)\n",
        "print(f\"A pontuação do time foi de {soma} e seu aproveitamento foi de {round(aprov)}%\")"
      ],
      "metadata": {
        "id": "zxOwouhta1d0",
        "colab": {
          "base_uri": "https://localhost:8080/"
        },
        "outputId": "60d63e23-6200-4657-d059-1ee9f1a8afc8"
      },
      "execution_count": null,
      "outputs": [
        {
          "output_type": "stream",
          "name": "stdout",
          "text": [
            "A pontuação do time foi de 7 e seu aproveitamento foi de 47%\n"
          ]
        }
      ]
    },
    {
      "cell_type": "markdown",
      "source": [
        "#### Questão 9\n",
        "\n",
        "Você recebeu o desafio de criar um código que calcula os gastos de uma viagem para um das quatro cidades partindo de Recife: Salvador, Fortaleza, Natal e Aracaju.\n",
        "\n",
        "O custo da diária do hotel é de 150 reais em todas elas e o consumo de gasolina na viagem de carro é de 14 km/l, sendo que o valor da gasolina é de 5 reais o litro. O gastos com passeios e alimentação a se fazer em cada uma delas por dia seria de `[200, 400, 250, 300]`, respectivamente.\n",
        "\n",
        "Sabendo que as distâncias entre Recife e cada uma das cidades é de aproximadamente `[850, 800, 300, 550]` km, crie três funções nas quais a 1ª calcule os gastos com hotel (`gasto_hotel`), a 2ª calcule os gastos com a gasolina (`gasto_gasolina`) e a 3ª os gastos com passeio e alimentação (`gasto_passeio`).\n",
        "\n",
        "Para testar, simule uma viagem de 3 dias para Salvador partindo de Recife. Considere a viagem de ida e volta de carro.\n",
        "```\n",
        "\"Com base nos gastos definidos, uma viagem de [dias] dias para [cidade] saindo de Recife custaria [gastos] reais\"\n",
        "```\n"
      ],
      "metadata": {
        "id": "QrBlxV7Da1d0"
      }
    },
    {
      "cell_type": "code",
      "source": [
        "diaria = 150\n",
        "gasolina = 5 # cada litro\n",
        "cosumo_gasolia = 14 # Km/l\n",
        "cidades = ['Salvador', 'Fortaleza', 'Natal', 'Aracaju']\n",
        "gastos = [200, 400, 250, 300] # gasto por dia\n",
        "distacia = [850, 800, 300, 550 ]\n",
        "\n",
        "dias = int(input('Informe o numero de dias: '))\n",
        "cidade = input('Informe o nome da cidade (Salvador, Fortaleza, Natal, Aracaju): ')\n",
        "\n",
        "def gasto_hotel(dias, cidade):\n",
        "  valor_diaria = []\n",
        "  valor_gastos = []\n",
        "  valor_gasolina = []\n",
        "  for i in range(len(cidades)):\n",
        "    if cidade in cidades[i]:\n",
        "     valor_diaria = diaria * dias\n",
        "     valor_gasolina = 2*((distacia[i] / 14) * 5)\n",
        "     gasto_diario = gastos[i] * dias\n",
        "     soma_total = valor_diaria + valor_gasolina + gasto_diario\n",
        "\n",
        "  return (soma_total)\n",
        "\n",
        "\n",
        "soma_total = round(gasto_hotel(dias,cidade),2)\n",
        "print(f'Com base nos gastos definidos, uma viagem de {dias} dias para {cidade} saindo de Recife custaria {soma_total} reais')"
      ],
      "metadata": {
        "id": "VQyaLsnWa1d0",
        "colab": {
          "base_uri": "https://localhost:8080/"
        },
        "outputId": "f7193387-cbbf-4b8a-82c4-e0fc54dd49da"
      },
      "execution_count": null,
      "outputs": [
        {
          "output_type": "stream",
          "name": "stdout",
          "text": [
            "Informe o numero de dias: 3\n",
            "Informe o nome da cidade: Salvador\n",
            "Com base nos gastos definidos, uma viagem de 3 dias para Salvador saindo de Recife custaria 1657.14 reais\n"
          ]
        }
      ]
    },
    {
      "cell_type": "markdown",
      "source": [
        "#### Questão 10\n",
        "\n",
        "Você iniciou um estágio em uma empresa que trabalha com processamento de linguagem natural ([NLP](https://www.alura.com.br/artigos/guia-nlp-conceitos-tecnicas)). Sua líder requisitou que você criasse um trecho de código que recebe uma frase digitada pela pessoa usuária e filtre apenas as palavras com tamanho maior ou igual a 5, exibindo-as em uma lista. Essa demanda é voltada para a análise do padrão de comportamento de pessoas na escrita de palavras acima dessa quantidade de caracteres.\n",
        "\n",
        "> Dica: utilize as funções lambda e [`filter()`](https://docs.python.org/pt-br/3/library/functions.html?highlight=filter#filter) para filtrar essas palavras. Lembrando que a função embutida `filter()` recebe uma função (no nosso exemplo uma função lambda) e filtra um iterável de acordo com a função. Para tratar a frase use `replace()` para trocar a ',' '.', '!' e '?' por espaço.\n",
        "\n",
        "Use a frase `\"Aprender Python aqui na Alura é muito bom\"`para testar o código"
      ],
      "metadata": {
        "id": "Uae8o3eMa1d1"
      }
    },
    {
      "cell_type": "code",
      "source": [
        "frase = input(\"Digite uma frase: \")\n",
        "frase = frase.replace(',',' ').replace('.',' ').replace('!',' ').replace('?',' ').split()\n",
        "\n",
        "tamanho = filter(lambda x: len(x) >= 5, frase)\n",
        "print(list(tamanho))\n"
      ],
      "metadata": {
        "id": "_WxPiZWtpWoX",
        "colab": {
          "base_uri": "https://localhost:8080/"
        },
        "outputId": "84954803-827b-41f3-f5da-c34053e27d51"
      },
      "execution_count": null,
      "outputs": [
        {
          "output_type": "stream",
          "name": "stdout",
          "text": [
            "Digite uma frase: A felicidade da kamala é vital\n",
            "['felicidade', 'kamala', 'vital']\n"
          ]
        }
      ]
    },
    {
      "cell_type": "markdown",
      "source": [
        "## Aula 3 - Estrutura de dados compostas"
      ],
      "metadata": {
        "id": "u_KhhnCfh3ST"
      }
    },
    {
      "cell_type": "markdown",
      "source": [
        "### Aquecimento"
      ],
      "metadata": {
        "id": "6cya3lleh3SU"
      }
    },
    {
      "cell_type": "markdown",
      "source": [
        "#### Questão 1\n",
        "\n",
        "Crie um código para imprimir a soma dos elementos de cada uma das listas contidas na seguinte lista:\n",
        "```\n",
        "lista_de_listas = [[4,6,5,9], [1,0,7,2], [3,4,1,8]]\n",
        "```"
      ],
      "metadata": {
        "id": "MLv8mbbth3SU"
      }
    },
    {
      "cell_type": "code",
      "source": [
        "lista_de_listas = [[4,6,5,9], [1,0,7,2], [3,4,1,8]]\n",
        "\n",
        "soma = [sum(lista_de_listas[i]) for i in range(len(lista_de_listas))]\n",
        "soma"
      ],
      "metadata": {
        "id": "P9dywp1xh3SU",
        "colab": {
          "base_uri": "https://localhost:8080/"
        },
        "outputId": "674e4501-ca8f-4369-aae8-70e0940b522b"
      },
      "execution_count": null,
      "outputs": [
        {
          "output_type": "execute_result",
          "data": {
            "text/plain": [
              "[24, 10, 16]"
            ]
          },
          "metadata": {},
          "execution_count": 3
        }
      ]
    },
    {
      "cell_type": "markdown",
      "source": [
        "#### Questão 2\n",
        "\n",
        "Crie um código para gerar uma lista que armazena o terceiro elemento de cada tupla contida na seguinte lista de tuplas:\n",
        "```\n",
        "lista_de_tuplas = [('Pedro', 1.74, 81), ('Júlia', 1.65, 67), ('Otávio', 1.81, 83)]\n",
        "```"
      ],
      "metadata": {
        "id": "C72i8R3Ih3SU"
      }
    },
    {
      "cell_type": "code",
      "source": [
        "lista_de_tuplas = [('Pedro', 1.74, 81), ('Júlia', 1.65, 67), ('Otávio', 1.81, 83)]\n",
        "idade = [idade[2] for idade in lista_de_tuplas]\n",
        "idade"
      ],
      "metadata": {
        "id": "S9EL1Bvjh3SU",
        "colab": {
          "base_uri": "https://localhost:8080/"
        },
        "outputId": "0e5011dc-46fc-4b46-c969-35e56768fd78"
      },
      "execution_count": null,
      "outputs": [
        {
          "output_type": "execute_result",
          "data": {
            "text/plain": [
              "[81, 67, 83]"
            ]
          },
          "metadata": {},
          "execution_count": 13
        }
      ]
    },
    {
      "cell_type": "markdown",
      "source": [
        "#### Questão 3\n",
        "A partir da lista: `lista = ['Pedro', 'Júlia', 'Otávio', 'Eduardo']`, crie um código para gerar uma lista de tuplas em que cada tupla tenha o primeiro elemento como a posição do nome na lista original e o segundo elemento sendo o próprio nome."
      ],
      "metadata": {
        "id": "e5ni69Lwh3SU"
      }
    },
    {
      "cell_type": "code",
      "source": [
        "lista = ['Pedro', 'Júlia', 'Otávio', 'Eduardo']\n",
        "id = []\n",
        "for i in range(len(lista)):\n",
        "    id.append(( i,lista[i]))\n",
        "id"
      ],
      "metadata": {
        "id": "x3ckJThph3SU",
        "colab": {
          "base_uri": "https://localhost:8080/"
        },
        "outputId": "4522699f-bf1e-44f2-8891-67a399b7edbb"
      },
      "execution_count": null,
      "outputs": [
        {
          "output_type": "execute_result",
          "data": {
            "text/plain": [
              "[(0, 'Pedro'), (1, 'Júlia'), (2, 'Otávio'), (3, 'Eduardo')]"
            ]
          },
          "metadata": {},
          "execution_count": 29
        }
      ]
    },
    {
      "cell_type": "markdown",
      "source": [
        "#### Questão 4\n",
        "Crie uma lista usando o list comprehension, que armazena somente o valor numérico de cada tupla caso o primeiro elemento seja 'Apartamento' a partir da seguinte lista de tuplas:\n",
        "```\n",
        "aluguel = [('Apartamento', 1700), ('Apartamento', 1400), ('Casa', 2150), ('Apartamento', 1900), ('Casa', 1100)]\n",
        "```\n",
        "\n"
      ],
      "metadata": {
        "id": "mtuC2qBLh3SU"
      }
    },
    {
      "cell_type": "code",
      "source": [
        "aluguel = [('Apartamento', 1700), ('Apartamento', 1400), ('Casa', 2150), ('Apartamento', 1900), ('Casa', 1100)]\n",
        "\n",
        "apartamento = [locação[1] for locação in aluguel if locação[0] == 'Apartamento']\n",
        "apartamento"
      ],
      "metadata": {
        "id": "H1S8yT64h3SU",
        "colab": {
          "base_uri": "https://localhost:8080/"
        },
        "outputId": "b4a3e656-2b6d-4611-f71b-506c9a98151c"
      },
      "execution_count": null,
      "outputs": [
        {
          "output_type": "execute_result",
          "data": {
            "text/plain": [
              "[1700, 1400, 1900]"
            ]
          },
          "metadata": {},
          "execution_count": 42
        }
      ]
    },
    {
      "cell_type": "markdown",
      "source": [
        "#### Questão 5\n",
        "\n",
        "Crie um dicionário usando o dict comprehension em que as chaves estão na lista `meses = ['Jan', 'Fev', 'Mar', 'Abr', 'Mai', 'Jun', 'Jul', 'Ago', 'Set', 'Out', 'Nov', 'Dez']` e os valores estão na lista `despesa = [860, 490, 1010, 780, 900, 630, 590, 770, 620, 560, 840, 360]`\n",
        "\n"
      ],
      "metadata": {
        "id": "Bd-Xp_iKh3SU"
      }
    },
    {
      "cell_type": "code",
      "source": [
        "meses = ['Jan', 'Fev', 'Mar', 'Abr', 'Mai', 'Jun', 'Jul', 'Ago', 'Set', 'Out', 'Nov', 'Dez']\n",
        "despesa = [860, 490, 1010, 780, 900, 630, 590, 770, 620, 560, 840, 360]\n",
        "\n",
        "dic_mes_desp = {meses[i]: despesa[i] for i in range(len(meses))}\n",
        "dic_mes_desp"
      ],
      "metadata": {
        "id": "y7c5ickkh3SV",
        "colab": {
          "base_uri": "https://localhost:8080/"
        },
        "outputId": "8bef4d72-66f3-4056-a37e-1e96e2c6efa0"
      },
      "execution_count": null,
      "outputs": [
        {
          "output_type": "execute_result",
          "data": {
            "text/plain": [
              "{'Jan': 860,\n",
              " 'Fev': 490,\n",
              " 'Mar': 1010,\n",
              " 'Abr': 780,\n",
              " 'Mai': 900,\n",
              " 'Jun': 630,\n",
              " 'Jul': 590,\n",
              " 'Ago': 770,\n",
              " 'Set': 620,\n",
              " 'Out': 560,\n",
              " 'Nov': 840,\n",
              " 'Dez': 360}"
            ]
          },
          "metadata": {},
          "execution_count": 3
        }
      ]
    },
    {
      "cell_type": "markdown",
      "source": [
        "### Aplicando a projetos"
      ],
      "metadata": {
        "id": "T9XuUQIph3SU"
      }
    },
    {
      "cell_type": "markdown",
      "source": [
        "#### Questão 6\n",
        "\n",
        "Uma loja possui um banco de dados com a informação de venda de cada representante e de cada ano e precisa filtrar somente os dados do ano 2022 com venda maior do que 6000. A loja forneceu uma amostra contendo apenas as colunas com os anos e os valores de venda para que você ajude a realizar a filtragem dos dados a partir de um código:\n",
        "```\n",
        "vendas = [('2023', 4093), ('2021', 4320), ('2021', 5959), ('2022', 8883), ('2023', 9859), ('2022', 5141), ('2022', 7688), ('2022', 9544), ('2023', 4794), ('2021', 7178), ('2022', 3030), ('2021', 7471), ('2022', 4226), ('2022', 8190), ('2021', 9680), ('2022', 5616)]\n",
        "```\n",
        "Crie uma lista usando list comprehension para filtrar os valores de 2022 e que sejam maiores que 6000.\n"
      ],
      "metadata": {
        "id": "WrgAw6a0h3SV"
      }
    },
    {
      "cell_type": "code",
      "source": [
        "vendas = [('2023', 4093), ('2021', 4320), ('2021', 5959), ('2022', 8883), ('2023', 9859), ('2022', 5141), ('2022', 7688), ('2022', 9544), ('2023', 4794), ('2021', 7178), ('2022', 3030), ('2021', 7471), ('2022', 4226), ('2022', 8190), ('2021', 9680), ('2022', 5616)]\n",
        "\n",
        "venda_2002 = [venda[1] for venda in vendas  if venda [0] == '2022']\n",
        "venda_2002"
      ],
      "metadata": {
        "id": "jQvbtw2sh3SV",
        "colab": {
          "base_uri": "https://localhost:8080/"
        },
        "outputId": "0a1b9e4f-ceec-4f4c-9bf8-c43026353583"
      },
      "execution_count": null,
      "outputs": [
        {
          "output_type": "execute_result",
          "data": {
            "text/plain": [
              "[8883, 5141, 7688, 9544, 3030, 4226, 8190, 5616]"
            ]
          },
          "metadata": {},
          "execution_count": 6
        }
      ]
    },
    {
      "cell_type": "markdown",
      "source": [
        "#### Questão 7\n",
        "\n",
        "Uma clínica analisa dados de pacientes e armazena o valor numérico da glicose em um banco de dados e gostaria de rotular os dados da seguinte maneira:\n",
        "\n",
        "- Glicose igual ou inferior a 70: 'Hipoglicemia'\n",
        "- Glicose entre 70 a 99: 'Normal'\n",
        "- Glicose entre 100 e 125: 'Alterada'\n",
        "- Glicose superior a 125: 'Diabetes'\n",
        "\n",
        "A clínica disponibilizou parte dos valores e sua tarefa é criar uma lista de tuplas usando list comprehension contendo o rótulo e o valor da glicemia em cada tupla.\n",
        "\n",
        "```\n",
        "glicemia = [129, 82, 60, 97, 101, 65, 62, 167, 87, 53, 58, 92, 66, 120, 109, 62, 86, 96, 103, 88, 155, 52, 89, 73]\n",
        "```"
      ],
      "metadata": {
        "id": "8Hl7OgcQh3SV"
      }
    },
    {
      "cell_type": "code",
      "source": [
        "glicemia = [129, 82, 60, 97, 101, 65, 62, 167, 87, 53, 58, 92, 66, 120, 109, 62, 86, 96, 103, 88, 155, 52, 89, 73]\n",
        "\n",
        "hipoglicemia = [glicemia[i] for i in range(len(glicemia)) if glicemia[i] <= 70]\n",
        "normal = [glicemia[i] for i in range(len(glicemia)) if  70 < glicemia[i]  <= 99]\n",
        "alterada = [glicemia[i] for i in range(len(glicemia)) if 100 < glicemia[i] <= 125 ]\n",
        "diabetes = [glicemia[i] for i in range(len(glicemia)) if glicemia[i] > 125]\n",
        "\n",
        "\n",
        "resultado = [('Hipoclicemia', hipoglicemia), ('Normal', normal), ('Alterada', alterada), ('Diabetes', diabetes)]\n",
        "resultado"
      ],
      "metadata": {
        "id": "cIDqBZrxh3SV",
        "colab": {
          "base_uri": "https://localhost:8080/"
        },
        "outputId": "4e23a170-8d67-4ac7-c156-814a6ecfa785"
      },
      "execution_count": null,
      "outputs": [
        {
          "output_type": "execute_result",
          "data": {
            "text/plain": [
              "[('Hipoclicemia', [60, 65, 62, 53, 58, 66, 62, 52]),\n",
              " ('Normal', [82, 97, 87, 92, 86, 96, 88, 89, 73]),\n",
              " ('Alterada', [101, 120, 109, 103]),\n",
              " ('Diabetes', [129, 167, 155])]"
            ]
          },
          "metadata": {},
          "execution_count": 13
        }
      ]
    },
    {
      "cell_type": "markdown",
      "source": [
        "#### Questão 8\n",
        "Um e-commerce possui as informações de id de venda, quantidade vendida e preço do produto divididos nas seguintes listas:\n",
        "\n",
        "```\n",
        "id = [0, 1, 2, 3, 4, 5, 6, 7, 8, 9]\n",
        "quantidade = [15, 12, 1, 15, 2, 11, 2, 12, 2, 4]\n",
        "preco = [93.0, 102.0, 18.0, 41.0, 122.0, 14.0, 71.0, 48.0, 14.0, 144.0]\n",
        "```\n",
        "\n",
        "O e-commerce precisa estruturar esses dados em uma tabela contendo o valor total da venda, que é obtida multiplicando a quantidade pelo preço unitário. Além disso, tabela precisa conter um cabeçalho indicando as colunas: 'id', 'quantidade', 'preco' e 'total'.\n",
        "\n",
        "Crie uma lista de tuplas em que cada tupla tenha um id, quantidade, preço e valor total, na qual a primeira tupla é o cabeçalho da tabela.\n"
      ],
      "metadata": {
        "id": "twYIfol8h3SV"
      }
    },
    {
      "cell_type": "code",
      "source": [
        "id = [0, 1, 2, 3, 4, 5, 6, 7, 8, 9]\n",
        "quantidade = [15, 12, 1, 15, 2, 11, 2, 12, 2, 4]\n",
        "preco = [93.0, 102.0, 18.0, 41.0, 122.0, 14.0, 71.0, 48.0, 14.0, 144.0]\n",
        "\n",
        "cabeçalho = ('Id', 'Quantidade', 'Preço', 'Total')\n",
        "preco_total = [preco[i]*quantidade[i] for i in range(len(quantidade))]\n",
        "\n",
        "tabela = [(id[i], quantidade[i], preco[i], preco_total[i]) for i in range(len(id)) ]\n",
        "tabela = cabeçalho , tabela\n",
        "tabela"
      ],
      "metadata": {
        "id": "XnmvwiIwh3SV",
        "colab": {
          "base_uri": "https://localhost:8080/"
        },
        "outputId": "693002b0-bd7d-41eb-a527-c4e31e9e2f2d"
      },
      "execution_count": null,
      "outputs": [
        {
          "output_type": "execute_result",
          "data": {
            "text/plain": [
              "(('Id', 'Quantidade', 'Preço', 'Total'),\n",
              " [(0, 15, 93.0, 1395.0),\n",
              "  (1, 12, 102.0, 1224.0),\n",
              "  (2, 1, 18.0, 18.0),\n",
              "  (3, 15, 41.0, 615.0),\n",
              "  (4, 2, 122.0, 244.0),\n",
              "  (5, 11, 14.0, 154.0),\n",
              "  (6, 2, 71.0, 142.0),\n",
              "  (7, 12, 48.0, 576.0),\n",
              "  (8, 2, 14.0, 28.0),\n",
              "  (9, 4, 144.0, 576.0)])"
            ]
          },
          "metadata": {},
          "execution_count": 25
        }
      ]
    },
    {
      "cell_type": "markdown",
      "source": [
        "#### Questão 9\n",
        "\n",
        "Uma empresa possui filiais espalhadas nos estados da região sudeste do Brasil. Em uma das tabelas de cadastro das filiais, há uma coluna contendo a informação de qual é o estado a que pertence:\n",
        "```\n",
        "estados = ['SP', 'ES', 'MG', 'MG', 'SP', 'MG', 'ES', 'ES', 'ES', 'SP', 'SP', 'MG', 'ES', 'SP', 'RJ', 'MG', 'RJ', 'SP', 'MG', 'SP', 'ES', 'SP', 'MG']\n",
        "```\n",
        "\n",
        "A empresa sempre está abrindo novas filiais, de modo que a tabela está constantemente recebendo novos registros e o gestor gostaria de possuir a informação atualizada da quantidade de filiais em cada estado. A partir da coluna com a informação dos estados, crie um dicionário usando dict comprehension com a chave sendo o nome de um estado e o valor sendo a contagem de vezes em que o estado aparece na lista.\n",
        "\n",
        "> Dica: Você pode fazer um passo intermediário para gerar uma lista de listas em que cada uma das listas possui o nome de apenas um estado com valores repetidos."
      ],
      "metadata": {
        "id": "9tMZEiPzh3SV"
      }
    },
    {
      "cell_type": "code",
      "source": [
        "estados = ['SP', 'ES', 'MG', 'MG', 'SP', 'MG', 'ES', 'ES', 'ES', 'SP', 'SP', 'MG', 'ES', 'SP', 'RJ', 'MG', 'RJ', 'SP', 'MG', 'SP', 'ES', 'SP', 'MG']\n",
        "\n",
        "estado = {estado: estados.count(estado) for estado in set(estados)}\n",
        "estado"
      ],
      "metadata": {
        "id": "qXU5UMUih3SV",
        "colab": {
          "base_uri": "https://localhost:8080/"
        },
        "outputId": "6940798f-1a56-4c51-b395-e4cb5deacd0e"
      },
      "execution_count": null,
      "outputs": [
        {
          "output_type": "execute_result",
          "data": {
            "text/plain": [
              "{'RJ': 2, 'MG': 7, 'SP': 8, 'ES': 6}"
            ]
          },
          "metadata": {},
          "execution_count": 47
        }
      ]
    },
    {
      "cell_type": "markdown",
      "source": [
        "#### Questão 10\n",
        "\n",
        "Nessa mesma tabela de cadastro de filiais, há uma coluna com as informações da quantidade de funcionários e o gestor gostaria de ter um agrupamento da soma de funcionários para cada estado. As informações contidas na tabela são:\n",
        "\n",
        "```\n",
        "funcionarios = [('SP', 16), ('ES', 8), ('MG', 9), ('MG', 6), ('SP', 10), ('MG', 4), ('ES',9), ('ES', 7), ('ES', 12), ('SP', 7), ('SP', 11), ('MG',8), ('ES',8), ('SP',9), ('RJ', 13), ('MG', 5), ('RJ', 9), ('SP', 12), ('MG', 10), ('SP', 7), ('ES', 14), ('SP', 10), ('MG', 12)]\n",
        "```\n",
        "\n",
        "A partir da lista de tuplas, crie um dicionário em que as chaves são os nomes dos estados únicos e os valores são as listas com o número de funcionários referentes ao estado. Crie também um dicionário em que as chaves são os nomes dos estados e os valores são a soma de funcionários(as) por estado.\n",
        "\n",
        "> Dica: Você pode fazer um passo intermediário para gerar uma lista de listas em que cada uma das listas possui apenas os valores numéricos de funcionários de cada estado.\n"
      ],
      "metadata": {
        "id": "JONqYFZjh3SV"
      }
    },
    {
      "cell_type": "code",
      "source": [
        "funcionarios = [('SP', 16), ('ES', 8), ('MG', 9), ('MG', 6), ('SP', 10), ('MG', 4), ('ES',9), ('ES', 7), ('ES', 12), ('SP', 7), ('SP', 11), ('MG',8), ('ES',8), ('SP',9), ('RJ', 13), ('MG', 5), ('RJ', 9), ('SP', 12), ('MG', 10), ('SP', 7), ('ES', 14), ('SP', 10), ('MG', 12)]\n",
        "\n",
        "estado, quantidade = zip(*funcionarios)\n",
        "\n",
        "estado = list(estado)\n",
        "quantidade = list(quantidade)\n",
        "func_por_estado = { est: sum([quantidade[i] for i in range(len(estado)) if estado[i] == est]) for est in set(estado)}\n",
        "func_por_estado\n"
      ],
      "metadata": {
        "id": "lq42ThQNh3SV",
        "colab": {
          "base_uri": "https://localhost:8080/"
        },
        "outputId": "ea4cdc03-6fff-4948-8a55-30256fb8f4eb"
      },
      "execution_count": null,
      "outputs": [
        {
          "output_type": "execute_result",
          "data": {
            "text/plain": [
              "{'RJ': 22, 'MG': 54, 'SP': 82, 'ES': 58}"
            ]
          },
          "metadata": {},
          "execution_count": 72
        }
      ]
    },
    {
      "cell_type": "markdown",
      "source": [
        "## Aula 4 - Lidando com exceções"
      ],
      "metadata": {
        "id": "ckCXdwLdjYgM"
      }
    },
    {
      "cell_type": "markdown",
      "source": [
        "### Aquecimento"
      ],
      "metadata": {
        "id": "OPBXL2tLjYgM"
      }
    },
    {
      "cell_type": "markdown",
      "source": [
        "#### Questão 1\n",
        "\n",
        "Faça um programa que solicite à pessoa usuária digitar dois números `float` e calcular a divisão entre esses números. O código deve conter um tratamento de erro, indicando o tipo de erro que foi gerado caso a divisão não seja possível de realizar.\n",
        "\n",
        "Teste o programa com o segundo valor numérico do input igual a 0 e também teste utilizando caracteres textuais no input para checar os tipos de erro que ocorrem."
      ],
      "metadata": {
        "id": "7z7VpY0ujYgM"
      }
    },
    {
      "cell_type": "code",
      "source": [
        "try:\n",
        " num1 = float(input('Informe um número decimal: '))\n",
        " num2 = float(input('Informe um número decimal: '))\n",
        " resultado = num1/num2\n",
        "except ZeroDivisionError as e:\n",
        "  print(type(e), 'O denominador não pode ser igual a zero.')\n",
        "except ValueError as e:\n",
        "  print(type (e),'O valor informado deve ser um número.')\n",
        "else:\n",
        "  print(f'O resultado da divisão de {num1} por {num2} é {resultado}')\n",
        "\n"
      ],
      "metadata": {
        "id": "Zg1CLRTxjYgM",
        "colab": {
          "base_uri": "https://localhost:8080/"
        },
        "outputId": "3ab54c85-df91-4935-8572-708e56570c70"
      },
      "execution_count": null,
      "outputs": [
        {
          "output_type": "stream",
          "name": "stdout",
          "text": [
            "Informe um número decimal: p\n",
            "<class 'ValueError'> O valor informado deve ser um número.\n"
          ]
        }
      ]
    },
    {
      "cell_type": "markdown",
      "source": [
        "#### Questão 2\n",
        "\n",
        "Faça um programa que solicite à pessoa usuária digitar um texto que será uma chave a ser pesquisada no seguinte dicionário: `idades = {'Júlia': 16, 'Carol': 23, 'Alberto': 19, 'Roberta': 17}`, armazenando o resultado do valor em uma variável. O código deve conter um tratamento de erro `KeyError`, imprimindo a informação 'Nome não encontrado' caso ocorra o erro e imprimir o valor caso não ocorra nenhum.\n",
        "\n",
        "Teste o programa com um nome presente em uma das chaves do dicionário e com um que não esteja no dicionário para verificar a mensagem de erro.\n",
        "\n"
      ],
      "metadata": {
        "id": "KYgeJS5ljYgM"
      }
    },
    {
      "cell_type": "code",
      "source": [
        "idades = {'Júlia': 16, 'Carol': 23, 'Alberto': 19, 'Roberta': 17}\n",
        "\n",
        "try:\n",
        "  nome = input('Informe o nome a ser pesquisado: ')\n",
        "  resultado = idades[nome]\n",
        "except KeyError:\n",
        "  print('Nome não encontrado.')\n",
        "else:\n",
        "  print(resultado)\n"
      ],
      "metadata": {
        "id": "mcTh-_tDjYgM",
        "colab": {
          "base_uri": "https://localhost:8080/"
        },
        "outputId": "6b25f8ff-b75c-42f7-f78a-cc90cf91f8d8"
      },
      "execution_count": null,
      "outputs": [
        {
          "output_type": "stream",
          "name": "stdout",
          "text": [
            "Informe o nome a ser pesquisado: Cara\n",
            "Nome não encontrado\n"
          ]
        }
      ]
    },
    {
      "cell_type": "markdown",
      "source": [
        "#### Questão 3\n",
        "Crie uma função que recebe uma lista como parâmetro e converta todos os valores da lista para `float`. A função deve conter um tratamento de erro indicando o tipo de erro gerado e retornar a lista caso não tenha ocorrido nenhum erro. Por fim, deve ter a cláusula `finally` para imprimir o texto: 'Fim da execução da função'."
      ],
      "metadata": {
        "id": "tGQNNI_PjYgM"
      }
    },
    {
      "cell_type": "code",
      "source": [
        "def converte_para_float (lista):\n",
        "  try:\n",
        "    lista_float = [float(i) for i in lista]\n",
        "  except Exception as e:\n",
        "    print(type(e), f'Erro :{e}')\n",
        "  else:\n",
        "    return lista_float\n",
        "  finally:\n",
        "    print('Fim da execução da função')\n",
        "\n"
      ],
      "metadata": {
        "id": "1oflR6ywjYgN"
      },
      "execution_count": null,
      "outputs": []
    },
    {
      "cell_type": "markdown",
      "source": [
        "#### Questão 4\n",
        "Crie uma função que recebe duas listas como parâmetros e agrupe os elementos um a um das listas, formando uma lista de tuplas de 3 elementos, onde o primeiro e segundo elemento da tupla são os valores na posição `i` das listas e o terceiro elemento é a soma dos valores na posição `i` das listas. A função deve conter um tratamento de erro indicando o tipo de erro gerado e retornar como resultado a lista de tuplas. Caso as listas enviadas como parâmetro tenham tamanhos diferentes, a função deve retornar um IndexError com a frase: 'A quantidade de elementos em cada lista é diferente.'\n",
        "\n",
        "Dados para testar a função:\n",
        "\n",
        "Valores sem erro:\n",
        "```\n",
        "lista1 = [4,6,7,9,10]\n",
        "lista 2 = [-4,6,8,7,9]\n",
        "```\n",
        "Listas com tamanhos diferentes:\n",
        "\n",
        "```\n",
        "lista1 = [4,6,7,9,10,4]\n",
        "lista 2 = [-4,6,8,7,9]\n",
        "```\n",
        "Listas com valores incoerentes:\n",
        "\n",
        "```\n",
        "lista1 = [4,6,7,9,'A']\n",
        "lista 2 = [-4,'E',8,7,9]\n",
        "```"
      ],
      "metadata": {
        "id": "WWE44VS4jYgN"
      }
    },
    {
      "cell_type": "markdown",
      "source": [
        "### Aplicando a projetos"
      ],
      "metadata": {
        "id": "vNSw4u6hjYgN"
      }
    },
    {
      "cell_type": "code",
      "source": [
        "def listas_soma(lista1, lista2):\n",
        "    try:\n",
        "        if len(lista1) == len(lista2):\n",
        "            dados = [(lista1[i], lista2[i], lista1[i]+lista2[i]) for i in range(len(lista1))]\n",
        "        else:\n",
        "            raise IndexError('As listas devem possuir quantidade de elementos iguais.')\n",
        "    except Exception as e:\n",
        "        print(type(e), f'Erro: {e}')\n",
        "    else:\n",
        "        return dados"
      ],
      "metadata": {
        "id": "zQC8Ea3VgeRC"
      },
      "execution_count": null,
      "outputs": []
    },
    {
      "cell_type": "code",
      "source": [
        "lista1 = [4,6,7,9,10,4]\n",
        "lista2 = [-4,6,8,7,9]\n",
        "listas_soma(lista1,lista2)"
      ],
      "metadata": {
        "colab": {
          "base_uri": "https://localhost:8080/"
        },
        "id": "JiJvvxVJggsA",
        "outputId": "16b20ffe-e2b2-4951-811e-766306a73122"
      },
      "execution_count": null,
      "outputs": [
        {
          "output_type": "stream",
          "name": "stdout",
          "text": [
            "<class 'IndexError'> Erro: A lista devem possuir quantidade de elementos iguais.\n"
          ]
        }
      ]
    },
    {
      "cell_type": "markdown",
      "source": [
        "#### Questão 5\n",
        "\n",
        "Você recebeu como desafio desenvolver um código que contabiliza as pontuações de estudantes de uma instituição de ensino de acordo com suas respostas num teste.\n",
        "\n",
        "Este código deve ser testado para um exemplo de 3 estudantes com uma lista de listas em que cada lista possui as respostas de 5 questões objetivas de cada estudante. Cada questão vale um ponto e as alternativas possíveis são A, B, C ou D.\n",
        "\n",
        "Caso alguma alternativa em um dos testes não esteja entre as alternativas possíveis você deve lançar um **ValueError** com a mensagem `\"A alternativa [alternativa] não é uma opção de alternativa válida\"`. O cálculo das 3 notas só será realizado mediante as entradas com as alternativas A, B, C ou D em todos os testes.\n",
        "\n",
        "Se não for lançada a exceção, será exibida uma lista com as notas em cada teste.\n",
        "\n",
        "Os dados para o teste do código são:\n",
        "\n",
        "- **Gabarito da prova**:\n",
        "```\n",
        "gabarito = ['D', 'A', 'B', 'C', 'A']\n",
        "```\n",
        "Abaixo temos 2 listas de listas que você pode usar como teste\n",
        "\n",
        "- **Notas sem exceção:**\n",
        "```\n",
        "testes_sem_ex = [['D', 'A', 'B', 'C', 'A'], ['C', 'A', 'A', 'C', 'A'], ['D', 'B', 'A', 'C', 'A']]\n",
        "```\n",
        "- **Notas com exceção:**\n",
        "```\n",
        "testes_com_ex = [['D', 'A', 'B', 'C', 'A'], ['C', 'A', 'A', 'E', 'A'], ['D', 'B', 'A', 'C', 'A']]\n",
        "```\n",
        "\n",
        "> Dica: Para verificar se uma entrada da lista não está entre as alternativas possíveis use a estrutura `lista[i] not in ['A','B','C','D']` (Por exemplo, `1 not in [2,3,4]`... Saída: `True`)"
      ],
      "metadata": {
        "id": "AHC6OFQDjYgN"
      }
    },
    {
      "cell_type": "code",
      "source": [
        "gabarito = ['D', 'A', 'B', 'C', 'A']\n",
        "def corretor_teste(testes: list):\n",
        "  pontos = []\n",
        "  try:\n",
        "    for teste in testes:\n",
        "      nota = 0\n",
        "      for i in  range(len(teste)):\n",
        "        if teste[i] not in ['A', 'B', 'C', 'D']:\n",
        "          raise ValueError (f'O item  {teste[i]} não é uma opção de resposta.')\n",
        "        elif teste[i] ==  gabarito[i]:\n",
        "          nota += 1\n",
        "      pontos.append(nota)\n",
        "  except Exception as e:\n",
        "    print(e)\n",
        "  else:\n",
        "    return pontos\n",
        "\n"
      ],
      "metadata": {
        "id": "n7AJhrMpjYgN"
      },
      "execution_count": null,
      "outputs": []
    },
    {
      "cell_type": "code",
      "source": [
        "# Testando no exemplo que não lança exceção\n",
        "testes_sem_ex = [['D', 'A', 'B', 'C', 'A'], ['C', 'A', 'A', 'C', 'A'], ['D', 'B', 'A', 'C', 'A']]\n",
        "\n",
        "corretor_teste(testes_sem_ex)"
      ],
      "metadata": {
        "id": "o_05pMigo-tR",
        "colab": {
          "base_uri": "https://localhost:8080/"
        },
        "outputId": "15fd14a6-4cf9-4e51-f135-ddcbeec9507f"
      },
      "execution_count": null,
      "outputs": [
        {
          "output_type": "execute_result",
          "data": {
            "text/plain": [
              "[5, 3, 3]"
            ]
          },
          "metadata": {},
          "execution_count": 8
        }
      ]
    },
    {
      "cell_type": "code",
      "source": [
        "# Testando no exemplo que lança exceção\n",
        "testes_com_ex = [['D', 'A', 'B', 'C', 'A'], ['C', 'A', 'A', 'E', 'A'], ['D', 'B', 'A', 'C', 'A']]\n",
        "corretor_teste(testes_com_ex)"
      ],
      "metadata": {
        "id": "PWeHm6Fjo-at",
        "colab": {
          "base_uri": "https://localhost:8080/"
        },
        "outputId": "6d8544a4-6944-418b-9e0b-a123437ac3c2"
      },
      "execution_count": null,
      "outputs": [
        {
          "output_type": "stream",
          "name": "stdout",
          "text": [
            "O item  E não é uma opção de resposta.\n"
          ]
        }
      ]
    },
    {
      "cell_type": "markdown",
      "source": [
        "#### Questão 6\n",
        "\n",
        "Você está trabalhando com processamento de linguagem natural ([NLP](https://www.alura.com.br/artigos/guia-nlp-conceitos-tecnicas)) e, dessa vez, sua líder requisitou que você criasse um trecho de código que recebe uma lista com as palavras separadas de uma frase gerada pelo ChatGPT.\n",
        "\n",
        "Você precisa criar uma função que avalia cada palavra desse texto e verificar se o tratamento para retirar os símbolos de pontuação (',' '.', '!' e '?') foi realizado. Caso contrário, será lançada uma exceção do tipo **ValueError** apontando o 1º caso em que foi detectado o uso de uma pontuação por meio da frase `\"O texto apresenta pontuações na palavra \"[palavra]\".\"`.\n",
        "\n",
        "Essa demanda é voltada para a análise do padrão de frases geradas pela inteligência artificial.\n",
        "\n",
        "> Dica: Para verificar se uma ou mais das pontuações estão presentes em cada palavra, utilize a palavra chave `or` na condição if (Por exemplo, `('a' or 'b') in 'alura'` ... Saída: `True`)\n",
        "\n",
        "Os dados para o teste do código são:\n",
        "\n",
        "- **Lista tratada:**\n",
        "```\n",
        "lista_tratada = ['Python', 'é', 'uma', 'linguagem', 'de', 'programação', 'poderosa', 'versátil',\n",
        "                  'e', 'fácil', 'de', 'aprender', 'utilizada', 'em', 'diversos', 'campos', 'desde',\n",
        "                  'análise', 'de', 'dados', 'até', 'inteligência', 'artificial']\n",
        "```\n",
        "- **Lista não tratada:**\n",
        "```\n",
        "lista_nao_tratada = ['Python', 'é', 'uma', 'linguagem', 'de', 'programação', 'poderosa,', 'versátil',\n",
        "                  'e', 'fácil,', 'de', 'aprender', 'utilizada', 'em', 'diversos', 'campos,', 'desde',\n",
        "                  'análise', 'de', 'dados', 'até', 'inteligência', 'artificial!']\n",
        "```\n"
      ],
      "metadata": {
        "id": "AjQWxSIq28Ac"
      }
    },
    {
      "cell_type": "code",
      "source": [
        "# criando a função que recebe a lista de palavras\n",
        "def avalia_palavra(lista:list):\n",
        "  pontuação = (',','.' , '?' , '!')\n",
        "  palavra_pontuação = []\n",
        "  for palavra in lista:\n",
        "     for ponto in pontuação:\n",
        "      if  ponto in palavra:\n",
        "          palavra_pontuação.append(palavra)\n",
        "          break\n",
        "\n",
        "  if palavra_pontuação:\n",
        "      raise ValueError (f'O texto apresenta pontuação na palavra :{palavra_pontuação}.')\n",
        "  else:\n",
        "    print('Texto já tratado.')"
      ],
      "metadata": {
        "id": "gxVg1sc_xACI"
      },
      "execution_count": null,
      "outputs": []
    },
    {
      "cell_type": "code",
      "source": [
        "# Testando no exemplo que não lança exceção\n",
        "lista_tratada = ['Python', 'é', 'uma', 'linguagem', 'de', 'programação', 'poderosa', 'versátil',\n",
        "                  'e', 'fácil', 'de', 'aprender', 'utilizada', 'em', 'diversos', 'campos', 'desde',\n",
        "                  'análise', 'de', 'dados', 'até', 'inteligência', 'artificial ']\n",
        "\n",
        "try:\n",
        "  avalia_palavra(lista_tratada)\n",
        "except ValueError as e:\n",
        "    print(e)\n"
      ],
      "metadata": {
        "id": "gDvOq79slmlJ",
        "colab": {
          "base_uri": "https://localhost:8080/"
        },
        "outputId": "43099ea4-e1b7-483e-abeb-a6a7802edb32"
      },
      "execution_count": null,
      "outputs": [
        {
          "output_type": "stream",
          "name": "stdout",
          "text": [
            "Texto já tratado.\n"
          ]
        }
      ]
    },
    {
      "cell_type": "code",
      "source": [
        "# Testando no exemplo que lança exceção\n",
        "lista_nao_tratada = ['Python', 'é', 'uma', 'linguagem', 'de', 'programação', 'poderosa,', 'versátil',\n",
        "                  'e', 'fácil,', 'de', 'aprender', 'utilizada', 'em', 'diversos', 'campos,', 'desde',\n",
        "                  'análise', 'de', 'dados', 'até', 'inteligência', 'artificial!']\n",
        "\n",
        "try:\n",
        "  avalia_palavra(lista_nao_tratada)\n",
        "except ValueError as e:\n",
        "    print(e)\n",
        "\n"
      ],
      "metadata": {
        "id": "PQADJf42woaw",
        "colab": {
          "base_uri": "https://localhost:8080/"
        },
        "outputId": "540c0eb2-af6b-4c07-c0bb-b817ea3b8de3"
      },
      "execution_count": null,
      "outputs": [
        {
          "output_type": "stream",
          "name": "stdout",
          "text": [
            "O texto apresenta pontuação na palavra :['Python?', 'poderosa,', 'fácil,', 'campos,', 'artificial!'].\n"
          ]
        }
      ]
    },
    {
      "cell_type": "markdown",
      "source": [
        "#### Questão 7\n",
        "Você foi contratado como uma pessoa cientista de dados para auxiliar um laboratório que faz experimentos sobre o comportamento de uma cultura de fungos. O laboratório precisa avaliar constantemente a razão (divisão) entre os dados de pressão e temperatura do ambiente controlado recolhidos durante a experimentação para definir a melhor condição para os testes.\n",
        "\n",
        "Para cumprir com a demanda, você precisa criar uma função `divide_colunas` que recebe os dados das colunas de pressão e temperatura (que vem no formato de listas) e gerar uma nova coluna com o resultado da divisão. Os parâmetros da função são as duas listas e você deve tratar dentro dela ao menos 2 tipos de exceções:   \n",
        "- Verificar se as listas têm o mesmo tamanho (ValueError)\n",
        "- Verificar se existe alguma divisão por zero (ZeroDivisionError)\n",
        "\n",
        "Para testar a função, vamos realizar a divisão entre duas listas de dados coletados no experimento, com os valores de pressão e temperatura do ambiente controlado.\n",
        "\n",
        "Como teste, use os seguintes dados:\n",
        "\n",
        "- **Dados sem exceção:**\n",
        "```\n",
        "pressoes = [100, 120, 140, 160, 180]\n",
        "temperaturas = [20, 25, 30, 35, 40]\n",
        "```\n",
        "- **Dados com exceção:**\n",
        "1. Exceção de ZeroDivisionError\n",
        "```\n",
        "pressoes = [60, 120, 140, 160, 180]\n",
        "temperaturas = [0, 25, 30, 35, 40]\n",
        "```\n",
        "2. Exceção de ValueError\n",
        "```\n",
        "pressoes = [100, 120, 140, 160]\n",
        "temperaturas = [20, 25, 30, 35, 40]\n",
        "```\n",
        "\n",
        "> Dica: Você pode usar `zip()` para parear os dados da lista_1 com a lista_2. Crie uma estrutura try-except que caso uma das exceções sejam lançadas, podemos ver o tipo de erro na saída.\n"
      ],
      "metadata": {
        "id": "3IhndsTyzdRq"
      }
    },
    {
      "cell_type": "code",
      "source": [
        "def divide_colunas(pressoes, temperaturas):\n",
        "   try:\n",
        "     if len(pressoes) == len(temperaturas):\n",
        "       razao = [pressoes[i]/temperaturas[i] for i in range(len(pressoes))]\n",
        "     elif   len(pressoes) != len(temperaturas):\n",
        "       raise ValueError(\"As listas precisam ter o mesmo tamanho\")\n",
        "   except  ZeroDivisionError as e  :\n",
        "    print(type(e),'O divisor deve ser um número diferente de zero.')\n",
        "   except ValueError as e:\n",
        "     print(type(e),'As listas devem possuir quantidade de elementos iguais.')\n",
        "   else:\n",
        "     return razao\n"
      ],
      "metadata": {
        "id": "pYofyZVsuF2Y"
      },
      "execution_count": null,
      "outputs": []
    },
    {
      "cell_type": "code",
      "source": [
        "# Testando no exemplo que não lança exceção\n",
        "pressoes = [100, 120, 140, 160, 180]\n",
        "temperaturas = [20, 25, 30, 35, 40]\n",
        "\n",
        "divide_colunas(pressoes, temperaturas)\n"
      ],
      "metadata": {
        "id": "gSvAEmxit1zI",
        "colab": {
          "base_uri": "https://localhost:8080/"
        },
        "outputId": "80559a09-1db3-4d5a-d4a4-03c69548ab75"
      },
      "execution_count": null,
      "outputs": [
        {
          "output_type": "execute_result",
          "data": {
            "text/plain": [
              "[5.0, 4.8, 4.666666666666667, 4.571428571428571, 4.5]"
            ]
          },
          "metadata": {},
          "execution_count": 114
        }
      ]
    },
    {
      "cell_type": "code",
      "source": [
        "# Testando no exemplo que lança exceção (ZeroDivisionError)\n",
        "pressoes = [60, 120, 140, 160, 180]\n",
        "temperaturas = [0, 25, 30, 35, 40]\n",
        "\n",
        "divide_colunas(pressoes, temperaturas)"
      ],
      "metadata": {
        "id": "bvebuMOot4ur",
        "colab": {
          "base_uri": "https://localhost:8080/"
        },
        "outputId": "0b8e3ed2-2886-4839-8deb-7784f8ddba38"
      },
      "execution_count": null,
      "outputs": [
        {
          "output_type": "stream",
          "name": "stdout",
          "text": [
            "<class 'ZeroDivisionError'> O divisor deve ser um número diferente de zero.\n"
          ]
        }
      ]
    },
    {
      "cell_type": "code",
      "source": [
        "# Testando no exemplo que lança exceção (ValueError)\n",
        "pressoes = [100, 120, 140, 160]\n",
        "temperaturas = [20, 25, 30, 35, 40]\n",
        "resultado = divide_colunas(pressoes, temperaturas)\n",
        "resultado"
      ],
      "metadata": {
        "id": "sFsfTVHqt4d5",
        "colab": {
          "base_uri": "https://localhost:8080/"
        },
        "outputId": "a053d73b-8c2a-422d-f880-132a264950ec"
      },
      "execution_count": null,
      "outputs": [
        {
          "output_type": "stream",
          "name": "stdout",
          "text": [
            "<class 'ValueError'> As listas devem possuir quantidade de elementos iguais.\n"
          ]
        }
      ]
    }
  ]
}