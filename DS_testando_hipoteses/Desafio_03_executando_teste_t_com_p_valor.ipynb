{
  "nbformat": 4,
  "nbformat_minor": 0,
  "metadata": {
    "colab": {
      "provenance": [],
      "authorship_tag": "ABX9TyPuC1AATq83/ZOkr7D42aC5",
      "include_colab_link": true
    },
    "kernelspec": {
      "name": "python3",
      "display_name": "Python 3"
    },
    "language_info": {
      "name": "python"
    }
  },
  "cells": [
    {
      "cell_type": "markdown",
      "metadata": {
        "id": "view-in-github",
        "colab_type": "text"
      },
      "source": [
        "<a href=\"https://colab.research.google.com/github/Gabriellemga/Python_Data_Science_Alura/blob/main/DS_testando_hipoteses/Desafio_03_executando_teste_t_com_p_valor.ipynb\" target=\"_parent\"><img src=\"https://colab.research.google.com/assets/colab-badge.svg\" alt=\"Open In Colab\"/></a>"
      ]
    },
    {
      "cell_type": "markdown",
      "source": [
        "# Caso Techsafe"
      ],
      "metadata": {
        "id": "f4OerQgITVYp"
      }
    },
    {
      "cell_type": "markdown",
      "source": [
        "A empresa de consultoria que você participa recebeu uma nova cliente, a empresa Techsafe.\n",
        "\n",
        "Techsafe é uma empresa de tecnologia que lançou recentemente um novo software de compressão de dados, alegando que ele é capaz de reduzir significativamente o tamanho dos arquivos em comparação com a versão anterior. A equipe de desenvolvimento está interessada em verificar se, de fato, o novo software alcança uma média de compressão superior a 20%, conforme anunciado.\n",
        "\n",
        "Para essa tarefa, a Techsafe disponibilizou poucos dados amostrais em relação à sua última consultoria. A equipe recebeu uma amostra de 25 arquivos compactados usando o novo software e mediu a porcentagem de compressão para cada arquivo, armazenando cada valor em uma tabela com escala de 0 a 100.\n",
        "\n",
        "Para cumprir essa demanda, a equipe de consultoria separou algumas etapas que precisam ser realizadas:\n",
        "\n",
        "1-Formule uma hipótese para o caso da Techsafe.\n",
        "\n",
        "2-Calcule a média amostral dos dados.\n",
        "\n",
        "3-Estabeleça um nível de confiança para o problema e calcule o nível de significância.\n",
        "\n",
        "4-Utilize o Teste t para calcular o valor da estatística t e o p-valor para o problema da Techsasfe, mostre os dados.\n",
        "\n",
        "5-Pelos resultados anteriores, a hipótese nula formulada é rejeitada ou não rejeitada? Explique o que justifica sua decisão."
      ],
      "metadata": {
        "id": "R22p_bDVTZvG"
      }
    },
    {
      "cell_type": "code",
      "execution_count": 18,
      "metadata": {
        "id": "LnA_EY4ZS384"
      },
      "outputs": [],
      "source": [
        "import pandas as pd\n",
        "import numpy as np\n",
        "\n",
        "# Conjunto de dados Techsafe\n",
        "df_techsafe = pd.DataFrame({'porcentagem_compressao': [21.99342831, 20.7234714 , 22.29537708, 24.04605971, 20.53169325, 20.53172609, 24.15842563, 22.53486946, 20.06105123, 22.08512009, 20.07316461, 20.06854049, 21.48392454, 17.17343951, 17.55016433, 19.87542494, 18.97433776, 21.62849467, 19.18395185, 18.1753926, 23.93129754, 20.5484474 , 21.13505641, 18.15050363, 19.91123455]})"
      ]
    },
    {
      "cell_type": "code",
      "source": [
        "#estabelecendo hipoteses\n",
        "\n",
        "H0: μ = 20\n",
        "H1: μ > 20"
      ],
      "metadata": {
        "id": "ubwTxfGIhKsP"
      },
      "execution_count": null,
      "outputs": []
    },
    {
      "cell_type": "code",
      "source": [
        "# media amostral\n",
        "\n",
        "media_amostral = df_techsafe['porcentagem_compressao'].mean()\n",
        "print(f'Média amostral:{media_amostral}')"
      ],
      "metadata": {
        "colab": {
          "base_uri": "https://localhost:8080/"
        },
        "id": "F1BCHGIlhh0g",
        "outputId": "802879b1-ccf6-44c3-af8b-3f98c70a6977"
      },
      "execution_count": 13,
      "outputs": [
        {
          "output_type": "stream",
          "name": "stdout",
          "text": [
            "Média amostral: 20.6729838832\n"
          ]
        }
      ]
    },
    {
      "cell_type": "code",
      "source": [
        "# nivel de confiança\n",
        "\n",
        "confianca = 0.95\n",
        "nivel_significancia = 1 - confianca\n",
        "print(f'Nível de significância: {nivel_significancia}')\n"
      ],
      "metadata": {
        "colab": {
          "base_uri": "https://localhost:8080/"
        },
        "id": "kilS6mcUmwCJ",
        "outputId": "da3b2840-5577-4a79-db96-c17bf950bd96"
      },
      "execution_count": 16,
      "outputs": [
        {
          "output_type": "stream",
          "name": "stdout",
          "text": [
            "Nível de significância: 0.050000000000000044\n"
          ]
        }
      ]
    },
    {
      "cell_type": "code",
      "source": [
        "# teste t unilateral para uma amoestra\n",
        "\n",
        "from scipy.stats import ttest_1samp\n",
        "\n",
        "stats, p_valor = ttest_1samp(df_techsafe, 20, alternative = 'greater')\n",
        "\n",
        "print(f'Estatística t: {stats}')\n",
        "print(f'Valor-p: {p_valor}')"
      ],
      "metadata": {
        "colab": {
          "base_uri": "https://localhost:8080/"
        },
        "id": "AjKetPXPh6s4",
        "outputId": "85d11c53-f4df-4354-f38b-147bc435ebca"
      },
      "execution_count": 17,
      "outputs": [
        {
          "output_type": "stream",
          "name": "stdout",
          "text": [
            "Estatística t: [1.75887757]\n",
            "Valor-p: [0.045672]\n"
          ]
        }
      ]
    },
    {
      "cell_type": "code",
      "source": [
        "if p_valor < nivel_significancia:\n",
        "    conclusao = 'Rejeitar a hipótese nula'\n",
        "else:\n",
        "    conclusao = 'Não rejeitar a hipótese nula'\n",
        "\n",
        "print(f'Decisão: {conclusao}')"
      ],
      "metadata": {
        "colab": {
          "base_uri": "https://localhost:8080/"
        },
        "id": "kCLqsma_ni3Z",
        "outputId": "fb4ea5e8-b235-4368-dad7-757f6ebfde4a"
      },
      "execution_count": 20,
      "outputs": [
        {
          "output_type": "stream",
          "name": "stdout",
          "text": [
            "Decisão: Rejeitar a hipótese nula\n"
          ]
        }
      ]
    }
  ]
}