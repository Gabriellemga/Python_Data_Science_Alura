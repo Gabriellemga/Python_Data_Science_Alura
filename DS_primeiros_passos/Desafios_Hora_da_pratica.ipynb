{
  "nbformat": 4,
  "nbformat_minor": 0,
  "metadata": {
    "colab": {
      "provenance": [],
      "include_colab_link": true
    },
    "kernelspec": {
      "name": "python3",
      "display_name": "Python 3"
    },
    "language_info": {
      "name": "python"
    }
  },
  "cells": [
    {
      "cell_type": "markdown",
      "metadata": {
        "id": "view-in-github",
        "colab_type": "text"
      },
      "source": [
        "<a href=\"https://colab.research.google.com/github/Gabriellemga/Python_Cursos_Alura/blob/main/Python_DS_primeiros_passos/Desafios_Hora_da_pratica.ipynb\" target=\"_parent\"><img src=\"https://colab.research.google.com/assets/colab-badge.svg\" alt=\"Open In Colab\"/></a>"
      ]
    },
    {
      "cell_type": "markdown",
      "source": [
        "# Sobre o notebook\n",
        "\n",
        "A \"hora da prática\" é uma atividade do curso de Python para Data Science da Alura que contém diversos desafios envolvendo os aprendizados de cada aula.\n",
        "\n",
        "O notebook \"hora da pratica\" é um notebook construído com espaço para as células dos desafios propostos no curso, com ele você tem espaço para construir e executar suas soluções"
      ],
      "metadata": {
        "id": "_kwAaQ36gLQ1"
      }
    },
    {
      "cell_type": "markdown",
      "source": [
        "## Aula 1 - Introdução ao Python"
      ],
      "metadata": {
        "id": "Mc-KN0dA0Z83"
      }
    },
    {
      "cell_type": "markdown",
      "source": [
        "### Questão 1\n",
        "\n",
        "Imprima a frase `Escola de Dados da Alura!`"
      ],
      "metadata": {
        "id": "l5eLWf0W0ikn"
      }
    },
    {
      "cell_type": "code",
      "source": [
        "print('Escola de Dados da Alira')"
      ],
      "metadata": {
        "id": "5pllxJ0h0-yA",
        "colab": {
          "base_uri": "https://localhost:8080/"
        },
        "outputId": "f22d7c33-fc1f-49ab-9a8c-f528653e029b"
      },
      "execution_count": 4,
      "outputs": [
        {
          "output_type": "stream",
          "name": "stdout",
          "text": [
            "Escola de Dados da Alira\n"
          ]
        }
      ]
    },
    {
      "cell_type": "markdown",
      "source": [
        "### Questão 2\n",
        "Imprima na tela seu nome e seu sobrenome seguindo a estrutura abaixo:\n",
        "```\n",
        "Nome: [seu nome]\n",
        "Sobrenome: [seu sobrenome]\n",
        "```\n"
      ],
      "metadata": {
        "id": "tQdX90Ue03c7"
      }
    },
    {
      "cell_type": "code",
      "source": [
        "print('Nome: Márcia ')\n",
        "print('Sobrenome : Apolinario')"
      ],
      "metadata": {
        "id": "RVw5iKn20_Ps",
        "colab": {
          "base_uri": "https://localhost:8080/"
        },
        "outputId": "1e70ab3f-4917-48aa-da01-33b12635be88"
      },
      "execution_count": 5,
      "outputs": [
        {
          "output_type": "stream",
          "name": "stdout",
          "text": [
            "Nome: Márcia \n",
            "Sobrenome : Apolinario\n"
          ]
        }
      ]
    },
    {
      "cell_type": "markdown",
      "source": [
        "### Questão 3\n",
        "Imprima o seu primeiro nome letra a letra. Por exemplo, nome é Mirla, então eu obtenho a seguinte saída:\n",
        "```\n",
        "M\n",
        "I\n",
        "R\n",
        "L\n",
        "A\n",
        "```\n"
      ],
      "metadata": {
        "id": "gfg-aiip03vC"
      }
    },
    {
      "cell_type": "code",
      "source": [
        "print('M\\nA\\nR\\nC\\nI\\nA')"
      ],
      "metadata": {
        "id": "v5bkrgf60_qx",
        "colab": {
          "base_uri": "https://localhost:8080/"
        },
        "outputId": "982b6721-5e7a-4969-eb1c-237a8194429a"
      },
      "execution_count": 6,
      "outputs": [
        {
          "output_type": "stream",
          "name": "stdout",
          "text": [
            "M\n",
            "A\n",
            "R\n",
            "C\n",
            "I\n",
            "A\n"
          ]
        }
      ]
    },
    {
      "cell_type": "markdown",
      "source": [
        "### Questão 4\n",
        "Imprima o dia do seu nascimento em formato `dia mês ano`. Os valores de dia e ano não podem estar entre aspas. O formato deve estar como no exemplo, supondo uma data de aniversário dia 28 de fevereiro de 2003:\n",
        "```\n",
        "28 fevereiro 2003\n",
        "```"
      ],
      "metadata": {
        "id": "oadrJbl704MM"
      }
    },
    {
      "cell_type": "code",
      "source": [
        "print ( '06 de Março 1986')"
      ],
      "metadata": {
        "id": "cx0KSsrq1ALD",
        "colab": {
          "base_uri": "https://localhost:8080/"
        },
        "outputId": "9fbc7d42-e061-4b99-aec6-636218e82743"
      },
      "execution_count": 7,
      "outputs": [
        {
          "output_type": "stream",
          "name": "stdout",
          "text": [
            "06 de Março 1986\n"
          ]
        }
      ]
    },
    {
      "cell_type": "markdown",
      "source": [
        "### Questão 5\n",
        "Imprima em um único print o atual ano que você está fazendo esse curso, o valor do ano deve ser um dado numérico. A saída do print deve ser a seguinte:\n",
        "```\n",
        "Ano atual: [ano]\n",
        "```\n"
      ],
      "metadata": {
        "id": "3RgyMaan04TD"
      }
    },
    {
      "cell_type": "code",
      "execution_count": 8,
      "metadata": {
        "id": "UN77EfQ2d36Y",
        "colab": {
          "base_uri": "https://localhost:8080/"
        },
        "outputId": "536a5a31-f801-44a9-d6b7-221f282a7b77"
      },
      "outputs": [
        {
          "output_type": "stream",
          "name": "stdout",
          "text": [
            "Ano atual : 2025\n"
          ]
        }
      ],
      "source": [
        "print ('Ano atual : 2025')"
      ]
    },
    {
      "cell_type": "markdown",
      "source": [
        "## Aula 2 - Manipulando dados no Python"
      ],
      "metadata": {
        "id": "D9e3FqhO1S3X"
      }
    },
    {
      "cell_type": "markdown",
      "source": [
        "### Coleta e amostragem de dados"
      ],
      "metadata": {
        "id": "n6o7C1Ze2cRe"
      }
    },
    {
      "cell_type": "markdown",
      "source": [
        "#### Questão 1\n",
        "Crie um programa que solicite à pessoa usuária digitar seu nome, e imprima “Olá, [nome]!”."
      ],
      "metadata": {
        "id": "sRneWag9PV5Q"
      }
    },
    {
      "cell_type": "code",
      "source": [
        "nome = input('Qual o seu nome?')\n",
        "print( 'Ola, %s !'%nome)"
      ],
      "metadata": {
        "id": "dbX1fKqy2HnE",
        "colab": {
          "base_uri": "https://localhost:8080/"
        },
        "outputId": "2bdb8535-d736-4f45-9903-812fc8bbef13"
      },
      "execution_count": 9,
      "outputs": [
        {
          "output_type": "stream",
          "name": "stdout",
          "text": [
            "Qual o seu nome?Marcia\n",
            "Ola, Marcia !\n"
          ]
        }
      ]
    },
    {
      "cell_type": "markdown",
      "source": [
        "#### Questão 2\n",
        "Crie um programa que solicite à pessoa usuária digitar seu nome e idade, e imprima “Olá, [nome], você tem [idade] anos.”."
      ],
      "metadata": {
        "id": "BJ1SznEp70d5"
      }
    },
    {
      "cell_type": "code",
      "source": [
        "nome = input('Digite o seu nome : ')\n",
        "idade = int(input('Digite a sua idade:'))\n",
        "print(f'Olá. {nome}, você tem {idade} anos')\n",
        "print('Olá, %s, você tem %d anos'%(nome, idade))"
      ],
      "metadata": {
        "id": "jKz-0Sq8PFkp",
        "colab": {
          "base_uri": "https://localhost:8080/"
        },
        "outputId": "afcbb2f1-c7a4-4cd4-b348-f91c77c0d6aa"
      },
      "execution_count": 10,
      "outputs": [
        {
          "output_type": "stream",
          "name": "stdout",
          "text": [
            "Digite o seu nome : Marcia\n",
            "Digite a sua idade:39\n",
            "Olá. Marcia, você tem 39 anos\n",
            "Olá, Marcia, você tem 39 anos\n"
          ]
        }
      ]
    },
    {
      "cell_type": "markdown",
      "source": [
        "#### Questão 3\n",
        "Crie um programa que solicite à pessoa usuária digitar seu nome, idade e altura em metros, e imprima “Olá, [nome], você tem [idade] anos e mede [altura] metros!”."
      ],
      "metadata": {
        "id": "2T0jNYZt70aa"
      }
    },
    {
      "cell_type": "code",
      "source": [
        "nome = input('Digite seu nome: ')\n",
        "idade = int(input('Digite a sua idade:'))\n",
        "altura = float(input('Digite a sua altura:'))\n",
        "print('Olá,{}, você tem {} anos e mede {} metros !'.format(nome,idade,altura))"
      ],
      "metadata": {
        "id": "pI4kHNzTPIXh",
        "colab": {
          "base_uri": "https://localhost:8080/"
        },
        "outputId": "bc4ea066-5c40-4fbf-ac3c-77f23489965e"
      },
      "execution_count": 13,
      "outputs": [
        {
          "output_type": "stream",
          "name": "stdout",
          "text": [
            "Digite seu nome: Marcia\n",
            "Digite a sua idade:39\n",
            "Digite a sua altura:1.64\n",
            "Olá,Marcia, você tem 39 anos e mede 1.64 metros !\n"
          ]
        }
      ]
    },
    {
      "cell_type": "markdown",
      "source": [
        "### Calculadora com operadores"
      ],
      "metadata": {
        "id": "mEBFwKkC70KP"
      }
    },
    {
      "cell_type": "markdown",
      "source": [
        "#### Questão 1\n",
        "\n",
        "Crie um programa que solicite dois valores numéricos à pessoa usuária e imprima a soma dos dois valores."
      ],
      "metadata": {
        "id": "H-IV1oAPPSqK"
      }
    },
    {
      "cell_type": "code",
      "source": [
        "valor_1 = int(input('Digite um número:'))\n",
        "valor_2 = int(input('Digite outro número:'))\n",
        "soma = int(valor_1 + valor_2)\n",
        "print('A soma %d com %d é igual a %d'%(valor_1,valor_2,soma))"
      ],
      "metadata": {
        "id": "Zb0W84sy8rnp",
        "colab": {
          "base_uri": "https://localhost:8080/"
        },
        "outputId": "18c6984f-a31e-4d64-b08d-50d19e4ed9e2"
      },
      "execution_count": 14,
      "outputs": [
        {
          "output_type": "stream",
          "name": "stdout",
          "text": [
            "Digite um número:5\n",
            "Digite outro número:6\n",
            "A soma 5 com 6 é igual a 11\n"
          ]
        }
      ]
    },
    {
      "cell_type": "markdown",
      "source": [
        "#### Questão 2\n",
        "Crie um programa que solicite três valores numéricos à pessoa usuária e imprima a soma dos três valores."
      ],
      "metadata": {
        "id": "LUoi2MOu70Em"
      }
    },
    {
      "cell_type": "code",
      "source": [
        "valor_1 = int(input('Digite um número:  '))\n",
        "valor_2 = int(input('Digite outro número: '))\n",
        "valor_3 = int(input('Digite mais um número: '))\n",
        "soma = int(valor_1 + valor_2 + valor_3)\n",
        "print(f'A soma {valor_1},{valor_2} e {valor_3} é igual a {soma}')"
      ],
      "metadata": {
        "id": "4FYjWyBS8rDm",
        "colab": {
          "base_uri": "https://localhost:8080/"
        },
        "outputId": "9aa3acb8-d8a6-435a-bb85-7ec21256e955"
      },
      "execution_count": 15,
      "outputs": [
        {
          "output_type": "stream",
          "name": "stdout",
          "text": [
            "Digite um número:  62\n",
            "Digite outro número: 5\n",
            "Digite mais um número: 8\n",
            "A soma 62,5 e 8 é igual a 75\n"
          ]
        }
      ]
    },
    {
      "cell_type": "markdown",
      "source": [
        "#### Questão 3\n",
        "Crie um programa que solicite dois valores numéricos à pessoa usuária e imprima a subtração do primeiro pelo o segundo valor."
      ],
      "metadata": {
        "id": "lezGctF07z8i"
      }
    },
    {
      "cell_type": "code",
      "source": [
        "valor_1 = int(input('Digite um úmero: '))\n",
        "valor_2 = int(input('Digite outro número: '))\n",
        "subtração = int(valor_1 - valor_2)\n",
        "print('A diferença entre {} e {} é de {}'.format(valor_1,valor_2,subtração))"
      ],
      "metadata": {
        "id": "k0GE1z4w8p3J",
        "colab": {
          "base_uri": "https://localhost:8080/"
        },
        "outputId": "5d66a30e-c688-44c8-c230-2f8caa23e719"
      },
      "execution_count": 16,
      "outputs": [
        {
          "output_type": "stream",
          "name": "stdout",
          "text": [
            "Digite um úmero: 5\n",
            "Digite outro número: 9\n",
            "A diferença entre 5 e 9 é de -4\n"
          ]
        }
      ]
    },
    {
      "cell_type": "markdown",
      "source": [
        "#### Questão 4\n",
        "\n",
        "Crie um programa que solicite dois valores numéricos à pessoa usuária e imprima a multiplicação dos dois valores.\n"
      ],
      "metadata": {
        "id": "wwMP-dPU7zxW"
      }
    },
    {
      "cell_type": "code",
      "source": [
        "valor_1 = int(input('Digite um úmero: '))\n",
        "valor_2 = int(input('Digite outro número: '))\n",
        "multiplicação = int(valor_1 * valor_2)\n",
        "print(' A multiplicaçõ de %d e %d é igual a %d'%(valor_1,valor_2,multiplicação))"
      ],
      "metadata": {
        "id": "GzFCVHfp8peZ",
        "colab": {
          "base_uri": "https://localhost:8080/"
        },
        "outputId": "375eb6cc-4746-4c2e-a803-ee9abb6af3b3"
      },
      "execution_count": 17,
      "outputs": [
        {
          "output_type": "stream",
          "name": "stdout",
          "text": [
            "Digite um úmero: 5\n",
            "Digite outro número: 9\n",
            " A multiplicaçõ de 5 e 9 é igual a 45\n"
          ]
        }
      ]
    },
    {
      "cell_type": "markdown",
      "source": [
        "#### Questão 5\n",
        "\n",
        "Crie um programa que solicite dois valores numéricos, um numerador e um denominador, e realize a divisão entre os dois valores. Deixe claro que o valor do denominador não pode ser `0`.\n"
      ],
      "metadata": {
        "id": "9kxyHxUo7zRD"
      }
    },
    {
      "cell_type": "code",
      "source": [
        "valor_1 = int(input('Digite um úmero: '))\n",
        "valor_2 = int(input('Digite outro número, diferente de 0: '))\n",
        "divisão = float(valor_1 / valor_2)\n",
        "print(f'A divisão de {valor_1} por {valor_2} é igual a {divisão:.2f}' )"
      ],
      "metadata": {
        "id": "ytJ8l5KH8ozc",
        "colab": {
          "base_uri": "https://localhost:8080/"
        },
        "outputId": "2670bdcb-6e2a-4a87-f5ad-0ebf404fdf1b"
      },
      "execution_count": 18,
      "outputs": [
        {
          "output_type": "stream",
          "name": "stdout",
          "text": [
            "Digite um úmero: 8\n",
            "Digite outro número, diferente de 0: 6\n",
            "A divisão de 8 por 6 é igual a 1.33\n"
          ]
        }
      ]
    },
    {
      "cell_type": "markdown",
      "source": [
        "#### Questão 6\n",
        "\n",
        "Crie um programa que solicite dois valores numéricos, um operador e uma potência, e realize a exponenciação entre esses dois valores.\n"
      ],
      "metadata": {
        "id": "zkUSBTQq8Hxt"
      }
    },
    {
      "cell_type": "code",
      "source": [
        "valor_1 = int(input('Escolha um numero :  '))\n",
        "valor_2 = int(input('Escolha um número para elevar o múmero anteriormente escolhido: '))\n",
        "potencia = int( valor_1**valor_2)\n",
        "print( ' O número %d elevado a %d é igual %d'%(valor_1,valor_2,potencia))"
      ],
      "metadata": {
        "id": "RPj36jq08oZp",
        "colab": {
          "base_uri": "https://localhost:8080/"
        },
        "outputId": "568fc30e-8db7-4b74-88ca-902342b2f9e7"
      },
      "execution_count": 19,
      "outputs": [
        {
          "output_type": "stream",
          "name": "stdout",
          "text": [
            "Escolha um numero :  7\n",
            "Escolha um número para elevar o múmero anteriormente escolhido: 3\n",
            " O número 7 elevado a 3 é igual 343\n"
          ]
        }
      ]
    },
    {
      "cell_type": "markdown",
      "source": [
        "#### Questão 7\n",
        "Crie um programa que solicite dois valores numéricos, um numerador e um denominador e realize a divisão inteira entre os dois valores. Deixe claro que o valor do denominador não pode ser `0`."
      ],
      "metadata": {
        "id": "yiunIusZ8Huj"
      }
    },
    {
      "cell_type": "code",
      "source": [
        "valor_1 = float(input('Digite um úmero : '))\n",
        "valor_2 = float(input('Digite outro número, diferente de 0: '))\n",
        "divisão = float(valor_1 // valor_2)\n",
        "print(f'O valor da parte inteira da  divisão de {valor_1} por {valor_2} é igual a {divisão}' )"
      ],
      "metadata": {
        "id": "UHK8xITf8oCg",
        "colab": {
          "base_uri": "https://localhost:8080/"
        },
        "outputId": "5798ebda-2d3f-4f1c-9f5e-43ae7f179c8f"
      },
      "execution_count": 20,
      "outputs": [
        {
          "output_type": "stream",
          "name": "stdout",
          "text": [
            "Digite um úmero : 8\n",
            "Digite outro número, diferente de 0: 6\n",
            "O valor da parte inteira da  divisão de 8.0 por 6.0 é igual a 1.0\n"
          ]
        }
      ]
    },
    {
      "cell_type": "markdown",
      "source": [
        "#### Questão 8\n",
        "\n",
        "Crie um programa que solicite dois valores numéricos, um numerador e um denominador, e retorne o resto da divisão entre os dois valores. Deixe claro que o valor do denominador não pode ser `0`."
      ],
      "metadata": {
        "id": "z_D_JiLX8Hra"
      }
    },
    {
      "cell_type": "code",
      "source": [
        "valor_1 = float(input('Digite um úmero : '))\n",
        "valor_2 = float(input('Digite outro número, diferente de 0: '))\n",
        "divisão = float(valor_1 % valor_2)\n",
        "print(f'A  divisão de {valor_1} por {valor_2} é tem resto igual a {divisão}' )"
      ],
      "metadata": {
        "id": "EWGJeukO8nqx",
        "colab": {
          "base_uri": "https://localhost:8080/"
        },
        "outputId": "7f37e236-fa56-4114-b920-c7a5536b2b9b"
      },
      "execution_count": 21,
      "outputs": [
        {
          "output_type": "stream",
          "name": "stdout",
          "text": [
            "Digite um úmero : 6\n",
            "Digite outro número, diferente de 0: 8\n",
            "A  divisão de 6.0 por 8.0 é tem resto igual a 6.0\n"
          ]
        }
      ]
    },
    {
      "cell_type": "markdown",
      "source": [
        "#### Questão 9\n",
        "\n",
        "Crie um código que solicita 3 notas de um estudante e imprima a média das notas."
      ],
      "metadata": {
        "id": "RDRajNkU8N8N"
      }
    },
    {
      "cell_type": "code",
      "source": [
        "nota_1 = float(input('Digite sua primeira nota : '))\n",
        "nota_2 = float(input('Digite sua segunda nota : '))\n",
        "nota_3 = float(input('Digite sua terceira nota : '))\n",
        "media = float( (nota_1 + nota_2 + nota_3)/ 3 )\n",
        "print(f'A média das notas {nota_1}, {nota_2} e {nota_3} é {media:.2f}')"
      ],
      "metadata": {
        "id": "H6F4Ojzt8nSR",
        "colab": {
          "base_uri": "https://localhost:8080/"
        },
        "outputId": "6a37bd07-165d-4819-cfd6-ed6e1ba53e9e"
      },
      "execution_count": 22,
      "outputs": [
        {
          "output_type": "stream",
          "name": "stdout",
          "text": [
            "Digite sua primeira nota : 5.6\n",
            "Digite sua segunda nota : 8.6\n",
            "Digite sua terceira nota : 9.0\n",
            "A média das notas 5.6, 8.6 e 9.0 é 7.73\n"
          ]
        }
      ]
    },
    {
      "cell_type": "markdown",
      "source": [
        "#### Questão 10\n",
        "\n",
        "Crie um código que calcule e imprima a média ponderada dos números 5, 12, 20 e 15 com pesos respectivamente iguais a 1, 2, 3 e 4."
      ],
      "metadata": {
        "id": "d7fjkne58N21"
      }
    },
    {
      "cell_type": "code",
      "source": [
        "num_1 = 5\n",
        "num_2 = 12\n",
        "num_3 = 20\n",
        "num_4 = 15\n",
        "p_1 = 1\n",
        "p_2 = 2\n",
        "p_3 = 3\n",
        "p_4 = 4\n",
        "media_poderada = float( (num_1*p_1 + num_2*p_2 + num_3*p_3 + num_4*p_4)/ (p_1 + p_2 + p_3 + p_4))\n",
        "print(f'A media ponderada dos números {num_1}, {num_2}, {num_3}, {num_4} com pesos {p_1}, {p_2}, {p_3} e {p_4}\\n respectivamente é igual {media_poderada}. ')"
      ],
      "metadata": {
        "id": "fwjoHlV48mkv",
        "colab": {
          "base_uri": "https://localhost:8080/"
        },
        "outputId": "c27b696d-8b81-44eb-9b0b-45f8b7f17e08"
      },
      "execution_count": 23,
      "outputs": [
        {
          "output_type": "stream",
          "name": "stdout",
          "text": [
            "A media ponderada dos números 5, 12, 20, 15 com pesos 1, 2, 3 e 4\n",
            " respectivamente é igual 14.9. \n"
          ]
        }
      ]
    },
    {
      "cell_type": "markdown",
      "source": [
        "### Editando textos"
      ],
      "metadata": {
        "id": "GNmbX1OU8N0V"
      }
    },
    {
      "cell_type": "markdown",
      "source": [
        "#### Questão 1\n",
        "\n",
        "Crie uma variável chamada “`frase`” e atribua a ela uma string de sua escolha. Em seguida, imprima a frase na tela."
      ],
      "metadata": {
        "id": "6wZ85mCsRCV0"
      }
    },
    {
      "cell_type": "code",
      "source": [
        "frase = 'Viver é melhor que sonhar.'\n",
        "print(frase)"
      ],
      "metadata": {
        "id": "eRqr_gh-8mFy",
        "colab": {
          "base_uri": "https://localhost:8080/"
        },
        "outputId": "321d34ff-8deb-4b16-b23d-79148d5a5b4b"
      },
      "execution_count": 24,
      "outputs": [
        {
          "output_type": "stream",
          "name": "stdout",
          "text": [
            "Viver é melhor que sonhar.\n"
          ]
        }
      ]
    },
    {
      "cell_type": "markdown",
      "source": [
        "#### Questão 2\n",
        "Crie um código que solicite uma frase e depois imprima a frase na tela."
      ],
      "metadata": {
        "id": "Aac17z-18Nwv"
      }
    },
    {
      "cell_type": "code",
      "source": [
        "frase = input('Digite uma frase de sua escolha: ')\n",
        "print(frase)"
      ],
      "metadata": {
        "id": "8zfE2hh98lb0",
        "colab": {
          "base_uri": "https://localhost:8080/"
        },
        "outputId": "a4eeb857-1981-44fc-c624-4dd6b41d0b00"
      },
      "execution_count": 25,
      "outputs": [
        {
          "output_type": "stream",
          "name": "stdout",
          "text": [
            "Digite uma frase de sua escolha: Viver é melhor que sonhar\n",
            "Viver é melhor que sonhar\n"
          ]
        }
      ]
    },
    {
      "cell_type": "markdown",
      "source": [
        "#### Questão 3\n",
        "\n",
        "Crie um código que solicite uma frase à pessoa usuária e imprima a mesma frase digitada mas com todas as letras maiúsculas."
      ],
      "metadata": {
        "id": "DXVzqpN58Ntr"
      }
    },
    {
      "cell_type": "code",
      "source": [
        "frase = input('Digite uma frase de sua escolha: ')\n",
        "print(frase.upper())"
      ],
      "metadata": {
        "id": "d0VzoYP68k-I",
        "colab": {
          "base_uri": "https://localhost:8080/"
        },
        "outputId": "e233a668-c69d-4d24-bb40-425da66370d0"
      },
      "execution_count": 26,
      "outputs": [
        {
          "output_type": "stream",
          "name": "stdout",
          "text": [
            "Digite uma frase de sua escolha: Escola de Ciência de dados\n",
            "ESCOLA DE CIÊNCIA DE DADOS\n"
          ]
        }
      ]
    },
    {
      "cell_type": "markdown",
      "source": [
        "#### Questão 4\n",
        "\n",
        "Crie um código que solicite uma frase à pessoa usuária e imprima a mesma frase digitada mas com todas as letras minúsculas."
      ],
      "metadata": {
        "id": "I12VeNPK8Nqb"
      }
    },
    {
      "cell_type": "code",
      "source": [
        "frase = input('Digite uma frase de sua escolha: ')\n",
        "print(frase.lower())"
      ],
      "metadata": {
        "id": "KD8rNy2K8kox",
        "colab": {
          "base_uri": "https://localhost:8080/"
        },
        "outputId": "43633a6d-9238-4b2b-e70e-2110aa318366"
      },
      "execution_count": 27,
      "outputs": [
        {
          "output_type": "stream",
          "name": "stdout",
          "text": [
            "Digite uma frase de sua escolha: Escola de Ciência de dados\n",
            "escola de ciência de dados\n"
          ]
        }
      ]
    },
    {
      "cell_type": "markdown",
      "source": [
        "#### Questão 5\n",
        "\n",
        "Crie uma variável chamada “`frase`” e atribua a ela uma string de sua escolha. Em seguida, imprima a frase sem espaços em branco no início e no fim."
      ],
      "metadata": {
        "id": "cRqngSE48Nog"
      }
    },
    {
      "cell_type": "code",
      "source": [
        "frase = 'Eu estou amando aprender Python'\n",
        "print(frase.strip())"
      ],
      "metadata": {
        "id": "aSCpdF-o8kBs",
        "colab": {
          "base_uri": "https://localhost:8080/"
        },
        "outputId": "4a2c9985-13af-4abb-9e19-c3f0d1646a44"
      },
      "execution_count": 28,
      "outputs": [
        {
          "output_type": "stream",
          "name": "stdout",
          "text": [
            "Eu estou amando aprender Python\n"
          ]
        }
      ]
    },
    {
      "cell_type": "markdown",
      "source": [
        "#### Questão 6\n",
        "\n",
        "Crie um código que solicite uma frase à pessoa usuária e imprima a mesma frase sem espaços em branco no início e no fim."
      ],
      "metadata": {
        "id": "murIazpQ8Nkv"
      }
    },
    {
      "cell_type": "code",
      "source": [
        "frase = input('Digite uma frase de sua escolha: ')\n",
        "print(frase.strip())"
      ],
      "metadata": {
        "id": "tHunjwuG8jNq",
        "colab": {
          "base_uri": "https://localhost:8080/"
        },
        "outputId": "c7d0a4b6-3993-4b0e-d609-4425cb0a4a14"
      },
      "execution_count": 29,
      "outputs": [
        {
          "output_type": "stream",
          "name": "stdout",
          "text": [
            "Digite uma frase de sua escolha: Escola de Ciência de dados\n",
            "Escola de Ciência de dados\n"
          ]
        }
      ]
    },
    {
      "cell_type": "markdown",
      "source": [
        "#### Questão 7\n",
        "\n",
        "\n",
        "Crie um código que solicite uma frase à pessoa usuária e imprima a mesma frase sem espaços em branco no início e no fim e em letras minúsculas."
      ],
      "metadata": {
        "id": "eRxc2OeX8Nh2"
      }
    },
    {
      "cell_type": "code",
      "source": [
        "frase = input('Digite uma frase de sua escolha: ')\n",
        "print(frase.strip().lower())"
      ],
      "metadata": {
        "id": "DYm0_UwS8ih6",
        "colab": {
          "base_uri": "https://localhost:8080/"
        },
        "outputId": "f832f8e7-7a3a-45fe-f716-48fa5e4d3da8"
      },
      "execution_count": 30,
      "outputs": [
        {
          "output_type": "stream",
          "name": "stdout",
          "text": [
            "Digite uma frase de sua escolha: Escola de Ciência de dados\n",
            "escola de ciência de dados\n"
          ]
        }
      ]
    },
    {
      "cell_type": "markdown",
      "source": [
        "#### Questão 8\n",
        "\n",
        "Crie um código que solicite uma frase à pessoa usuária e imprima a mesma frase com todas as vogais “`e`” trocadas pela letra “`f`”."
      ],
      "metadata": {
        "id": "UKATLavs8NfI"
      }
    },
    {
      "cell_type": "code",
      "source": [
        "frase = input('Digite uma frase de sua escolha: ')\n",
        "print(frase.replace('e', 'f'))"
      ],
      "metadata": {
        "id": "k64C5G5S8iLO",
        "colab": {
          "base_uri": "https://localhost:8080/"
        },
        "outputId": "d60154a5-73a5-4b74-90c1-7aaea30959df"
      },
      "execution_count": 31,
      "outputs": [
        {
          "output_type": "stream",
          "name": "stdout",
          "text": [
            "Digite uma frase de sua escolha: Escola de Ciência de dados\n",
            "Escola df Ciência df dados\n"
          ]
        }
      ]
    },
    {
      "cell_type": "markdown",
      "source": [
        "#### Questão 9\n",
        "\n",
        "\n",
        "Crie um código que solicite uma frase à pessoa usuária e imprima a mesma frase com todas as vogais “`a`” trocadas pela caractere  “`@`”."
      ],
      "metadata": {
        "id": "n_1SPchw8NdG"
      }
    },
    {
      "cell_type": "code",
      "source": [
        "frase = input('Digite uma frase de sua escolha: ')\n",
        "print(frase.replace('a', '@'))"
      ],
      "metadata": {
        "id": "msaDNm_p8h0D",
        "colab": {
          "base_uri": "https://localhost:8080/"
        },
        "outputId": "b273acff-9415-4815-86fc-0c32eed8804d"
      },
      "execution_count": 32,
      "outputs": [
        {
          "output_type": "stream",
          "name": "stdout",
          "text": [
            "Digite uma frase de sua escolha: Escola de Ciência de dados\n",
            "Escol@ de Ciênci@ de d@dos\n"
          ]
        }
      ]
    },
    {
      "cell_type": "markdown",
      "source": [
        "#### Questão 10\n",
        "\n",
        "\n",
        "Crie um código que solicite uma frase à pessoa usuária e imprima a mesma frase com todas as consoantes “`s`” trocadas pelo caractere  “`$`”."
      ],
      "metadata": {
        "id": "H3sTTjqI8Naa"
      }
    },
    {
      "cell_type": "code",
      "source": [
        "frase = input('Digite uma frase de sua escolha: ')\n",
        "print(frase.replace('s', '$'))"
      ],
      "metadata": {
        "id": "RPBIsWT68e-1",
        "colab": {
          "base_uri": "https://localhost:8080/"
        },
        "outputId": "978c544a-509e-47ba-8048-2f013a4897dd"
      },
      "execution_count": 33,
      "outputs": [
        {
          "output_type": "stream",
          "name": "stdout",
          "text": [
            "Digite uma frase de sua escolha: Escola de Ciência de dados\n",
            "E$cola de Ciência de dado$\n"
          ]
        }
      ]
    },
    {
      "cell_type": "markdown",
      "source": [
        "## Aula 3 - Estruturas condicionais"
      ],
      "metadata": {
        "id": "XGePe4GD2I59"
      }
    },
    {
      "cell_type": "markdown",
      "source": [
        "### Aquecendo na programação"
      ],
      "metadata": {
        "id": "Pr9HTW0UHCdD"
      }
    },
    {
      "cell_type": "markdown",
      "source": [
        "#### Questão 1\n",
        "Escreva um programa que peça à pessoa usuária para fornecer dois números e exibir o número maior."
      ],
      "metadata": {
        "id": "xBZHqhVg80Fy"
      }
    },
    {
      "cell_type": "code",
      "source": [
        "num_1 = float(input('Escolha um numero: '))\n",
        "num_2 = float(input('Escolha outro  numero: '))\n",
        "if num_1 > num_2:\n",
        "  print(f'O {num_1} é maior.')\n",
        "else:\n",
        "  print(f'O {num_2} é maior.')"
      ],
      "metadata": {
        "id": "GJlGnzjc-xyF",
        "colab": {
          "base_uri": "https://localhost:8080/"
        },
        "outputId": "425642ac-6697-48f5-95e2-32ba33f97de7"
      },
      "execution_count": 34,
      "outputs": [
        {
          "output_type": "stream",
          "name": "stdout",
          "text": [
            "Escolha um numero: 8\n",
            "Escolha outro  numero: 6\n",
            "O 8.0 é maior.\n"
          ]
        }
      ]
    },
    {
      "cell_type": "markdown",
      "source": [
        "#### Questão 2\n",
        "Escreva um programa que solicite o percentual de crescimento de produção de uma empresa e informe se houve um crescimento (porcentagem positiva) ou decrescimento (porcentagem negativa)."
      ],
      "metadata": {
        "id": "H4sgN7dyHNJF"
      }
    },
    {
      "cell_type": "code",
      "source": [
        "percentual = float(input('Entre com o percentual de crescimento: '))\n",
        "\n",
        "if percentual > 0:\n",
        "  print('Houve crescimento da empresa')\n",
        "\n",
        "elif percentual == 0:\n",
        "  print('Não houve crescimento e nem decrescimento')\n",
        "else:\n",
        "  print('Houve decrescimento da empresa')\n"
      ],
      "metadata": {
        "id": "-2_Ry5XJ-yZW",
        "colab": {
          "base_uri": "https://localhost:8080/"
        },
        "outputId": "53d58fbb-afab-4a57-8293-1272f84d1ee4"
      },
      "execution_count": 35,
      "outputs": [
        {
          "output_type": "stream",
          "name": "stdout",
          "text": [
            "Entre com o percentual de crescimento: 10\n",
            "Houve crescimento da empresa\n"
          ]
        }
      ]
    },
    {
      "cell_type": "markdown",
      "source": [
        "#### Questão 3\n",
        "Escreva um programa que determine se uma letra fornecida pela pessoa usuária é uma vogal ou consoante."
      ],
      "metadata": {
        "id": "a_mzNOBDHNny"
      }
    },
    {
      "cell_type": "code",
      "source": [
        "letra = input('Escolha uma letra: ').lower()\n",
        "vogais = ('a','e','i','o','u')\n",
        "\n",
        "if letra in vogais:\n",
        "  print (f' A letra {letra} é uma vogal. ')\n",
        "else:\n",
        "  print(f'A letra {letra} é uma cosoante.')"
      ],
      "metadata": {
        "id": "NbgndVyg-zFJ",
        "colab": {
          "base_uri": "https://localhost:8080/"
        },
        "outputId": "ef9ba920-85e1-49b2-c3a3-9ab5221a1a67"
      },
      "execution_count": 36,
      "outputs": [
        {
          "output_type": "stream",
          "name": "stdout",
          "text": [
            "Escolha uma letra: u\n",
            " A letra u é uma vogal. \n"
          ]
        }
      ]
    },
    {
      "cell_type": "markdown",
      "source": [
        "#### Questão 4\n",
        "Escreva um programa que leia valores médios de preços de um modelo de carro por 3 anos consecutivos e exiba o valor mais alto e mais baixo entre esses três anos."
      ],
      "metadata": {
        "id": "mofMRjSZHP99"
      }
    },
    {
      "cell_type": "code",
      "source": [
        "preco_1 = float(input(' Informe o preço do carro no ano 1: '))\n",
        "preco_2 = float(input(' Informe o preço do carro no ano 2: '))\n",
        "preco_3 = float(input(' Informe o preço do carro no ano 3: '))\n",
        "\n",
        "if preco_1 > preco_2 > preco_3:\n",
        "  print(f'O {preco_1} do ano 1 é o maior valor.')\n",
        "elif preco_2 > preco_1 > preco_3:\n",
        "  print(f'O {preco_2} do ano 2 é o maior valor.')\n",
        "elif preco_3 > preco_1 > preco_2:\n",
        "  print(f'O {preco_3} do ano 3 é o maior valor.')\n",
        "\n",
        "if preco_1 < preco_2 < preco_3:\n",
        "  print(f'O valor de {preco_1} do ano 1 é o menor valor.')\n",
        "elif preco_2 < preco_1 < preco_3:\n",
        "  print(f'O valor de {preco_2} do ano 2 é o menor valor.')\n",
        "else:\n",
        "  print(f'O valor de {preco_3} do ano 3 é o menor valor.')\n",
        "\n"
      ],
      "metadata": {
        "id": "TX--d3k9-02c",
        "colab": {
          "base_uri": "https://localhost:8080/"
        },
        "outputId": "c025efe7-80fc-426b-f53e-56d8581a0560"
      },
      "execution_count": 37,
      "outputs": [
        {
          "output_type": "stream",
          "name": "stdout",
          "text": [
            " Informe o preço do carro no ano 1: 2000\n",
            " Informe o preço do carro no ano 2: 2850\n",
            " Informe o preço do carro no ano 3: 3750\n",
            "O valor de 2000.0 do ano 1 é o menor valor.\n"
          ]
        }
      ]
    },
    {
      "cell_type": "markdown",
      "source": [
        "#### Questão 5\n",
        "Escreva um programa que pergunte sobre o preço de três produtos e indique qual é o produto mais barato para comprar."
      ],
      "metadata": {
        "id": "bgtxYmWLby0g"
      }
    },
    {
      "cell_type": "code",
      "source": [
        "produto_1 = float(input('Informe o preço do produto 1: '))\n",
        "produto_2 = float(input('Informe o preço do produto 2: '))\n",
        "produto_3 = float(input('Informe o preço do produto 3: '))\n",
        "\n",
        "if produto_1 < produto_2 < produto_3:\n",
        "  print(f'O produto 1 com valor de R$ {produto_1} é o mais barato.')\n",
        "elif produto_2 < produto_1 < produto_3:\n",
        "  print(f'O produto 2 com valor de R$ {produto_2} é o mais  barato.')\n",
        "else:\n",
        "  print(f'O produto 3 com valor de R$ {produto_3} é o mais barato.')\n"
      ],
      "metadata": {
        "id": "sYqNh9df-0gk",
        "colab": {
          "base_uri": "https://localhost:8080/"
        },
        "outputId": "b5537da5-7028-4355-c5cf-8f6e3c0faba3"
      },
      "execution_count": 38,
      "outputs": [
        {
          "output_type": "stream",
          "name": "stdout",
          "text": [
            "Informe o preço do produto 1: 23.50\n",
            "Informe o preço do produto 2: 12.96\n",
            "Informe o preço do produto 3: 47.80\n",
            "O produto 2 com valor de R$ 12.96 é o mais  barato.\n"
          ]
        }
      ]
    },
    {
      "cell_type": "markdown",
      "source": [
        "#### Questão 6\n",
        "Escreva um programa que leia três números e os exiba em ordem decrescente."
      ],
      "metadata": {
        "id": "1r6aVxtTHR4E"
      }
    },
    {
      "cell_type": "code",
      "source": [
        "num1 = float(input('Escolha um numero:'))\n",
        "num2 = float(input('Escolha um numero:'))\n",
        "num3 = float(input('Escolha um numero:'))\n",
        "\n",
        "lista = [num1, num2, num3]\n",
        "lista.sort(reverse = True)\n",
        "print(lista)\n",
        "\n",
        "if num1 > num2  and num2 > num3:\n",
        "  print(f'{num1}, {num2}, {num3}')\n",
        "elif num1 > num3  and num3 > num2:\n",
        "   print(f'{num1}, {num3}, {num2}')\n",
        "elif num2 > num1  and num1 > num3:\n",
        "   print(f'{num2}, {num1}, {num3}')\n",
        "elif num2 > num3  and num3 > num1:\n",
        "  print(f'{num2}, {num3}, {num1}')\n",
        "elif num3 > num2  and num2 > num1:\n",
        "   print (f'{num3}, {num2}, {num1}')\n",
        "else:\n",
        "  print(f'{num3}, {num1}, {num2}')\n"
      ],
      "metadata": {
        "id": "ydOCYUMO-0Hk",
        "colab": {
          "base_uri": "https://localhost:8080/"
        },
        "outputId": "de917a23-7c78-4c44-bda0-4c1b44480314"
      },
      "execution_count": 39,
      "outputs": [
        {
          "output_type": "stream",
          "name": "stdout",
          "text": [
            "Escolha um numero:6\n",
            "Escolha um numero:8\n",
            "Escolha um numero:10\n",
            "[10.0, 8.0, 6.0]\n",
            "10.0, 8.0, 6.0\n"
          ]
        }
      ]
    },
    {
      "cell_type": "markdown",
      "source": [
        "#### Questão 7\n",
        "Escreva um programa que pergunte em qual turno a pessoa usuária estuda (\"manhã\", \"tarde\" ou \"noite\") e exiba a mensagem \"Bom Dia!\", \"Boa Tarde!\", \"Boa Noite!\", ou \"Valor Inválido!\", conforme o caso."
      ],
      "metadata": {
        "id": "inW3F-hAHS_X"
      }
    },
    {
      "cell_type": "code",
      "source": [
        "turno = input('Qual é seu período de estudo? ')\n",
        "\n",
        "if turno == 'manhã':\n",
        "  print('Bom dia !!')\n",
        "elif turno == 'tarde':\n",
        "  print('Boa tarde !!')\n",
        "elif turno == 'noite':\n",
        "  print ('Boa noite !!')\n",
        "else:\n",
        "  print('Valor inválido')"
      ],
      "metadata": {
        "id": "-_q-Pcr_-zth",
        "colab": {
          "base_uri": "https://localhost:8080/"
        },
        "outputId": "f7e01100-1ebf-41f9-fd23-ace3ecc9532d"
      },
      "execution_count": 43,
      "outputs": [
        {
          "output_type": "stream",
          "name": "stdout",
          "text": [
            "Qual é seu período de estudo? noite\n",
            "Boa noite !!\n"
          ]
        }
      ]
    },
    {
      "cell_type": "markdown",
      "source": [
        "#### Questão 8\n",
        "Escreva um programa que peça um número inteiro à pessoa usuária e determine se ele é par ou ímpar. Dica: Você pode utilizar o operador módulo `%`."
      ],
      "metadata": {
        "id": "NCCPF3QqHTw-"
      }
    },
    {
      "cell_type": "code",
      "source": [
        "num = int(input('Informe um numero inteiro: '))\n",
        "resto = num%2\n",
        "\n",
        "if resto != 0:\n",
        "  print(' O número escolhido é impar.')\n",
        "else:\n",
        "  print('O número é par.')"
      ],
      "metadata": {
        "id": "OmZJt1nQ-3e6",
        "colab": {
          "base_uri": "https://localhost:8080/"
        },
        "outputId": "214e9613-97f2-4ed2-8c7a-4b8fccdbab8d"
      },
      "execution_count": 44,
      "outputs": [
        {
          "output_type": "stream",
          "name": "stdout",
          "text": [
            "Informe um numero inteiro: 6\n",
            "O número é par.\n"
          ]
        }
      ]
    },
    {
      "cell_type": "markdown",
      "source": [
        "#### Questão 9\n",
        "Escreva um programa que peça um número à pessoa usuária e informe se ele é inteiro ou decimal."
      ],
      "metadata": {
        "id": "h93Ck1tQHUwE"
      }
    },
    {
      "cell_type": "code",
      "source": [
        "num = float(input('Informe um numero:'))\n",
        "resto = num%1\n",
        "\n",
        "if resto != 0:\n",
        "  print(' O numero é decimal.')\n",
        "else:\n",
        "  print('O número é inteiro.')\n"
      ],
      "metadata": {
        "id": "sLMlZcx8-20N",
        "colab": {
          "base_uri": "https://localhost:8080/"
        },
        "outputId": "73aafd61-915e-4bc4-f94b-1562b8044acb"
      },
      "execution_count": 45,
      "outputs": [
        {
          "output_type": "stream",
          "name": "stdout",
          "text": [
            "Informe um numero:52\n",
            "O número é inteiro.\n"
          ]
        }
      ]
    },
    {
      "cell_type": "markdown",
      "source": [
        "### Momento dos projetos"
      ],
      "metadata": {
        "id": "bKdXSK1SH_pF"
      }
    },
    {
      "cell_type": "markdown",
      "source": [
        "#### Questão 10\n",
        "Um programa deve ser escrito para ler dois números e, em seguida, perguntar à pessoa usuária qual operação ele deseja realizar. O resultado da operação deve incluir informações sobre o número - se é par ou ímpar, positivo ou negativo e inteiro ou decimal."
      ],
      "metadata": {
        "id": "WBlEyyzsHV86"
      }
    },
    {
      "cell_type": "code",
      "source": [
        "num1 = float(input('Escolha um numero:'))\n",
        "num2 = float(input('Escolha um numero:'))\n",
        "soma = num1 + num2\n",
        "subtrair = num1 - num2\n",
        "multiplicar = num1 * num2\n",
        "dividir = num1/num2\n",
        "\n",
        "pergunta = input('Você deseja somar, subtrair , multiplicar ou divididir os números informados anteriormente ?')\n",
        "\n",
        "if pergunta == 'somar':\n",
        "   resultado = soma\n",
        "   print (f'O resultado da soma entre {num1} e {num2} é igual a {soma}')\n",
        "\n",
        "elif pergunta == 'subtrair':\n",
        "   resultado = subtrair\n",
        "   print (f'O resultado da subtração entre {num1} e {num2} é igual a {subtrair}')\n",
        "\n",
        "elif pergunta == 'multiplicar':\n",
        "   resultado = multiplicar\n",
        "   print (f'O resultado da multiplicação entre {num1} e {num2} é igual a {multiplicar}')\n",
        "\n",
        "elif pergunta == 'dividir':\n",
        "    resultado = dividir\n",
        "    print (f'O resultado da divisão entre {num1} e {num2} é igual a {dividir}')\n",
        "\n",
        "else:\n",
        "  print('Escolha uma operação')\n",
        "\n",
        "\n",
        "if resultado%2 != 0:\n",
        "  resultado_p_i = 'número impar'\n",
        "else:\n",
        "  resultado_p_i = 'número par'\n",
        "\n",
        "if resultado%1 != 0:\n",
        "  resultado_i_d = 'decimal'\n",
        "else:\n",
        "  resultado_i_d = 'inteiro'\n",
        "if resultado > 0:\n",
        "  resultado_p_n = 'positivo'\n",
        "else:\n",
        "  resultado_p_n ='negativo'\n",
        "\n",
        "print(f'O número {resultado} é um {resultado_p_i}, {resultado_i_d} e {resultado_p_n}.')"
      ],
      "metadata": {
        "id": "3jmahZ0f-2gq",
        "colab": {
          "base_uri": "https://localhost:8080/"
        },
        "outputId": "e3cb37a4-18b7-4963-8c1b-66abf5aa5aff"
      },
      "execution_count": 46,
      "outputs": [
        {
          "output_type": "stream",
          "name": "stdout",
          "text": [
            "Escolha um numero:85\n",
            "Escolha um numero:45\n",
            "Você deseja somar, subtrair , multiplicar ou divididir os números informados anteriormente ?subtrair\n",
            "O resultado da subtração entre 85.0 e 45.0 é igual a 40.0\n",
            "O número 40.0 é um número par, inteiro e positivo.\n"
          ]
        }
      ]
    },
    {
      "cell_type": "markdown",
      "source": [
        "#### Questão 11\n",
        "Escreva um programa que peça à pessoa usuária três números que representam os lados de um triângulo. O programa deve informar se os valores podem ser utilizados para formar um triângulo e, caso afirmativo, se ele é equilátero, isósceles ou escaleno. Tenha em mente algumas dicas:\n",
        "- Três lados formam um triângulo quando a soma de quaisquer dois lados for maior que o terceiro;\n",
        "- Triângulo Equilátero: três lados iguais;\n",
        "- Triângulo Isósceles: quaisquer dois lados iguais;\n",
        "- Triângulo Escaleno: três lados diferentes;\n"
      ],
      "metadata": {
        "id": "VdnlULxHHW19"
      }
    },
    {
      "cell_type": "code",
      "source": [
        "num1 = float(input('Digite um número para o lado 1 do triângulo: '))\n",
        "num2 = float(input('Digite um número para o lado 2 do triângulo: '))\n",
        "num3 = float(input('Digite um número para o lado 3 do triângulo: '))\n",
        "\n",
        "soma1 = num2 + num3\n",
        "soma2 = num3 + num1\n",
        "soma3 = num2 + num1\n",
        "\n",
        "if soma1 > num1 and soma3 > num3 and soma2 > num2:\n",
        "  if num1 == num2 == num3:\n",
        "    print('Os números escolhidos formam um triângulo  equilatero')\n",
        "  elif( (num1 == num2 and num1 != num3) or (num2 == num3 and num2 != num1) or\n",
        "   (num3 == num1 and num3 != num1 )):\n",
        "   print('Os números escolhidos formam um triângulo  isósceles')\n",
        "  else:\n",
        "   print('Os números escolhidos formam um triângulo  escaleno.')\n",
        "\n",
        "else:\n",
        "      print('Os números escolhidos não formam um triângulo.')\n"
      ],
      "metadata": {
        "id": "0z73sqUO-2Pw",
        "colab": {
          "base_uri": "https://localhost:8080/"
        },
        "outputId": "df8b8420-d493-4ff1-be79-4f56fd04d2b4"
      },
      "execution_count": 47,
      "outputs": [
        {
          "output_type": "stream",
          "name": "stdout",
          "text": [
            "Digite um número para o lado 1 do triângulo: 6\n",
            "Digite um número para o lado 2 do triângulo: 5\n",
            "Digite um número para o lado 3 do triângulo: 1\n",
            "Os números escolhidos não formam um triângulo.\n"
          ]
        }
      ]
    },
    {
      "cell_type": "markdown",
      "source": [
        "#### Questão 12\n",
        "Um estabelecimento está vendendo combustíveis com descontos variados. Para o etanol, se a quantidade comprada for até 15 litros, o desconto será de 2% por litro. Caso contrário, será de 4% por litro. Para o diesel, se a quantidade comprada for até 15 litros, o desconto será de 3% por litro. Caso contrário, será de 5% por litro. O preço do litro de diesel é R\\$ 2,00 e o preço do litro de etanol é R\\$ 1,70. Escreva um programa que leia a quantidade de litros vendidos e o tipo de combustível (E para etanol e D para diesel) e calcule o valor a ser pago pelo cliente. Tenha em mente algumas dicas:\n",
        "\n",
        "- O do valor do desconto será a multiplicação entre preço do litro, quantidade de litros e o valor do desconto.\n",
        "- O valor a ser pago por um cliente será o resultado da multiplicação do preço do litro pela quantidade de litros menos o valor de desconto resultante do cálculo.\n"
      ],
      "metadata": {
        "id": "_PpEpOugHXwZ"
      }
    },
    {
      "cell_type": "code",
      "source": [
        "combustivel = input( 'Informe o tipo de combustivel comprado:')\n",
        "volume_comprado = float(input( 'Informe o volume em litros do combustivel comprado:'))\n",
        "preço_etanol = 1.7\n",
        "preço_diesel = 2.0\n",
        "desc_etanol_1 = 0.02 #descoto por litro para compras até 15 l\n",
        "desc_etanol_2 = 0.04 #descoto por litro para compras acima 15 l\n",
        "desc_diesel_1 = 0.03 #descoto por litro para compras até 15 l\n",
        "desc_diesel_2 = 0.05 #descoto por litro para compras acima 15 l\n",
        "\n",
        "\n",
        "if combustivel == 'etanol':\n",
        "  if volume_comprado <= 15:\n",
        "    desconto = (desc_etanol_1 * volume_comprado * preço_etanol)\n",
        "    valor_pagar = (preço_etanol * volume_comprado) - desconto\n",
        "    print(f'O valor a ser pago é de R$ {valor_pagar}.')\n",
        "  else:\n",
        "     desconto = (desc_etanol_2 * volume_comprado * preço_etanol)\n",
        "     valor_pagar = (preço_etanol * volume_comprado) - desconto\n",
        "     print(f'O valor a ser pago é de R$ {valor_pagar}.')\n",
        "\n",
        "if combustivel == 'diesel':\n",
        "  if volume_comprado <= 15:\n",
        "    desconto = (desc_diesel_1 * volume_comprado * preço_diesel)\n",
        "    valor_pagar = (preço_diesel * volume_comprado) - desconto\n",
        "    print(f'O valor a ser pago é de R$ {valor_pagar}.')\n",
        "  else:\n",
        "     desconto = (desc_diesel_2 * volume_comprado * preço_diesel)\n",
        "     valor_pagar = (preço_diesel * volume_comprado) - desconto\n",
        "     print(f'O valor a ser pago é de R$ {valor_pagar}.')\n",
        "\n"
      ],
      "metadata": {
        "id": "9izoF-0O-1yD",
        "colab": {
          "base_uri": "https://localhost:8080/"
        },
        "outputId": "b7348ef8-6093-4cf5-aec7-d5de08c12f4f"
      },
      "execution_count": 48,
      "outputs": [
        {
          "output_type": "stream",
          "name": "stdout",
          "text": [
            "Informe o tipo de combustivel comprado:etanol\n",
            "Informe o volume em litros do combustivel comprado:4.5\n",
            "O valor a ser pago é de R$ 7.497.\n"
          ]
        }
      ]
    },
    {
      "cell_type": "markdown",
      "source": [
        "#### Questão 13\n",
        "Em uma empresa de venda de imóveis você precisa criar um código que analise os dados de vendas anuais para ajudar a diretoria na tomada de decisão. O código precisa coletar os dados de quantidade de venda durante os anos de 2022 e 2023 e fazer um cálculo de variação percentual. A partir do valor da variação, deve ser enviada às seguintes sugestões:\n",
        "- Para variação acima de 20%: bonificação para o time de vendas.\n",
        "- Para variação entre 2% e 20%: pequena bonificação para time de vendas.\n",
        "- Para variação entre 2% e -10%: planejamento de políticas de incentivo às vendas.\n",
        "- Para bonificações abaixo de -10%: corte de gastos.\n"
      ],
      "metadata": {
        "id": "s_XS_D1WHY2R"
      }
    },
    {
      "cell_type": "code",
      "source": [
        "percentual = float(input('Informe o percentual de vendas durante os anos 2022  e 2023  '))\n",
        "\n",
        "if percentual > 20:\n",
        "   print('Bonificação para o time de vendas')\n",
        "elif 2 < percentual <= 20:\n",
        "    print('Pequena bonificação para time vendas')\n",
        "elif -10 < percentual <= 2:\n",
        "   print('Planejamento de políticas de incentivo às vendas')\n",
        "else:\n",
        "    print('Corte de gastos')\n",
        "\n"
      ],
      "metadata": {
        "id": "avQrYlUg-w8f",
        "colab": {
          "base_uri": "https://localhost:8080/"
        },
        "outputId": "aa746f68-a59e-40f6-b192-acbebc43fa9c"
      },
      "execution_count": 49,
      "outputs": [
        {
          "output_type": "stream",
          "name": "stdout",
          "text": [
            "Informe o percentual de vendas durante os anos 2022  e 2023  20\n",
            "Pequena bonificação para time vendas\n"
          ]
        }
      ]
    },
    {
      "cell_type": "markdown",
      "source": [
        "## Aula 4 - Estruturas de repetição"
      ],
      "metadata": {
        "id": "AuaWh4-d2Itt"
      }
    },
    {
      "cell_type": "markdown",
      "source": [
        "### Aquecendo na programação"
      ],
      "metadata": {
        "id": "6MSqU0sIJRdD"
      }
    },
    {
      "cell_type": "markdown",
      "source": [
        "#### Questão 1\n",
        "Escreva um programa que peça dois números inteiros e imprima todos os números inteiros entre eles."
      ],
      "metadata": {
        "id": "9eGGyCnAJRdQ"
      }
    },
    {
      "cell_type": "code",
      "source": [
        "num_1 = int(input('Informe um numero: '))\n",
        "num_2 = int(input('Informe um numero: '))\n",
        "\n",
        "for numero in range(num_1,num_2):\n",
        "    if numero == num_1:\n",
        "        continue\n",
        "    print(numero)"
      ],
      "metadata": {
        "id": "ID1oc1hxJRdQ",
        "colab": {
          "base_uri": "https://localhost:8080/"
        },
        "outputId": "8b87f020-5219-4372-aba9-ebb26023b55b"
      },
      "execution_count": 50,
      "outputs": [
        {
          "output_type": "stream",
          "name": "stdout",
          "text": [
            "Informe um numero: 5\n",
            "Informe um numero: 9\n",
            "6\n",
            "7\n",
            "8\n"
          ]
        }
      ]
    },
    {
      "cell_type": "markdown",
      "source": [
        "#### Questão 2\n",
        "Escreva um programa para calcular quantos dias levará para a colônia de uma bactéria A ultrapassar ou igualar a colônia de uma bactéria B, com base nas taxas de crescimento de 3% e 1,5% respectivamente. Considere que a colônia A inicia com 4 elementos e a colônia B com 10 elementos."
      ],
      "metadata": {
        "id": "mGonEHYCJRdR"
      }
    },
    {
      "cell_type": "code",
      "source": [
        "bacteria_a = 4\n",
        "bacteria_b = 10\n",
        "taxa_a = 0.03\n",
        "taxa_b = 0.015\n",
        "dias = 0\n",
        "\n",
        "while bacteria_a != bacteria_b:\n",
        "      bacteria_a = bacteria_a + (bacteria_a * taxa_a)\n",
        "      bacteria_b = bacteria_b + (bacteria_b * taxa_b)\n",
        "      dias += 1\n",
        "print(f\"{dias} dias\")"
      ],
      "metadata": {
        "id": "wM6FJuoqJRdR",
        "colab": {
          "base_uri": "https://localhost:8080/"
        },
        "outputId": "230356ab-3c10-4001-ddde-d4f89fb2bc4d"
      },
      "execution_count": 51,
      "outputs": [
        {
          "output_type": "stream",
          "name": "stdout",
          "text": [
            "47519 dias\n"
          ]
        }
      ]
    },
    {
      "cell_type": "markdown",
      "source": [
        "#### Questão 3\n",
        "Para tratar uma quantidade de 15 dados de avaliações de pessoas usuárias de um serviço da empresa, precisamos verificar se as notas são válidas. Então, escreva um programa que vai receber a nota de 0 a 5 de todos os dados e verificar se é um valor válido. Caso seja inserido uma nota acima de 5 ou abaixo de 0, repita até que a pessoa usuária insira um valor válido."
      ],
      "metadata": {
        "id": "UiOZRlqoJRdR"
      }
    },
    {
      "cell_type": "code",
      "source": [
        "contador = 1\n",
        "\n",
        "while contador <= 15:\n",
        "    num = float(input('Informe um numero de 0 a 5 :'))\n",
        "    if 0 <= num <= 5:\n",
        "      print('O numero é valido')\n",
        "      contador += 1\n",
        "    else:\n",
        "      print('O numero é invalido. Tente novamente' )\n",
        "\n"
      ],
      "metadata": {
        "id": "3TUAhCxcJRdR",
        "colab": {
          "base_uri": "https://localhost:8080/"
        },
        "outputId": "9c46df21-0e2b-4e64-e4b3-170ba4583fa3"
      },
      "execution_count": 52,
      "outputs": [
        {
          "output_type": "stream",
          "name": "stdout",
          "text": [
            "Informe um numero de 0 a 5 :5\n",
            "O numero é valido\n",
            "Informe um numero de 0 a 5 :4\n",
            "O numero é valido\n",
            "Informe um numero de 0 a 5 :1\n",
            "O numero é valido\n",
            "Informe um numero de 0 a 5 :3\n",
            "O numero é valido\n",
            "Informe um numero de 0 a 5 :0\n",
            "O numero é valido\n",
            "Informe um numero de 0 a 5 :9\n",
            "O numero é invalido. Tente novamente\n",
            "Informe um numero de 0 a 5 :9\n",
            "O numero é invalido. Tente novamente\n",
            "Informe um numero de 0 a 5 :65\n",
            "O numero é invalido. Tente novamente\n",
            "Informe um numero de 0 a 5 :1\n",
            "O numero é valido\n",
            "Informe um numero de 0 a 5 :6\n",
            "O numero é invalido. Tente novamente\n",
            "Informe um numero de 0 a 5 :52\n",
            "O numero é invalido. Tente novamente\n",
            "Informe um numero de 0 a 5 :45\n",
            "O numero é invalido. Tente novamente\n",
            "Informe um numero de 0 a 5 :89\n",
            "O numero é invalido. Tente novamente\n",
            "Informe um numero de 0 a 5 :1\n",
            "O numero é valido\n",
            "Informe um numero de 0 a 5 :5\n",
            "O numero é valido\n",
            "Informe um numero de 0 a 5 :6\n",
            "O numero é invalido. Tente novamente\n",
            "Informe um numero de 0 a 5 :1\n",
            "O numero é valido\n",
            "Informe um numero de 0 a 5 :0\n",
            "O numero é valido\n",
            "Informe um numero de 0 a 5 :9\n",
            "O numero é invalido. Tente novamente\n",
            "Informe um numero de 0 a 5 :9\n",
            "O numero é invalido. Tente novamente\n",
            "Informe um numero de 0 a 5 :2\n",
            "O numero é valido\n",
            "Informe um numero de 0 a 5 :3\n",
            "O numero é valido\n",
            "Informe um numero de 0 a 5 :5\n",
            "O numero é valido\n",
            "Informe um numero de 0 a 5 :6\n",
            "O numero é invalido. Tente novamente\n",
            "Informe um numero de 0 a 5 :4\n",
            "O numero é valido\n",
            "Informe um numero de 0 a 5 :6\n",
            "O numero é invalido. Tente novamente\n",
            "Informe um numero de 0 a 5 :2\n",
            "O numero é valido\n"
          ]
        }
      ]
    },
    {
      "cell_type": "markdown",
      "source": [
        "#### Questão 4\n",
        "Desenvolva um programa que leia um conjunto indeterminado de temperaturas em Celsius e faça uma análise. Portanto, escreva um programa que leia temperaturas e informe a média delas. A leitura deve ser encerrada ao ser enviado o valor -273°C."
      ],
      "metadata": {
        "id": "ABv3KObGJRdR"
      }
    },
    {
      "cell_type": "code",
      "source": [
        "temp = float(input('Informe os valores de temperatura em Celsius:  '))\n",
        "contador = 0\n",
        "soma = 0\n",
        "\n",
        "while temp != -273:\n",
        "  soma += temp\n",
        "  contador += 1\n",
        "  temp = float(input('Informe os valores de temperatura em Celsius:  '))\n",
        "\n",
        "media = soma/contador\n",
        "\n",
        "print(f'A media das temperaturas informadas {media:.2f}.')\n"
      ],
      "metadata": {
        "id": "85tBBj5KJRdS",
        "colab": {
          "base_uri": "https://localhost:8080/"
        },
        "outputId": "a6baa48f-2a6b-4941-dcf8-5406c0ce38ff"
      },
      "execution_count": 53,
      "outputs": [
        {
          "output_type": "stream",
          "name": "stdout",
          "text": [
            "Informe os valores de temperatura em Celsius:  20\n",
            "Informe os valores de temperatura em Celsius:  26\n",
            "Informe os valores de temperatura em Celsius:  29\n",
            "Informe os valores de temperatura em Celsius:  26\n",
            "Informe os valores de temperatura em Celsius:  27\n",
            "Informe os valores de temperatura em Celsius:  30\n",
            "Informe os valores de temperatura em Celsius:  31\n",
            "Informe os valores de temperatura em Celsius:  273\n",
            "Informe os valores de temperatura em Celsius:  -273\n",
            "A media das temperaturas informadas 57.75.\n"
          ]
        }
      ]
    },
    {
      "cell_type": "markdown",
      "source": [
        "#### Questão 5\n",
        "Escreva um programa que calcule o fatorial de um número inteiro fornecido pela pessoa usuária. O fatorial de um número inteiro é a multiplicação desse número por todos os seus antecessores até o número 1. Por exemplo, o fatorial de 5 é 5 x 4 x 3 x 2 x 1 = 120."
      ],
      "metadata": {
        "id": "IjkbAfGcJRdS"
      }
    },
    {
      "cell_type": "code",
      "source": [
        "num = int(input('Informe um ´numero para gerar seu fatorial: '))\n",
        "fatorial = 1\n",
        "contador = 1\n",
        "\n",
        "while contador <= num:\n",
        "      fatorial *= contador\n",
        "      contador += 1\n",
        "\n",
        "print (fatorial)\n",
        "\n"
      ],
      "metadata": {
        "id": "7RTH8o0HJRdS",
        "colab": {
          "base_uri": "https://localhost:8080/"
        },
        "outputId": "02f9bf3b-44cb-4ad2-aca6-9cb194913a15"
      },
      "execution_count": 54,
      "outputs": [
        {
          "output_type": "stream",
          "name": "stdout",
          "text": [
            "Informe um ´numero para gerar seu fatorial: 6\n",
            "720\n"
          ]
        }
      ]
    },
    {
      "cell_type": "markdown",
      "source": [
        "### Momento dos projetos"
      ],
      "metadata": {
        "id": "oGNKuQjsJRdT"
      }
    },
    {
      "cell_type": "markdown",
      "source": [
        "#### Questão 6\n",
        "Escreva um programa que gere a tabuada de um número inteiro de 1 a 10, de acordo com a escolha da pessoa usuária. Como exemplo, para o número 2, a tabuada deve ser mostrada no seguinte formato:\n",
        "```\n",
        "Tabuada do 2:\n",
        "2 x 1 = 2\n",
        "2 x 2 = 4\n",
        "[...]\n",
        "2 x 10 = 20\n",
        "```"
      ],
      "metadata": {
        "id": "ODxaTUYmJRdS"
      }
    },
    {
      "cell_type": "code",
      "source": [
        "num = int(input('Informe um número inteiro para gerar a tabuada: '))\n",
        "contador = 0\n",
        "print( f'A tabuada do {num} é :')\n",
        "\n",
        "while contador < 10:\n",
        "  tabuada =  num * (contador + 1)\n",
        "  contador += 1\n",
        "\n",
        "  print(f' {contador} * {num} = {tabuada}' )\n"
      ],
      "metadata": {
        "id": "lkTlbxPIJRdS",
        "colab": {
          "base_uri": "https://localhost:8080/"
        },
        "outputId": "21062738-cddc-496c-f418-93ac208b0122"
      },
      "execution_count": 55,
      "outputs": [
        {
          "output_type": "stream",
          "name": "stdout",
          "text": [
            "Informe um número inteiro para gerar a tabuada: 6\n",
            "A tabuada do 6 é :\n",
            " 1 * 6 = 6\n",
            " 2 * 6 = 12\n",
            " 3 * 6 = 18\n",
            " 4 * 6 = 24\n",
            " 5 * 6 = 30\n",
            " 6 * 6 = 36\n",
            " 7 * 6 = 42\n",
            " 8 * 6 = 48\n",
            " 9 * 6 = 54\n",
            " 10 * 6 = 60\n"
          ]
        }
      ]
    },
    {
      "cell_type": "markdown",
      "source": [
        "#### Questão 7\n",
        "Os números primos possuem várias aplicações dentro da Ciência de Dados, por exemplo, na criptografia e segurança. Um número primo é aquele que é divisível apenas por um e por ele mesmo. Faça um programa que peça um número inteiro e determine se ele é ou não um número primo."
      ],
      "metadata": {
        "id": "LeIbnt8VJRdS"
      }
    },
    {
      "cell_type": "code",
      "source": [
        "num = int(input('Informe um número inteiro para saber se é primo: '))\n",
        "primo = 0\n",
        "\n",
        "for i in range(1,(num+1)):\n",
        "  if num%i == 0:\n",
        "   primo += 1\n",
        "\n",
        "if primo == 2:\n",
        "   print(f'O número {num} primo')\n",
        "else:\n",
        "    print(f'O número {num} não é primo')\n"
      ],
      "metadata": {
        "id": "2rcNU7twJRdS",
        "colab": {
          "base_uri": "https://localhost:8080/"
        },
        "outputId": "6d6495f3-3b7d-41dc-b60d-cca7ed19c2b0"
      },
      "execution_count": 56,
      "outputs": [
        {
          "output_type": "stream",
          "name": "stdout",
          "text": [
            "Informe um número inteiro para saber se é primo: 6\n",
            "O número 6 não é primo\n"
          ]
        }
      ]
    },
    {
      "cell_type": "markdown",
      "source": [
        "8) Vamos entender a distribuição de idades de pensionistas de uma empresa de previdência. Escreva um programa que leia as idades de uma quantidade não informada de clientes e mostre a distribuição em intervalos de [0-25], [26-50], [51-75] e [76-100]. Encerre a entrada de dados com um número negativo."
      ],
      "metadata": {
        "id": "MK6ax21NEHao"
      }
    },
    {
      "cell_type": "code",
      "source": [
        "idade = int(input('Informe a idade dos pensionistas: '))\n",
        "soma = 0\n",
        "idade_0_25 = 0\n",
        "idade_26_50 = 0\n",
        "idade_51_75  = 0\n",
        "idade_76_100 = 0\n",
        "\n",
        "while idade >= 0:\n",
        "      soma += 1\n",
        "      if  0 <= idade <=25:\n",
        "         idade_0_25 += 1\n",
        "      elif 26 <= idade <= 50:\n",
        "         idade_26_50 += 1\n",
        "      elif 51 <= idade <= 75:\n",
        "         idade_51_75 += 1\n",
        "      elif 76 <= idade <= 100:\n",
        "          idade_76_100 += 1\n",
        "      idade = int(input('Informe a idade dos pensionistas: '))\n",
        "\n",
        "print('\\nFaixa etária \\t Distrbuição das idades')\n",
        "print(f'[0  - 25] \\t\\t{idade_0_25}\\n[26 - 50] \\t\\t{idade_26_50}\\n[51 - 75] \\t\\t{idade_51_75}\\n[76 - 100] \\t\\t{idade_76_100}')\n"
      ],
      "metadata": {
        "id": "RP9Avx3mELYj",
        "colab": {
          "base_uri": "https://localhost:8080/"
        },
        "outputId": "2984a6b5-d60e-4614-ea42-89a6f2a929f5"
      },
      "execution_count": 57,
      "outputs": [
        {
          "output_type": "stream",
          "name": "stdout",
          "text": [
            "Informe a idade dos pensionistas: 54\n",
            "Informe a idade dos pensionistas: 36\n",
            "Informe a idade dos pensionistas: 45\n",
            "Informe a idade dos pensionistas: 23\n",
            "Informe a idade dos pensionistas: 0\n",
            "Informe a idade dos pensionistas: -5\n",
            "\n",
            "Faixa etária \t Distrbuição das idades\n",
            "[0  - 25] \t\t2\n",
            "[26 - 50] \t\t2\n",
            "[51 - 75] \t\t1\n",
            "[76 - 100] \t\t0\n"
          ]
        }
      ]
    },
    {
      "cell_type": "markdown",
      "source": [
        "#### Questão 9\n",
        "Em uma eleição para gerência em uma empresa com 20 funcionários, existem quatro candidatos. Escreva um programa que calcule o vencedor da eleição. A votação ocorreu da seguinte maneira:\n",
        "- Cada funcionário votou em um dos quatro candidatos (representados pelos números 1, 2, 3 e 4).\n",
        "- Também foram contabilizados os votos nulos (representado pelo número 5) e os votos em branco (representado pelo número 6).\n",
        "\n",
        "Ao final da votação, o programa deve exibir o total de votos para cada candidato, o número de votos nulos e o número de votos em branco. Além disso, deve calcular e exibir a porcentagem de votos nulos em relação ao total de votos e a porcentagem de votos em branco em relação ao total de votos."
      ],
      "metadata": {
        "id": "soJCQVwRJRdT"
      }
    },
    {
      "cell_type": "code",
      "source": [
        "candidato_1 = 0\n",
        "candidato_2 = 0\n",
        "candidato_3 = 0\n",
        "candidato_4 = 0\n",
        "voto_nulo = 0\n",
        "voto_branco = 0\n",
        "\n",
        "for candidato in range (1,21):\n",
        "    candidato = input('Informe o número do deu candidato: ')\n",
        "    if candidato == '1':\n",
        "       candidato_1 += 1\n",
        "    elif candidato == '2':\n",
        "         candidato_2 += 1\n",
        "    elif candidato == '3':\n",
        "         candidato_3 += 1\n",
        "    elif candidato == '4':\n",
        "         candidato_4 += 1\n",
        "    elif candidato == '6':\n",
        "         voto_branco += 1\n",
        "    else:\n",
        "         voto_nulo += 1\n",
        "\n",
        "votos_totais = int(candidato_1 +candidato_2 +candidato_3 + candidato_4)\n",
        "porc_nulos = float((voto_nulo/votos_totais)*100)\n",
        "porc_brancos = float((voto_branco/votos_totais)*100)\n",
        "\n",
        "print(f'\\nA quantidade de votos contados foi:\\nCandidatos\\tQuantidade de votos\\nCandidato 1\\t\\t{candidato_1}')\n",
        "print(f'Candidato 2\\t\\t{candidato_2}\\nCandidato 3\\t\\t{candidato_3}\\nCandidato 4\\t\\t{candidato_4}\\nVotos brancos\\t\\t{voto_branco}\\nVotos nulos\\t\\t{voto_nulo}')\n",
        "print(f'A porcentagem de votos nulos em relação ao total de votos é {porc_nulos} % e a porcentagem de votos em branco em relação ao total de votos {porc_brancos}%.')\n"
      ],
      "metadata": {
        "id": "041EFrgG-4gR",
        "colab": {
          "base_uri": "https://localhost:8080/"
        },
        "outputId": "b1e3421d-9668-4b53-fa4a-e27cf1f46a3c"
      },
      "execution_count": 58,
      "outputs": [
        {
          "output_type": "stream",
          "name": "stdout",
          "text": [
            "Informe o número do deu candidato: 2\n",
            "Informe o número do deu candidato: 5\n",
            "Informe o número do deu candidato: 5\n",
            "Informe o número do deu candidato: 9\n",
            "Informe o número do deu candidato: 2\n",
            "Informe o número do deu candidato: 3\n",
            "Informe o número do deu candidato: 1\n",
            "Informe o número do deu candidato: 2\n",
            "Informe o número do deu candidato: 5\n",
            "Informe o número do deu candidato: 6\n",
            "Informe o número do deu candidato: 6\n",
            "Informe o número do deu candidato: 5\n",
            "Informe o número do deu candidato: 4\n",
            "Informe o número do deu candidato: 9\n",
            "Informe o número do deu candidato: 5\n",
            "Informe o número do deu candidato: 4\n",
            "Informe o número do deu candidato: 2\n",
            "Informe o número do deu candidato: 6\n",
            "Informe o número do deu candidato: 0\n",
            "Informe o número do deu candidato: 3\n",
            "\n",
            "A quantidade de votos contados foi:\n",
            "Candidatos\tQuantidade de votos\n",
            "Candidato 1\t\t1\n",
            "Candidato 2\t\t4\n",
            "Candidato 3\t\t2\n",
            "Candidato 4\t\t2\n",
            "Votos brancos\t\t3\n",
            "Votos nulos\t\t8\n",
            "A porcentagem de votos nulos em relação ao total de votos é 88.88888888888889 % e a porcentagem de votos em branco em relação ao total de votos 33.33333333333333%.\n"
          ]
        }
      ]
    },
    {
      "cell_type": "markdown",
      "source": [
        "## Aula 5 - Estruturas de dados"
      ],
      "metadata": {
        "id": "eijHQiNU2IZ7"
      }
    },
    {
      "cell_type": "markdown",
      "source": [
        "### Aquecendo na programação"
      ],
      "metadata": {
        "id": "92F0bKtBMgd7"
      }
    },
    {
      "cell_type": "markdown",
      "source": [
        "#### Questão 1\n",
        "Faça um programa que tenha a seguinte lista contendo os valores de gastos de uma empresa de papel `[2172.54, 3701.35, 3518.09, 3456.61, 3249.38, 2840.82, 3891.45, 3075.26, 2317.64, 3219.08]`. Com esses valores, faça um programa que calcule a média de gastos. Dica, use as funções built-in [`sum()`](https://docs.python.org/3/library/functions.html#sum) e [`len()`](https://docs.python.org/3/library/functions.html#len)."
      ],
      "metadata": {
        "id": "IypX2ANuMgeC"
      }
    },
    {
      "cell_type": "code",
      "source": [
        "gastos = [2172.54, 3701.35, 3518.09, 3456.61, 3249.38, 2840.82, 3891.45, 3075.26, 2317.64, 3219.08]\n",
        "\n",
        "media = sum(gastos)/len(gastos)\n",
        "\n",
        "print(f'A média dos gastos é R$ {media}')\n"
      ],
      "metadata": {
        "id": "ge3LuFhLMgeD",
        "colab": {
          "base_uri": "https://localhost:8080/"
        },
        "outputId": "ca28a2bc-6943-472b-d544-9cb4ee5e7ead"
      },
      "execution_count": 59,
      "outputs": [
        {
          "output_type": "stream",
          "name": "stdout",
          "text": [
            "A média dos gastos é R$ 3144.222\n"
          ]
        }
      ]
    },
    {
      "cell_type": "markdown",
      "source": [
        "#### Questão 2\n",
        " Com os mesmos dados da questão anterior, defina quantas compras foram acima de 3000 reais e calcule a porcentagem quanto ao total de compras."
      ],
      "metadata": {
        "id": "xrOeLhQkMgeD"
      }
    },
    {
      "cell_type": "code",
      "source": [
        "gastos = [2172.54, 3701.35, 3518.09, 3456.61, 3249.38, 2840.82, 3891.45, 3075.26, 2317.64, 3219.08]\n",
        "valores = 0 #valores acima de 3000.00\n",
        "\n",
        "for i in gastos:\n",
        "  if i > 3000:\n",
        "    valores += 1\n",
        "\n",
        "quantidade_gastos = len(gastos)\n",
        "porcentagem = (valores/quantidade_gastos)*100\n",
        "\n",
        "print(f'{valores} compras foram acima de R$3000,00.')\n",
        "print(f'{porcentagem}% dos gastos foram acima de R$3000,00.')\n",
        "\n"
      ],
      "metadata": {
        "id": "Ygu5TMZyMgeD",
        "colab": {
          "base_uri": "https://localhost:8080/"
        },
        "outputId": "24ffa35e-9bfc-480a-c9ce-77db3b63e1de"
      },
      "execution_count": 60,
      "outputs": [
        {
          "output_type": "stream",
          "name": "stdout",
          "text": [
            "7 compras foram acima de R$3000,00.\n",
            "70.0% dos gastos foram acima de R$3000,00.\n"
          ]
        }
      ]
    },
    {
      "cell_type": "markdown",
      "source": [
        "#### Questão 3\n",
        "Faça um código que colete em uma lista 5 números inteiros quaisquer e imprima a lista. Exemplo: `[1,4,7,2,4]`."
      ],
      "metadata": {
        "id": "JgCOrE_BMgeD"
      }
    },
    {
      "cell_type": "code",
      "source": [
        "lista = []\n",
        "\n",
        "for i in range(5):\n",
        "   num = int(input('Informe um numero: '))\n",
        "   lista.append(num)\n",
        "\n",
        "\n",
        "print(f'A lista de números escolhidos é {lista}')"
      ],
      "metadata": {
        "id": "vtM9O1hLMgeD",
        "colab": {
          "base_uri": "https://localhost:8080/"
        },
        "outputId": "cba93015-19b0-4c44-f1bb-cb4fb14380b9"
      },
      "execution_count": 61,
      "outputs": [
        {
          "output_type": "stream",
          "name": "stdout",
          "text": [
            "Informe um numero: 5\n",
            "Informe um numero: 4\n",
            "Informe um numero: 0\n",
            "Informe um numero: 1\n",
            "Informe um numero: 6\n",
            "A lista de números escolhidos é [5, 4, 0, 1, 6]\n"
          ]
        }
      ]
    },
    {
      "cell_type": "markdown",
      "source": [
        "#### Questão 4\n",
        "Colete novamente 5 inteiros e imprima a lista em ordem inversa à enviada."
      ],
      "metadata": {
        "id": "p3bTp88HMgeD"
      }
    },
    {
      "cell_type": "code",
      "source": [
        "lista = []\n",
        "\n",
        "for i in range(5):\n",
        "   num = int(input('Informe um numero: '))\n",
        "   lista.append(num)\n",
        "\n",
        "print(f'A lista de números escolhidos é {lista[::-1]}')"
      ],
      "metadata": {
        "id": "-CGwMIyHMgeD",
        "colab": {
          "base_uri": "https://localhost:8080/"
        },
        "outputId": "255906e3-3ceb-4aea-e5c1-7c86486076d6"
      },
      "execution_count": 62,
      "outputs": [
        {
          "output_type": "stream",
          "name": "stdout",
          "text": [
            "Informe um numero: 5\n",
            "Informe um numero: 6\n",
            "Informe um numero: 1\n",
            "Informe um numero: 8\n",
            "Informe um numero: 6\n",
            "A lista de números escolhidos é [6, 8, 1, 6, 5]\n"
          ]
        }
      ]
    },
    {
      "cell_type": "markdown",
      "source": [
        "#### Questão 5\n",
        "Faça um programa que, ao inserir um número qualquer, criará uma lista contendo todos os números primos entre 1 e o número digitado."
      ],
      "metadata": {
        "id": "eIXd_z1lMgeD"
      }
    },
    {
      "cell_type": "code",
      "source": [
        "num = int(input('Informe um numero: '))\n",
        "lista_primos = []\n",
        "\n",
        "for intervalo in range(2,num):\n",
        "    primo = True\n",
        "    for teste_primo in range(2,intervalo):\n",
        "        if intervalo%teste_primo == 0:\n",
        "          primo = False\n",
        "          break\n",
        "    if primo:\n",
        "      lista_primos.append(intervalo)\n",
        "\n",
        "\n",
        "print(f'A lista de números primos entre 1 e {num} é {lista_primos}')\n",
        "\n"
      ],
      "metadata": {
        "id": "rj_6GHstMgeE",
        "colab": {
          "base_uri": "https://localhost:8080/"
        },
        "outputId": "c28ebae6-a8c0-4647-d0d8-1b0a1d7971df"
      },
      "execution_count": 63,
      "outputs": [
        {
          "output_type": "stream",
          "name": "stdout",
          "text": [
            "Informe um numero: 5\n",
            "A lista de números primos entre 1 e 5 é [2, 3]\n"
          ]
        }
      ]
    },
    {
      "cell_type": "markdown",
      "source": [
        "#### Questão 6\n",
        "Escreva um programa que peça uma data informando o dia, mês e ano e determine se ela é uma data válida para uma análise."
      ],
      "metadata": {
        "id": "zrbz3ENlMgeE"
      }
    },
    {
      "cell_type": "code",
      "source": [
        "dia = int(input('Informe um dia: '))\n",
        "mês = int(input('Informe um mês: '))\n",
        "ano = int(input('Informe um ano: '))\n",
        "mes_31 = ( 1, 3, 5, 7, 8, 10, 12)\n",
        "mes_30 = (4, 6, 9, 11)\n",
        "data = False\n",
        "\n",
        "if mês in mes_31:\n",
        "    if dia <= 31:\n",
        "       data = True\n",
        "elif mês in mes_30:\n",
        "     if dia <= 30:\n",
        "       data = True\n",
        "elif mês == 2:\n",
        "    if (ano%4 == 0 and ano%100 != 0) or (ano%400 == 0) :\n",
        "        if dia <= 29:\n",
        "         data =True\n",
        "        elif dia <= 28:\n",
        "           data = True\n",
        "\n",
        "if(data):\n",
        "        print('Data válida')\n",
        "else:\n",
        "        print('Inválida')"
      ],
      "metadata": {
        "id": "0eYA8UjTMgeE",
        "colab": {
          "base_uri": "https://localhost:8080/"
        },
        "outputId": "4a50fed0-e910-47f0-b7ff-c3e2b70c1eed"
      },
      "execution_count": 64,
      "outputs": [
        {
          "output_type": "stream",
          "name": "stdout",
          "text": [
            "Informe um dia: 5\n",
            "Informe um mês: 9\n",
            "Informe um ano: 2020\n",
            "Data válida\n"
          ]
        }
      ]
    },
    {
      "cell_type": "markdown",
      "source": [
        "### Momento dos projetos"
      ],
      "metadata": {
        "id": "ut_4VHdGMgeE"
      }
    },
    {
      "cell_type": "markdown",
      "source": [
        "#### Questão 7\n",
        "Para um estudo envolvendo o nível de multiplicação de bactérias em uma colônia, foi coletado o número de bactérias multiplicadas por dia, com base em um processo de duplicação diária e pode ser observado a seguir: `[1.2, 2.1, 3.3, 5.0, 7.8, 11.3, 16.6, 25.1, 37.8, 56.9]`. Tendo esses valores, faça um código que gere uma lista contendo o percentual de crescimento de bactérias por dia, comparando o número de bactérias em cada dia com o número de bactérias do dia anterior. Dica: para calcular o percentual de crescimento usamos a seguinte equação: `100 * (amostra_atual - amostra_passada) / (amostra_passada)`."
      ],
      "metadata": {
        "id": "G86Z0vD_MgeE"
      }
    },
    {
      "cell_type": "code",
      "source": [
        "duplicacao = [1.2, 2.1, 3.3, 5.0, 7.8, 11.3, 16.6, 25.1, 37.8, 56.9]\n",
        "porcentagem_crescimento = []\n",
        "a, b = 0, 1\n",
        "\n",
        "while b < 10:\n",
        "     percentual=((duplicacao[b]-duplicacao[a])/duplicacao[a])*100\n",
        "     a, b = b, b+1\n",
        "     porcentagem_crescimento.append(percentual)\n",
        "\n",
        "\n",
        "print(f'A taxa de porcentagem de crescimento:\\n{porcentagem_crescimento}')"
      ],
      "metadata": {
        "id": "PXNO_CFkMgeE",
        "colab": {
          "base_uri": "https://localhost:8080/"
        },
        "outputId": "d94a384f-3bc4-48d5-cf41-d64a62380ec7"
      },
      "execution_count": 65,
      "outputs": [
        {
          "output_type": "stream",
          "name": "stdout",
          "text": [
            "A taxa de porcentagem de crescimento:\n",
            "[75.00000000000001, 57.14285714285713, 51.51515151515152, 55.99999999999999, 44.87179487179488, 46.902654867256636, 51.20481927710843, 50.59760956175297, 50.52910052910053]\n"
          ]
        }
      ]
    },
    {
      "cell_type": "markdown",
      "source": [
        "#### Questão 8\n",
        "Para uma seleção de produtos alimentícios, precisamos separar o conjunto de IDs dados por números inteiros, sabendo que os produtos com ID par são doces e os com ID ímpar são amargos. Monte um código que colete 10 IDs. Depois, calcule e mostre a quantidade de produtos doces e amargos."
      ],
      "metadata": {
        "id": "p4nxogpnMgeE"
      }
    },
    {
      "cell_type": "code",
      "source": [
        "id = ()\n",
        "doce = 0\n",
        "amargo = 0\n",
        "\n",
        "\n",
        "for i in range (0,10):\n",
        "    id = (int(input(f'Informe o {i+1}° ID do produto:  ')))\n",
        "    if id%2 == 0:\n",
        "      doce += 1\n",
        "    elif id%2 != 0:\n",
        "       amargo += 1\n",
        "\n",
        "\n",
        "print(f'A quantidade de itens doces são {doce}.')\n",
        "print(f'A quantidade de itens amargos são {amargo}.')"
      ],
      "metadata": {
        "id": "WqjO2SZkMgeE",
        "colab": {
          "base_uri": "https://localhost:8080/"
        },
        "outputId": "8ddb6ef9-e058-45a7-e5be-fa1b658a1639"
      },
      "execution_count": 66,
      "outputs": [
        {
          "output_type": "stream",
          "name": "stdout",
          "text": [
            "Informe o 1° ID do produto:  5\n",
            "Informe o 2° ID do produto:  4\n",
            "Informe o 3° ID do produto:  9\n",
            "Informe o 4° ID do produto:  3\n",
            "Informe o 5° ID do produto:  0\n",
            "Informe o 6° ID do produto:  8\n",
            "Informe o 7° ID do produto:  12\n",
            "Informe o 8° ID do produto:  35\n",
            "Informe o 9° ID do produto:  96\n",
            "Informe o 10° ID do produto:  75\n",
            "A quantidade de itens doces são 5.\n",
            "A quantidade de itens amargos são 5.\n"
          ]
        }
      ]
    },
    {
      "cell_type": "markdown",
      "source": [
        "#### Questão 9\n",
        "Desenvolva um programa que informa a nota de um aluno de acordo com suas respostas. Ele deve pedir a resposta de um aluno para cada questão e é preciso verificar se a resposta foi igual ao gabarito. Cada questão vale um ponto e existem alternativas:  A, B, C ou D.\n",
        "```\n",
        "Gabarito da Prova:\n",
        "01 - D\n",
        "02 - A\n",
        "03 - C\n",
        "04 - B\n",
        "05 - A\n",
        "06 - D\n",
        "07 - C\n",
        "08 - C\n",
        "09 - A\n",
        "10 - B\n",
        "```"
      ],
      "metadata": {
        "id": "t5OrLxV6MgeE"
      }
    },
    {
      "cell_type": "code",
      "source": [
        "gabarito = ['D', 'A', 'C', 'B', 'A', 'D', 'C', 'C', 'A', 'B']\n",
        "respostas = []\n",
        "nota = 0\n",
        "\n",
        "for i in range (0,10):\n",
        "    i = input(f'Informe a resposta da {i+1}° questão:  ')\n",
        "    respostas.append(i.upper())\n",
        "for i in range (0,10):\n",
        "  if respostas[i] == gabarito[i]:\n",
        "   nota += 1\n",
        "\n",
        "print(f'A nota do aluno é {nota}')\n"
      ],
      "metadata": {
        "id": "ytIQDJrQMgeE",
        "colab": {
          "base_uri": "https://localhost:8080/"
        },
        "outputId": "f500756b-d1ad-440e-dfb9-50fc99b28048"
      },
      "execution_count": 67,
      "outputs": [
        {
          "output_type": "stream",
          "name": "stdout",
          "text": [
            "Informe a resposta da 1° questão:  a\n",
            "Informe a resposta da 2° questão:  c\n",
            "Informe a resposta da 3° questão:  b\n",
            "Informe a resposta da 4° questão:  c\n",
            "Informe a resposta da 5° questão:  a\n",
            "Informe a resposta da 6° questão:  b\n",
            "Informe a resposta da 7° questão:  c\n",
            "Informe a resposta da 8° questão:  a\n",
            "Informe a resposta da 9° questão:  d\n",
            "Informe a resposta da 10° questão:  c\n",
            "A nota do aluno é 2\n"
          ]
        }
      ]
    },
    {
      "cell_type": "markdown",
      "source": [
        "#### Questão 10\n",
        "Um instituto de meteorologia deseja fazer um estudo de temperatura média de cada mês do ano. Para isso, você precisa fazer um código que colete e armazene essas temperaturas médias em uma lista. Depois, calcule a média anual das temperaturas e mostre todas as temperaturas acima da média anual, e em que mês elas ocorreram, mostrando os meses por extenso: Janeiro, Fevereiro, etc."
      ],
      "metadata": {
        "id": "aSBMzh-AMgeF"
      }
    },
    {
      "cell_type": "code",
      "source": [
        "temperaturas_media = []\n",
        "meses = ['Janeiro', 'Fevereiro', 'Março', 'Abril', 'Maio', 'Junho', 'Julho', 'Agosto', 'Setembro', 'Outubro', 'Novembro', 'Dezembro']\n",
        "\n",
        "for i in range (0,12):\n",
        "    i = float(input(f'Informe a temperatura média do mês {i+1}:  '))\n",
        "    temperaturas_media.append(i)\n",
        "    media = sum(temperaturas_media)/len(temperaturas_media)\n",
        "\n",
        "for i in range (0,12):\n",
        "  if temperaturas_media[i] > media:\n",
        "     print(f'Os meses foram {meses[i]}')\n"
      ],
      "metadata": {
        "id": "ftj04s2uMgeF",
        "colab": {
          "base_uri": "https://localhost:8080/"
        },
        "outputId": "2ca0e931-fcf5-4a4e-c14a-550a055f7af9"
      },
      "execution_count": 68,
      "outputs": [
        {
          "output_type": "stream",
          "name": "stdout",
          "text": [
            "Informe a temperatura média do mês 1:  31\n",
            "Informe a temperatura média do mês 2:  29\n",
            "Informe a temperatura média do mês 3:  31.5\n",
            "Informe a temperatura média do mês 4:  21\n",
            "Informe a temperatura média do mês 5:  26\n",
            "Informe a temperatura média do mês 6:  25\n",
            "Informe a temperatura média do mês 7:  32\n",
            "Informe a temperatura média do mês 8:  29\n",
            "Informe a temperatura média do mês 9:  27\n",
            "Informe a temperatura média do mês 10:  28\n",
            "Informe a temperatura média do mês 11:  21\n",
            "Informe a temperatura média do mês 12:  20\n",
            "Os meses foram Janeiro\n",
            "Os meses foram Fevereiro\n",
            "Os meses foram Março\n",
            "Os meses foram Julho\n",
            "Os meses foram Agosto\n",
            "Os meses foram Setembro\n",
            "Os meses foram Outubro\n"
          ]
        }
      ]
    },
    {
      "cell_type": "markdown",
      "source": [
        "#### Questão 11\n",
        "Uma empresa de e-commerce está interessada em analisar as vendas dos seus produtos. Os dados das vendas foram armazenados em um dicionário:\n",
        "```\n",
        "{'Produto A': 300, 'Produto B': 80, 'Produto C': 60,\n",
        " 'Produto D': 200, 'Produto E': 250, 'Produto F': 30}\n",
        "```\n",
        "Escreva um código que calcule o total de vendas e o produto mais vendido."
      ],
      "metadata": {
        "id": "0X8S6s4jMgeF"
      }
    },
    {
      "cell_type": "code",
      "source": [
        "dados = {'Produto A':300,'Produto B':80,'Produto C':60,\n",
        "         'Produto D':200,'Produto E':250,'Produto F':30}\n",
        "\n",
        "total_vendas = 0\n",
        "produto_mais_vendido = ''\n",
        "unidades_vendidas = 0\n",
        "\n",
        "for i in dados.keys():\n",
        "   total_vendas += dados[i]\n",
        "   if dados[i] > unidades_vendidas:\n",
        "      unidades_vendidas = dados[i]\n",
        "      produto_mais_vendido = i\n",
        "\n",
        "print(f'O total das vendas foi {total_vendas}.')\n",
        "print(f'O {produto_mais_vendido} é o mais vendido.')\n"
      ],
      "metadata": {
        "id": "Xa3DJLtFMgeF",
        "colab": {
          "base_uri": "https://localhost:8080/"
        },
        "outputId": "1e23d212-6b99-4b79-cf51-b4d8a2b6b396"
      },
      "execution_count": 69,
      "outputs": [
        {
          "output_type": "stream",
          "name": "stdout",
          "text": [
            "O total das vendas foi 920.\n",
            "O Produto A é o mais vendido.\n"
          ]
        }
      ]
    },
    {
      "cell_type": "markdown",
      "source": [
        "#### Questão 12\n",
        "Uma pesquisa de mercado foi feita para decidir qual design de uma marca infantil mais agrada crianças. A pesquisa foi feita e o votos computados podem ser observados abaixo:\n",
        "```\n",
        "'''\n",
        "Tabela de votos da marca\n",
        "Design 1 - 1334 votos\n",
        "Design 2 - 982 votos\n",
        "Design 3 - 1751 votos\n",
        "Design 4 - 210 votos\n",
        "Design 5 - 1811 votos\n",
        "'''\n",
        "```\n",
        "Adapte os dados fornecidos a você para uma estrutura de dicionário e a partir dele, informe o design vencedor e a porcentagem de votos recebidos.\n"
      ],
      "metadata": {
        "id": "nrEwf_1ZMgeF"
      }
    },
    {
      "cell_type": "code",
      "source": [
        "tabela_votos = {'Design 1': 1334, 'Design 2':982, 'Design 3':1751, 'Design 4':210, 'Design 5': 1811}\n",
        "votos_total = 0\n",
        "design = ''\n",
        "quantidade_votos = 0\n",
        "percentual = 0\n",
        "\n",
        "for votos in tabela_votos.keys():\n",
        "    votos_total += tabela_votos[votos]\n",
        "    if tabela_votos[votos] >  quantidade_votos:\n",
        "       quantidade_votos = tabela_votos[votos]\n",
        "       design = votos\n",
        "       percentual = (quantidade_votos/votos_total)*100\n",
        "\n",
        "\n",
        "print(f'O {design} é o vencedor com {percentual:.2f} % dos votos.')\n"
      ],
      "metadata": {
        "id": "MRPcGR-_MgeF",
        "colab": {
          "base_uri": "https://localhost:8080/"
        },
        "outputId": "6fc4dbf0-565b-423a-ec7e-2fcbe05852e4"
      },
      "execution_count": 70,
      "outputs": [
        {
          "output_type": "stream",
          "name": "stdout",
          "text": [
            "O Design 5 é o vencedor com 29.75 % dos votos.\n"
          ]
        }
      ]
    },
    {
      "cell_type": "markdown",
      "source": [
        "#### Questão 13\n",
        "Os funcionários de um setor da empresa que você trabalha vão receber um abono correspondente a 10% do seu salário devido ao ótimo desempenho do time. O setor financeiro solicitou sua ajuda para a verificação das consequências financeiras que esse abono irá gerar nos recursos. Assim, foi encaminhada para você uma lista com os salários que receberão o abono: `[1172, 1644, 2617, 5130, 5532, 6341, 6650, 7238, 7685, 7782, 7903]`. O abono de cada funcionário não pode ser inferior a 200. Em código, transforme cada um dos salários em chaves de um dicionário e o abono de cada salário no elemento. Depois, informe o total de gastos com o abono, quantos funcionários receberam o abono mínimo e qual o maior valor de abono fornecido.\n"
      ],
      "metadata": {
        "id": "HRTFFzKIMgeF"
      }
    },
    {
      "cell_type": "code",
      "source": [
        "salario = [1172, 1644, 2617, 5130, 5532, 6341, 6650, 7238, 7685, 7782, 7903]\n",
        "dicionario_abono = {}\n",
        "abono = 0\n",
        "abono_total = 0\n",
        "abono_minimo = 0\n",
        "maior_abono = 0\n",
        "\n",
        "for sal in salario:\n",
        "    abono = sal * 0.1\n",
        "    if abono < 200:\n",
        "        abono = 200\n",
        "    dicionario_abono[sal] = abono\n",
        "\n",
        "for valor in dicionario_abono.values():\n",
        "    abono_total += valor\n",
        "    if valor == 200:\n",
        "       abono_minimo += 1\n",
        "    elif valor > maior_abono:\n",
        "         maior_abono = valor\n",
        "\n",
        "print(f'Salarios:abonos {dicionario_abono}')\n",
        "print(f'O valor total dos abonos foi de R${abono_total}')\n",
        "print(f'{abono_minimo} funcionários receberam o abono minimo')\n",
        "print(f'maior abono foi no valor de R$ {maior_abono:2f} .')\n",
        "\n",
        "\n"
      ],
      "metadata": {
        "id": "QsDSCua42bLB",
        "colab": {
          "base_uri": "https://localhost:8080/"
        },
        "outputId": "8292b20f-91f7-4f6a-d5ce-1344fa7fa0de"
      },
      "execution_count": 71,
      "outputs": [
        {
          "output_type": "stream",
          "name": "stdout",
          "text": [
            "Salarios:abonos {1172: 200, 1644: 200, 2617: 261.7, 5130: 513.0, 5532: 553.2, 6341: 634.1, 6650: 665.0, 7238: 723.8000000000001, 7685: 768.5, 7782: 778.2, 7903: 790.3000000000001}\n",
            "O valor total dos abonos foi de R$6087.8\n",
            "2 funcionários receberam o abono minimo\n",
            "maior abono foi no valor de R$ 790.300000 .\n"
          ]
        }
      ]
    },
    {
      "cell_type": "markdown",
      "source": [
        "#### Questão 14\n",
        "Uma equipe de cientistas de dados está estudando a diversidade biológica em uma floresta. A equipe fez a coleta de informações sobre o número de espécies de plantas e animais em cada área da floresta e armazenaram essas informações em um dicionário. Nele, a chave descreve a área dos dados e os valores nas listas correspondem às espécies de plantas e animais nas áreas, respectivamente.\n",
        "```\n",
        "{'Área Norte': [2819, 7236],\n",
        " 'Área Leste': [1440, 9492],\n",
        " 'Área Sul': [5969, 7496],\n",
        " 'Área Oeste': [14446, 49688],\n",
        " 'Área Centro': [22558, 45148]}\n",
        "```\n",
        "Escreva um código para calcular a média de espécies por área e identificar a área com a maior diversidade biológica. Dica: use as funções built-in [`sum()`](https://docs.python.org/3/library/functions.html#sum) e [`len()`](https://docs.python.org/3/library/functions.html#len).\n"
      ],
      "metadata": {
        "id": "6dEXZEwjMlWy"
      }
    },
    {
      "cell_type": "code",
      "source": [
        "inventario = {'Área Norte':[2819,7236],  'Área Leste': [1440, 9492], 'Área Sul':[5969,7496],\n",
        "'Área Oeste':[14446,49688], 'Área Centro':[22558,45148]}\n",
        "\n",
        "media_area = 0\n",
        "media_geral = 0\n",
        "maior_diver = 0\n",
        "soma_media = 0\n",
        "\n",
        "print(f'Média de especies por área:')\n",
        "\n",
        "for area in inventario.keys():\n",
        "    media_area = sum(inventario[area])/len(inventario[area])\n",
        "    print(f'{area}\\t{media_area}')\n",
        "    soma_media += media_area\n",
        "    media_geral = soma_media/len(inventario)\n",
        "    if media_area > maior_diver:\n",
        "      maior_diver = media_area\n",
        "      media_area = area\n",
        "\n",
        "print(f'\\n Media geral de especies: {media_geral}')\n",
        "print(f'\\nA área com maior diversidade biologica: {area}.')\n",
        "inventario[area]\n"
      ],
      "metadata": {
        "id": "eQnOUDfYMlWy",
        "colab": {
          "base_uri": "https://localhost:8080/"
        },
        "outputId": "40ad45d1-bbb3-4544-d3cc-557ccb1e8899"
      },
      "execution_count": 72,
      "outputs": [
        {
          "output_type": "stream",
          "name": "stdout",
          "text": [
            "Média de especies por área:\n",
            "Área Norte\t5027.5\n",
            "Área Leste\t5466.0\n",
            "Área Sul\t6732.5\n",
            "Área Oeste\t32067.0\n",
            "Área Centro\t33853.0\n",
            "\n",
            " Media geral de especies: 16629.2\n",
            "\n",
            "A área com maior diversidade biologica: Área Centro.\n"
          ]
        },
        {
          "output_type": "execute_result",
          "data": {
            "text/plain": [
              "[22558, 45148]"
            ]
          },
          "metadata": {},
          "execution_count": 72
        }
      ]
    },
    {
      "cell_type": "markdown",
      "source": [
        "#### Questão 15\n",
        "O setor de RH da sua empresa te pediu uma ajuda para analisar as idades dos funcionários de 4 setores da empresa. Para isso, ele te forneceu os seguintes dados:\n",
        "```\n",
        "{'Setor A': [22, 26, 30, 30, 35, 38, 40, 56, 57, 65],\n",
        " 'Setor B': [22, 24, 26, 33, 41, 49, 50, 54, 60, 64],\n",
        " 'Setor C': [23, 26, 26, 29, 34, 35, 36, 41, 52, 56],\n",
        " 'Setor D': [19, 20, 25, 27, 34, 39, 42, 44, 50, 65]}\n",
        "```\n",
        "Sabendo que cada setor tem 10 funcionários, construa um código que calcule a média de idade de cada setor, a idade média geral entre todos os setores e quantas pessoas estão acima da idade média geral.\n"
      ],
      "metadata": {
        "id": "r0RW2Sy_MlWy"
      }
    },
    {
      "cell_type": "code",
      "source": [
        "dados = {'Setor A': [22, 26, 30, 30, 35, 38, 40, 56, 57, 65],\n",
        "         'Setor B': [22, 24, 26, 33, 41, 49, 50, 54, 60, 64],\n",
        "         'Setor C': [23, 26, 26, 29, 34, 35, 36, 41, 52, 56],\n",
        "         'Setor D': [19, 20, 25, 27, 34, 39, 42, 44, 50, 65]}\n",
        "\n",
        "soma_idade = 0\n",
        "soma_geral = 0\n",
        "media_setor = 0\n",
        "media_geral = 0\n",
        "acima_media_geral = 0\n",
        "\n",
        "for setor, idade in dados.items():\n",
        "    soma_idade = sum(idade)\n",
        "    media_setor = soma_idade/len(idade)\n",
        "    print(f'Média de idade do {setor}: {media_setor}')\n",
        "    soma_geral += media_setor\n",
        "    media_geral = soma_geral/len(dados)\n",
        "print(f'Média geral {media_geral}')\n",
        "\n",
        "for setor, idade in dados.items():\n",
        "    for idades in idade:\n",
        "      if idades > media_geral:\n",
        "        acima_media_geral += 1\n",
        "print(f'{acima_media_geral} pessoas estão acima da idade média geral')\n",
        "\n",
        "\n"
      ],
      "metadata": {
        "id": "wCiwyKP3MmTz",
        "colab": {
          "base_uri": "https://localhost:8080/"
        },
        "outputId": "ffa7bb43-de03-4ea0-d787-47c217b25e67"
      },
      "execution_count": 73,
      "outputs": [
        {
          "output_type": "stream",
          "name": "stdout",
          "text": [
            "Média de idade do Setor A: 39.9\n",
            "Média de idade do Setor B: 42.3\n",
            "Média de idade do Setor C: 35.8\n",
            "Média de idade do Setor D: 36.5\n",
            "Média geral 38.625\n",
            "18 pessoas estão acima da idade média geral\n"
          ]
        }
      ]
    }
  ]
}